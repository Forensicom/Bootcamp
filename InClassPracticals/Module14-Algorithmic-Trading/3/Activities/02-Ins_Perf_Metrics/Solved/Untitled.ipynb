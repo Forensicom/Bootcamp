{
 "cells": [
  {
   "cell_type": "code",
   "execution_count": 11,
   "id": "bcce0bfd-449c-447b-8e9a-0e199c793a89",
   "metadata": {},
   "outputs": [],
   "source": [
    "import psutil\n",
    "import pandas as pd"
   ]
  },
  {
   "cell_type": "code",
   "execution_count": 12,
   "id": "5b10dc29-f2e4-4406-bf9f-a62da050dd77",
   "metadata": {},
   "outputs": [
    {
     "data": {
      "text/plain": [
       "psutil.Process(pid=20292, name='python.exe', status='running', started='09:49:45')"
      ]
     },
     "execution_count": 12,
     "metadata": {},
     "output_type": "execute_result"
    }
   ],
   "source": [
    "psutil.Process()"
   ]
  },
  {
   "cell_type": "code",
   "execution_count": 6,
   "id": "69a828c1-76e9-4081-92aa-816017a00ff1",
   "metadata": {},
   "outputs": [
    {
     "data": {
      "text/plain": [
       "psutil.Process(pid=20292, name='python.exe', status='running', started='09:49:45')"
      ]
     },
     "execution_count": 6,
     "metadata": {},
     "output_type": "execute_result"
    }
   ],
   "source": [
    "x = psutil\n",
    "x.Process()"
   ]
  },
  {
   "cell_type": "code",
   "execution_count": 9,
   "id": "eaca4064-7da7-4ea1-80f1-a1c1a3bb8713",
   "metadata": {},
   "outputs": [
    {
     "ename": "AttributeError",
     "evalue": "module 'psutil' has no attribute 'memory_info'",
     "output_type": "error",
     "traceback": [
      "\u001b[1;31m---------------------------------------------------------------------------\u001b[0m",
      "\u001b[1;31mAttributeError\u001b[0m                            Traceback (most recent call last)",
      "\u001b[1;32m~\\AppData\\Local\\Temp\\ipykernel_20292\\2786890726.py\u001b[0m in \u001b[0;36m<module>\u001b[1;34m\u001b[0m\n\u001b[0;32m      1\u001b[0m \u001b[1;31m#x.memory_map()\u001b[0m\u001b[1;33m\u001b[0m\u001b[1;33m\u001b[0m\u001b[0m\n\u001b[1;32m----> 2\u001b[1;33m \u001b[0mx\u001b[0m\u001b[1;33m.\u001b[0m\u001b[0mmemory_info\u001b[0m\u001b[1;33m(\u001b[0m\u001b[1;33m)\u001b[0m\u001b[1;33m\u001b[0m\u001b[1;33m\u001b[0m\u001b[0m\n\u001b[0m",
      "\u001b[1;31mAttributeError\u001b[0m: module 'psutil' has no attribute 'memory_info'"
     ]
    }
   ],
   "source": [
    "#x.memory_map()\n",
    "x.memory_info()"
   ]
  },
  {
   "cell_type": "code",
   "execution_count": 5,
   "id": "81ee120b-d4c7-4a16-96e2-102769fd7116",
   "metadata": {},
   "outputs": [
    {
     "data": {
      "text/plain": [
       "[]"
      ]
     },
     "execution_count": 5,
     "metadata": {},
     "output_type": "execute_result"
    }
   ],
   "source": [
    "x.children()"
   ]
  },
  {
   "cell_type": "code",
   "execution_count": 13,
   "id": "9c3dc5ea-41c8-47d5-ac57-2d2052d1cf8b",
   "metadata": {},
   "outputs": [
    {
     "ename": "AttributeError",
     "evalue": "module 'psutil' has no attribute 'connections'",
     "output_type": "error",
     "traceback": [
      "\u001b[1;31m---------------------------------------------------------------------------\u001b[0m",
      "\u001b[1;31mAttributeError\u001b[0m                            Traceback (most recent call last)",
      "\u001b[1;32m~\\AppData\\Local\\Temp\\ipykernel_20292\\1536758292.py\u001b[0m in \u001b[0;36m<module>\u001b[1;34m\u001b[0m\n\u001b[1;32m----> 1\u001b[1;33m \u001b[0mpsutil\u001b[0m\u001b[1;33m.\u001b[0m\u001b[0mconnections\u001b[0m\u001b[1;33m(\u001b[0m\u001b[0mkind\u001b[0m\u001b[1;33m=\u001b[0m\u001b[1;34m\"inet\"\u001b[0m\u001b[1;33m)\u001b[0m\u001b[1;33m\u001b[0m\u001b[1;33m\u001b[0m\u001b[0m\n\u001b[0m",
      "\u001b[1;31mAttributeError\u001b[0m: module 'psutil' has no attribute 'connections'"
     ]
    }
   ],
   "source": [
    "psutil.connections(kind=\"inet\")"
   ]
  },
  {
   "cell_type": "code",
   "execution_count": null,
   "id": "61924228-92de-4e28-87ea-474c8fe9b213",
   "metadata": {},
   "outputs": [],
   "source": []
  }
 ],
 "metadata": {
  "kernelspec": {
   "display_name": "Python 3 (ipykernel)",
   "language": "python",
   "name": "python3"
  },
  "language_info": {
   "codemirror_mode": {
    "name": "ipython",
    "version": 3
   },
   "file_extension": ".py",
   "mimetype": "text/x-python",
   "name": "python",
   "nbconvert_exporter": "python",
   "pygments_lexer": "ipython3",
   "version": "3.9.13"
  }
 },
 "nbformat": 4,
 "nbformat_minor": 5
}
