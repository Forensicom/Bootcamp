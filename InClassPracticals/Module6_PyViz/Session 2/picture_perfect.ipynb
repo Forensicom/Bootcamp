{
 "cells": [
  {
   "cell_type": "markdown",
   "metadata": {},
   "source": [
    "# Picture Perfect\n",
    "\n",
    "Still in your role as a data analyst for a video streaming service, you have now been asked by your manager to compare and contrast the revenue numbers by quarter for the various international regions.\n",
    "\n",
    "Be sure to consult the [HvPlot Customization](https://hvplot.holoviz.org/user_guide/Customization.html) page for additional opportunities of aesthetic improvement."
   ]
  },
  {
   "cell_type": "code",
   "execution_count": 45,
   "metadata": {},
   "outputs": [],
   "source": [
    "# Import the required libraries and dependencies\n",
    "import pandas as pd\n",
    "import hvplot.pandas\n",
    "from pathlib import Path\n",
    "from bokeh.models.formatters import NumeralTickFormatter"
   ]
  },
  {
   "cell_type": "markdown",
   "metadata": {},
   "source": [
    "## Step 1: Prepare the Regional Revenue DataFrame"
   ]
  },
  {
   "cell_type": "code",
   "execution_count": 2,
   "metadata": {},
   "outputs": [
    {
     "data": {
      "text/html": [
       "<div>\n",
       "<style scoped>\n",
       "    .dataframe tbody tr th:only-of-type {\n",
       "        vertical-align: middle;\n",
       "    }\n",
       "\n",
       "    .dataframe tbody tr th {\n",
       "        vertical-align: top;\n",
       "    }\n",
       "\n",
       "    .dataframe thead th {\n",
       "        text-align: right;\n",
       "    }\n",
       "</style>\n",
       "<table border=\"1\" class=\"dataframe\">\n",
       "  <thead>\n",
       "    <tr style=\"text-align: right;\">\n",
       "      <th></th>\n",
       "      <th>Area</th>\n",
       "      <th>Years</th>\n",
       "      <th>Revenue</th>\n",
       "    </tr>\n",
       "  </thead>\n",
       "  <tbody>\n",
       "    <tr>\n",
       "      <th>0</th>\n",
       "      <td>United States and Canada</td>\n",
       "      <td>Q1 - 2018</td>\n",
       "      <td>1976157000</td>\n",
       "    </tr>\n",
       "    <tr>\n",
       "      <th>1</th>\n",
       "      <td>Europe, Middle East and Africa</td>\n",
       "      <td>Q1 - 2018</td>\n",
       "      <td>886649000</td>\n",
       "    </tr>\n",
       "    <tr>\n",
       "      <th>2</th>\n",
       "      <td>Latin America</td>\n",
       "      <td>Q1 - 2018</td>\n",
       "      <td>540182000</td>\n",
       "    </tr>\n",
       "    <tr>\n",
       "      <th>3</th>\n",
       "      <td>Asia-Pacific</td>\n",
       "      <td>Q1 - 2018</td>\n",
       "      <td>199117000</td>\n",
       "    </tr>\n",
       "    <tr>\n",
       "      <th>4</th>\n",
       "      <td>United States and Canada</td>\n",
       "      <td>Q2 - 2018</td>\n",
       "      <td>2049546000</td>\n",
       "    </tr>\n",
       "  </tbody>\n",
       "</table>\n",
       "</div>"
      ],
      "text/plain": [
       "                             Area      Years     Revenue\n",
       "0        United States and Canada  Q1 - 2018  1976157000\n",
       "1  Europe, Middle East and Africa  Q1 - 2018   886649000\n",
       "2                   Latin America  Q1 - 2018   540182000\n",
       "3                    Asia-Pacific  Q1 - 2018   199117000\n",
       "4        United States and Canada  Q2 - 2018  2049546000"
      ]
     },
     "execution_count": 2,
     "metadata": {},
     "output_type": "execute_result"
    }
   ],
   "source": [
    "# Read in regional_revenue.csv file into a Pandas DataFrame\n",
    "regional_revenue_df = pd.read_csv(\"Resources/regional_revenue.csv\")\n",
    "# Review the DataFrame\n",
    "regional_revenue_df.head()\n",
    "\n"
   ]
  },
  {
   "cell_type": "markdown",
   "metadata": {},
   "source": [
    "## Step 2: Create a plot that visualizes the growth in revenue for the United States and Canada"
   ]
  },
  {
   "cell_type": "code",
   "execution_count": 3,
   "metadata": {},
   "outputs": [
    {
     "data": {},
     "metadata": {},
     "output_type": "display_data"
    },
    {
     "data": {
      "application/vnd.holoviews_exec.v0+json": "",
      "text/html": [
       "<div id='1002'>\n",
       "  <div class=\"bk-root\" id=\"d457825a-30ee-4a1a-9d7a-a940f5de4c60\" data-root-id=\"1002\"></div>\n",
       "</div>\n",
       "<script type=\"application/javascript\">(function(root) {\n",
       "  function embed_document(root) {\n",
       "    var docs_json = {\"2165776c-a79c-4f66-b55e-bf7a2ab142ea\":{\"defs\":[{\"extends\":null,\"module\":null,\"name\":\"ReactiveHTML1\",\"overrides\":[],\"properties\":[]},{\"extends\":null,\"module\":null,\"name\":\"FlexBox1\",\"overrides\":[],\"properties\":[{\"default\":\"flex-start\",\"kind\":null,\"name\":\"align_content\"},{\"default\":\"flex-start\",\"kind\":null,\"name\":\"align_items\"},{\"default\":\"row\",\"kind\":null,\"name\":\"flex_direction\"},{\"default\":\"wrap\",\"kind\":null,\"name\":\"flex_wrap\"},{\"default\":\"flex-start\",\"kind\":null,\"name\":\"justify_content\"}]},{\"extends\":null,\"module\":null,\"name\":\"GridStack1\",\"overrides\":[],\"properties\":[{\"default\":\"warn\",\"kind\":null,\"name\":\"mode\"},{\"default\":null,\"kind\":null,\"name\":\"ncols\"},{\"default\":null,\"kind\":null,\"name\":\"nrows\"},{\"default\":true,\"kind\":null,\"name\":\"allow_resize\"},{\"default\":true,\"kind\":null,\"name\":\"allow_drag\"},{\"default\":[],\"kind\":null,\"name\":\"state\"}]},{\"extends\":null,\"module\":null,\"name\":\"click1\",\"overrides\":[],\"properties\":[{\"default\":\"\",\"kind\":null,\"name\":\"terminal_output\"},{\"default\":\"\",\"kind\":null,\"name\":\"debug_name\"},{\"default\":0,\"kind\":null,\"name\":\"clears\"}]},{\"extends\":null,\"module\":null,\"name\":\"NotificationAreaBase1\",\"overrides\":[],\"properties\":[{\"default\":\"bottom-right\",\"kind\":null,\"name\":\"position\"},{\"default\":0,\"kind\":null,\"name\":\"_clear\"}]},{\"extends\":null,\"module\":null,\"name\":\"NotificationArea1\",\"overrides\":[],\"properties\":[{\"default\":[],\"kind\":null,\"name\":\"notifications\"},{\"default\":\"bottom-right\",\"kind\":null,\"name\":\"position\"},{\"default\":0,\"kind\":null,\"name\":\"_clear\"},{\"default\":[{\"background\":\"#ffc107\",\"icon\":{\"className\":\"fas fa-exclamation-triangle\",\"color\":\"white\",\"tagName\":\"i\"},\"type\":\"warning\"},{\"background\":\"#007bff\",\"icon\":{\"className\":\"fas fa-info-circle\",\"color\":\"white\",\"tagName\":\"i\"},\"type\":\"info\"}],\"kind\":null,\"name\":\"types\"}]},{\"extends\":null,\"module\":null,\"name\":\"Notification\",\"overrides\":[],\"properties\":[{\"default\":null,\"kind\":null,\"name\":\"background\"},{\"default\":3000,\"kind\":null,\"name\":\"duration\"},{\"default\":null,\"kind\":null,\"name\":\"icon\"},{\"default\":\"\",\"kind\":null,\"name\":\"message\"},{\"default\":null,\"kind\":null,\"name\":\"notification_type\"},{\"default\":false,\"kind\":null,\"name\":\"_destroyed\"}]},{\"extends\":null,\"module\":null,\"name\":\"TemplateActions1\",\"overrides\":[],\"properties\":[{\"default\":0,\"kind\":null,\"name\":\"open_modal\"},{\"default\":0,\"kind\":null,\"name\":\"close_modal\"}]},{\"extends\":null,\"module\":null,\"name\":\"MaterialTemplateActions1\",\"overrides\":[],\"properties\":[{\"default\":0,\"kind\":null,\"name\":\"open_modal\"},{\"default\":0,\"kind\":null,\"name\":\"close_modal\"}]}],\"roots\":{\"references\":[{\"attributes\":{\"below\":[{\"id\":\"1016\"}],\"center\":[{\"id\":\"1018\"},{\"id\":\"1022\"}],\"height\":300,\"left\":[{\"id\":\"1019\"}],\"margin\":[5,5,5,5],\"min_border_bottom\":10,\"min_border_left\":10,\"min_border_right\":10,\"min_border_top\":10,\"renderers\":[{\"id\":\"1042\"}],\"sizing_mode\":\"fixed\",\"title\":{\"id\":\"1008\"},\"toolbar\":{\"id\":\"1029\"},\"width\":700,\"x_range\":{\"id\":\"1004\"},\"x_scale\":{\"id\":\"1012\"},\"y_range\":{\"id\":\"1005\"},\"y_scale\":{\"id\":\"1014\"}},\"id\":\"1007\",\"subtype\":\"Figure\",\"type\":\"Plot\"},{\"attributes\":{\"source\":{\"id\":\"1036\"}},\"id\":\"1043\",\"type\":\"CDSView\"},{\"attributes\":{\"line_color\":\"#30a2da\",\"line_width\":2,\"x\":{\"field\":\"Years\"},\"y\":{\"field\":\"Revenue\"}},\"id\":\"1044\",\"type\":\"Line\"},{\"attributes\":{\"margin\":[5,5,5,5],\"name\":\"HSpacer00864\",\"sizing_mode\":\"stretch_width\"},\"id\":\"1061\",\"type\":\"Spacer\"},{\"attributes\":{\"margin\":[5,5,5,5],\"name\":\"HSpacer00863\",\"sizing_mode\":\"stretch_width\"},\"id\":\"1003\",\"type\":\"Spacer\"},{\"attributes\":{},\"id\":\"1049\",\"type\":\"BasicTickFormatter\"},{\"attributes\":{},\"id\":\"1012\",\"type\":\"CategoricalScale\"},{\"attributes\":{},\"id\":\"1046\",\"type\":\"CategoricalTickFormatter\"},{\"attributes\":{\"coordinates\":null,\"data_source\":{\"id\":\"1036\"},\"glyph\":{\"id\":\"1039\"},\"group\":null,\"hover_glyph\":null,\"muted_glyph\":{\"id\":\"1041\"},\"nonselection_glyph\":{\"id\":\"1040\"},\"selection_glyph\":{\"id\":\"1044\"},\"view\":{\"id\":\"1043\"}},\"id\":\"1042\",\"type\":\"GlyphRenderer\"},{\"attributes\":{},\"id\":\"1047\",\"type\":\"AllLabels\"},{\"attributes\":{},\"id\":\"1024\",\"type\":\"PanTool\"},{\"attributes\":{\"line_alpha\":0.2,\"line_color\":\"#30a2da\",\"line_width\":2,\"x\":{\"field\":\"Years\"},\"y\":{\"field\":\"Revenue\"}},\"id\":\"1041\",\"type\":\"Line\"},{\"attributes\":{},\"id\":\"1050\",\"type\":\"AllLabels\"},{\"attributes\":{\"coordinates\":null,\"group\":null,\"text\":\"Revenue\",\"text_color\":\"black\",\"text_font_size\":\"12pt\"},\"id\":\"1008\",\"type\":\"Title\"},{\"attributes\":{\"end\":2926021300.0,\"reset_end\":2926021300.0,\"reset_start\":1889805700.0,\"start\":1889805700.0,\"tags\":[[[\"Revenue\",\"Revenue\",null]]]},\"id\":\"1005\",\"type\":\"Range1d\"},{\"attributes\":{},\"id\":\"1058\",\"type\":\"UnionRenderers\"},{\"attributes\":{\"factors\":[\"Q1 - 2018\",\"Q2 - 2018\",\"Q3 - 2018\",\"Q4 - 2018\",\"Q1 - 2019\",\"Q2 - 2019\",\"Q3 - 2019\",\"Q4 - 2019\",\"Q1 - 2020\",\"Q2 - 2020\"],\"tags\":[[[\"Years\",\"Years\",null]]]},\"id\":\"1004\",\"type\":\"FactorRange\"},{\"attributes\":{\"callback\":null,\"renderers\":[{\"id\":\"1042\"}],\"tags\":[\"hv_created\"],\"tooltips\":[[\"Years\",\"@{Years}\"],[\"Revenue\",\"@{Revenue}\"]]},\"id\":\"1006\",\"type\":\"HoverTool\"},{\"attributes\":{\"tools\":[{\"id\":\"1006\"},{\"id\":\"1023\"},{\"id\":\"1024\"},{\"id\":\"1025\"},{\"id\":\"1026\"},{\"id\":\"1027\"}]},\"id\":\"1029\",\"type\":\"Toolbar\"},{\"attributes\":{\"axis_label\":\"Years\",\"coordinates\":null,\"formatter\":{\"id\":\"1046\"},\"group\":null,\"major_label_policy\":{\"id\":\"1047\"},\"ticker\":{\"id\":\"1017\"}},\"id\":\"1016\",\"type\":\"CategoricalAxis\"},{\"attributes\":{\"axis\":{\"id\":\"1016\"},\"coordinates\":null,\"grid_line_color\":null,\"group\":null,\"ticker\":null},\"id\":\"1018\",\"type\":\"Grid\"},{\"attributes\":{\"axis_label\":\"\",\"coordinates\":null,\"formatter\":{\"id\":\"1049\"},\"group\":null,\"major_label_policy\":{\"id\":\"1050\"},\"ticker\":{\"id\":\"1020\"}},\"id\":\"1019\",\"type\":\"LinearAxis\"},{\"attributes\":{\"children\":[{\"id\":\"1003\"},{\"id\":\"1007\"},{\"id\":\"1061\"}],\"margin\":[0,0,0,0],\"name\":\"Row00859\",\"tags\":[\"embedded\"]},\"id\":\"1002\",\"type\":\"Row\"},{\"attributes\":{},\"id\":\"1017\",\"type\":\"CategoricalTicker\"},{\"attributes\":{\"data\":{\"Revenue\":[1976157000,2049546000,2094850000,2160979000,2256851000,2501199000,2621250000,2671908000,2702776000,2839670000],\"Years\":[\"Q1 - 2018\",\"Q2 - 2018\",\"Q3 - 2018\",\"Q4 - 2018\",\"Q1 - 2019\",\"Q2 - 2019\",\"Q3 - 2019\",\"Q4 - 2019\",\"Q1 - 2020\",\"Q2 - 2020\"]},\"selected\":{\"id\":\"1037\"},\"selection_policy\":{\"id\":\"1058\"}},\"id\":\"1036\",\"type\":\"ColumnDataSource\"},{\"attributes\":{\"axis\":{\"id\":\"1019\"},\"coordinates\":null,\"dimension\":1,\"grid_line_color\":null,\"group\":null,\"ticker\":null},\"id\":\"1022\",\"type\":\"Grid\"},{\"attributes\":{\"line_alpha\":0.1,\"line_color\":\"#30a2da\",\"line_width\":2,\"x\":{\"field\":\"Years\"},\"y\":{\"field\":\"Revenue\"}},\"id\":\"1040\",\"type\":\"Line\"},{\"attributes\":{},\"id\":\"1020\",\"type\":\"BasicTicker\"},{\"attributes\":{},\"id\":\"1025\",\"type\":\"WheelZoomTool\"},{\"attributes\":{\"line_color\":\"#30a2da\",\"line_width\":2,\"x\":{\"field\":\"Years\"},\"y\":{\"field\":\"Revenue\"}},\"id\":\"1039\",\"type\":\"Line\"},{\"attributes\":{},\"id\":\"1014\",\"type\":\"LinearScale\"},{\"attributes\":{},\"id\":\"1037\",\"type\":\"Selection\"},{\"attributes\":{},\"id\":\"1023\",\"type\":\"SaveTool\"},{\"attributes\":{\"overlay\":{\"id\":\"1028\"}},\"id\":\"1026\",\"type\":\"BoxZoomTool\"},{\"attributes\":{},\"id\":\"1027\",\"type\":\"ResetTool\"},{\"attributes\":{\"bottom_units\":\"screen\",\"coordinates\":null,\"fill_alpha\":0.5,\"fill_color\":\"lightgrey\",\"group\":null,\"left_units\":\"screen\",\"level\":\"overlay\",\"line_alpha\":1.0,\"line_color\":\"black\",\"line_dash\":[4,4],\"line_width\":2,\"right_units\":\"screen\",\"syncable\":false,\"top_units\":\"screen\"},\"id\":\"1028\",\"type\":\"BoxAnnotation\"}],\"root_ids\":[\"1002\"]},\"title\":\"Bokeh Application\",\"version\":\"2.4.3\"}};\n",
       "    var render_items = [{\"docid\":\"2165776c-a79c-4f66-b55e-bf7a2ab142ea\",\"root_ids\":[\"1002\"],\"roots\":{\"1002\":\"d457825a-30ee-4a1a-9d7a-a940f5de4c60\"}}];\n",
       "    root.Bokeh.embed.embed_items_notebook(docs_json, render_items);\n",
       "  }\n",
       "  if (root.Bokeh !== undefined && root.Bokeh.Panel !== undefined) {\n",
       "    embed_document(root);\n",
       "  } else {\n",
       "    var attempts = 0;\n",
       "    var timer = setInterval(function(root) {\n",
       "      if (root.Bokeh !== undefined && root.Bokeh.Panel !== undefined) {\n",
       "        clearInterval(timer);\n",
       "        embed_document(root);\n",
       "      } else if (document.readyState == \"complete\") {\n",
       "        attempts++;\n",
       "        if (attempts > 200) {\n",
       "          clearInterval(timer);\n",
       "          console.log(\"Bokeh: ERROR: Unable to run BokehJS code because BokehJS library is missing\");\n",
       "        }\n",
       "      }\n",
       "    }, 25, root)\n",
       "  }\n",
       "})(window);</script>"
      ],
      "text/plain": [
       ":Curve   [Years]   (Revenue)"
      ]
     },
     "execution_count": 3,
     "metadata": {
      "application/vnd.holoviews_exec.v0+json": {
       "id": "1002"
      }
     },
     "output_type": "execute_result"
    }
   ],
   "source": [
    "# Create a DataFrame that slices the subscriber data for the United States and Canada\n",
    "us_canada_revenue = regional_revenue_df.loc[regional_revenue_df['Area'] == \"United States and Canada\"]\n",
    "\n",
    "# Set the index of the DataFrame to Years\n",
    "us_canada_revenue = us_canada_revenue.set_index('Years')\n",
    "\n",
    "# Create a line plot of the US and Canada Revenue data\n",
    "us_canada_revenue['Revenue'].hvplot()\n"
   ]
  },
  {
   "cell_type": "markdown",
   "metadata": {},
   "source": [
    "## Step 3: Add x- and y-axis labels to your plot. Rotate the x-axis plot ticks 45 degrees."
   ]
  },
  {
   "cell_type": "code",
   "execution_count": 4,
   "metadata": {},
   "outputs": [
    {
     "data": {},
     "metadata": {},
     "output_type": "display_data"
    },
    {
     "data": {
      "application/vnd.holoviews_exec.v0+json": "",
      "text/html": [
       "<div id='1113'>\n",
       "  <div class=\"bk-root\" id=\"f558cd07-183d-4e14-b08e-ab8ae2fe9349\" data-root-id=\"1113\"></div>\n",
       "</div>\n",
       "<script type=\"application/javascript\">(function(root) {\n",
       "  function embed_document(root) {\n",
       "    var docs_json = {\"487c38e1-bf2a-464b-9330-c173b6e5ce4a\":{\"defs\":[{\"extends\":null,\"module\":null,\"name\":\"ReactiveHTML1\",\"overrides\":[],\"properties\":[]},{\"extends\":null,\"module\":null,\"name\":\"FlexBox1\",\"overrides\":[],\"properties\":[{\"default\":\"flex-start\",\"kind\":null,\"name\":\"align_content\"},{\"default\":\"flex-start\",\"kind\":null,\"name\":\"align_items\"},{\"default\":\"row\",\"kind\":null,\"name\":\"flex_direction\"},{\"default\":\"wrap\",\"kind\":null,\"name\":\"flex_wrap\"},{\"default\":\"flex-start\",\"kind\":null,\"name\":\"justify_content\"}]},{\"extends\":null,\"module\":null,\"name\":\"GridStack1\",\"overrides\":[],\"properties\":[{\"default\":\"warn\",\"kind\":null,\"name\":\"mode\"},{\"default\":null,\"kind\":null,\"name\":\"ncols\"},{\"default\":null,\"kind\":null,\"name\":\"nrows\"},{\"default\":true,\"kind\":null,\"name\":\"allow_resize\"},{\"default\":true,\"kind\":null,\"name\":\"allow_drag\"},{\"default\":[],\"kind\":null,\"name\":\"state\"}]},{\"extends\":null,\"module\":null,\"name\":\"click1\",\"overrides\":[],\"properties\":[{\"default\":\"\",\"kind\":null,\"name\":\"terminal_output\"},{\"default\":\"\",\"kind\":null,\"name\":\"debug_name\"},{\"default\":0,\"kind\":null,\"name\":\"clears\"}]},{\"extends\":null,\"module\":null,\"name\":\"NotificationAreaBase1\",\"overrides\":[],\"properties\":[{\"default\":\"bottom-right\",\"kind\":null,\"name\":\"position\"},{\"default\":0,\"kind\":null,\"name\":\"_clear\"}]},{\"extends\":null,\"module\":null,\"name\":\"NotificationArea1\",\"overrides\":[],\"properties\":[{\"default\":[],\"kind\":null,\"name\":\"notifications\"},{\"default\":\"bottom-right\",\"kind\":null,\"name\":\"position\"},{\"default\":0,\"kind\":null,\"name\":\"_clear\"},{\"default\":[{\"background\":\"#ffc107\",\"icon\":{\"className\":\"fas fa-exclamation-triangle\",\"color\":\"white\",\"tagName\":\"i\"},\"type\":\"warning\"},{\"background\":\"#007bff\",\"icon\":{\"className\":\"fas fa-info-circle\",\"color\":\"white\",\"tagName\":\"i\"},\"type\":\"info\"}],\"kind\":null,\"name\":\"types\"}]},{\"extends\":null,\"module\":null,\"name\":\"Notification\",\"overrides\":[],\"properties\":[{\"default\":null,\"kind\":null,\"name\":\"background\"},{\"default\":3000,\"kind\":null,\"name\":\"duration\"},{\"default\":null,\"kind\":null,\"name\":\"icon\"},{\"default\":\"\",\"kind\":null,\"name\":\"message\"},{\"default\":null,\"kind\":null,\"name\":\"notification_type\"},{\"default\":false,\"kind\":null,\"name\":\"_destroyed\"}]},{\"extends\":null,\"module\":null,\"name\":\"TemplateActions1\",\"overrides\":[],\"properties\":[{\"default\":0,\"kind\":null,\"name\":\"open_modal\"},{\"default\":0,\"kind\":null,\"name\":\"close_modal\"}]},{\"extends\":null,\"module\":null,\"name\":\"MaterialTemplateActions1\",\"overrides\":[],\"properties\":[{\"default\":0,\"kind\":null,\"name\":\"open_modal\"},{\"default\":0,\"kind\":null,\"name\":\"close_modal\"}]}],\"roots\":{\"references\":[{\"attributes\":{\"coordinates\":null,\"group\":null,\"text\":\"Revenue by Quarter\",\"text_color\":\"black\",\"text_font_size\":\"12pt\"},\"id\":\"1119\",\"type\":\"Title\"},{\"attributes\":{},\"id\":\"1148\",\"type\":\"Selection\"},{\"attributes\":{},\"id\":\"1135\",\"type\":\"PanTool\"},{\"attributes\":{},\"id\":\"1161\",\"type\":\"AllLabels\"},{\"attributes\":{\"children\":[{\"id\":\"1114\"},{\"id\":\"1118\"},{\"id\":\"1172\"}],\"margin\":[0,0,0,0],\"name\":\"Row00965\",\"tags\":[\"embedded\"]},\"id\":\"1113\",\"type\":\"Row\"},{\"attributes\":{},\"id\":\"1136\",\"type\":\"WheelZoomTool\"},{\"attributes\":{\"data\":{\"Revenue\":[1976157000,2049546000,2094850000,2160979000,2256851000,2501199000,2621250000,2671908000,2702776000,2839670000],\"Years\":[\"Q1 - 2018\",\"Q2 - 2018\",\"Q3 - 2018\",\"Q4 - 2018\",\"Q1 - 2019\",\"Q2 - 2019\",\"Q3 - 2019\",\"Q4 - 2019\",\"Q1 - 2020\",\"Q2 - 2020\"]},\"selected\":{\"id\":\"1148\"},\"selection_policy\":{\"id\":\"1169\"}},\"id\":\"1147\",\"type\":\"ColumnDataSource\"},{\"attributes\":{\"margin\":[5,5,5,5],\"name\":\"HSpacer00969\",\"sizing_mode\":\"stretch_width\"},\"id\":\"1114\",\"type\":\"Spacer\"},{\"attributes\":{\"axis_label\":\"Years\",\"coordinates\":null,\"formatter\":{\"id\":\"1157\"},\"group\":null,\"major_label_orientation\":0.7853981633974483,\"major_label_policy\":{\"id\":\"1158\"},\"ticker\":{\"id\":\"1128\"}},\"id\":\"1127\",\"type\":\"CategoricalAxis\"},{\"attributes\":{},\"id\":\"1158\",\"type\":\"AllLabels\"},{\"attributes\":{\"fill_alpha\":{\"value\":0.1},\"fill_color\":{\"value\":\"#30a2da\"},\"hatch_alpha\":{\"value\":0.1},\"hatch_color\":{\"value\":\"#30a2da\"},\"line_alpha\":{\"value\":0.1},\"top\":{\"field\":\"Revenue\"},\"width\":{\"value\":0.8},\"x\":{\"field\":\"Years\"}},\"id\":\"1151\",\"type\":\"VBar\"},{\"attributes\":{},\"id\":\"1128\",\"type\":\"CategoricalTicker\"},{\"attributes\":{\"axis\":{\"id\":\"1130\"},\"coordinates\":null,\"dimension\":1,\"grid_line_color\":null,\"group\":null,\"ticker\":null},\"id\":\"1133\",\"type\":\"Grid\"},{\"attributes\":{\"callback\":null,\"renderers\":[{\"id\":\"1153\"}],\"tags\":[\"hv_created\"],\"tooltips\":[[\"Years\",\"@{Years}\"],[\"Revenue\",\"@{Revenue}\"]]},\"id\":\"1117\",\"type\":\"HoverTool\"},{\"attributes\":{\"bottom_units\":\"screen\",\"coordinates\":null,\"fill_alpha\":0.5,\"fill_color\":\"lightgrey\",\"group\":null,\"left_units\":\"screen\",\"level\":\"overlay\",\"line_alpha\":1.0,\"line_color\":\"black\",\"line_dash\":[4,4],\"line_width\":2,\"right_units\":\"screen\",\"syncable\":false,\"top_units\":\"screen\"},\"id\":\"1139\",\"type\":\"BoxAnnotation\"},{\"attributes\":{\"axis_label\":\"Revenue\",\"coordinates\":null,\"formatter\":{\"id\":\"1160\"},\"group\":null,\"major_label_policy\":{\"id\":\"1161\"},\"ticker\":{\"id\":\"1131\"}},\"id\":\"1130\",\"type\":\"LinearAxis\"},{\"attributes\":{},\"id\":\"1131\",\"type\":\"BasicTicker\"},{\"attributes\":{},\"id\":\"1134\",\"type\":\"SaveTool\"},{\"attributes\":{\"tools\":[{\"id\":\"1117\"},{\"id\":\"1134\"},{\"id\":\"1135\"},{\"id\":\"1136\"},{\"id\":\"1137\"},{\"id\":\"1138\"}]},\"id\":\"1140\",\"type\":\"Toolbar\"},{\"attributes\":{\"overlay\":{\"id\":\"1139\"}},\"id\":\"1137\",\"type\":\"BoxZoomTool\"},{\"attributes\":{},\"id\":\"1169\",\"type\":\"UnionRenderers\"},{\"attributes\":{\"bottom\":{\"value\":0},\"fill_alpha\":{\"value\":1.0},\"fill_color\":{\"value\":\"#30a2da\"},\"hatch_alpha\":{\"value\":1.0},\"hatch_color\":{\"value\":\"#30a2da\"},\"hatch_scale\":{\"value\":12.0},\"hatch_weight\":{\"value\":1.0},\"line_alpha\":{\"value\":1.0},\"line_cap\":{\"value\":\"butt\"},\"line_color\":{\"value\":\"black\"},\"line_dash\":{\"value\":[]},\"line_dash_offset\":{\"value\":0},\"line_join\":{\"value\":\"bevel\"},\"line_width\":{\"value\":1},\"top\":{\"field\":\"Revenue\"},\"width\":{\"value\":0.8},\"x\":{\"field\":\"Years\"}},\"id\":\"1155\",\"type\":\"VBar\"},{\"attributes\":{\"fill_color\":{\"value\":\"#30a2da\"},\"hatch_color\":{\"value\":\"#30a2da\"},\"top\":{\"field\":\"Revenue\"},\"width\":{\"value\":0.8},\"x\":{\"field\":\"Years\"}},\"id\":\"1150\",\"type\":\"VBar\"},{\"attributes\":{\"fill_alpha\":{\"value\":0.2},\"fill_color\":{\"value\":\"#30a2da\"},\"hatch_alpha\":{\"value\":0.2},\"hatch_color\":{\"value\":\"#30a2da\"},\"line_alpha\":{\"value\":0.2},\"top\":{\"field\":\"Revenue\"},\"width\":{\"value\":0.8},\"x\":{\"field\":\"Years\"}},\"id\":\"1152\",\"type\":\"VBar\"},{\"attributes\":{\"source\":{\"id\":\"1147\"}},\"id\":\"1154\",\"type\":\"CDSView\"},{\"attributes\":{\"axis\":{\"id\":\"1127\"},\"coordinates\":null,\"grid_line_color\":null,\"group\":null,\"ticker\":null},\"id\":\"1129\",\"type\":\"Grid\"},{\"attributes\":{\"coordinates\":null,\"data_source\":{\"id\":\"1147\"},\"glyph\":{\"id\":\"1150\"},\"group\":null,\"hover_glyph\":null,\"muted_glyph\":{\"id\":\"1152\"},\"nonselection_glyph\":{\"id\":\"1151\"},\"selection_glyph\":{\"id\":\"1155\"},\"view\":{\"id\":\"1154\"}},\"id\":\"1153\",\"type\":\"GlyphRenderer\"},{\"attributes\":{},\"id\":\"1125\",\"type\":\"LinearScale\"},{\"attributes\":{\"below\":[{\"id\":\"1127\"}],\"center\":[{\"id\":\"1129\"},{\"id\":\"1133\"}],\"height\":300,\"left\":[{\"id\":\"1130\"}],\"margin\":[5,5,5,5],\"min_border_bottom\":10,\"min_border_left\":10,\"min_border_right\":10,\"min_border_top\":10,\"renderers\":[{\"id\":\"1153\"}],\"sizing_mode\":\"fixed\",\"title\":{\"id\":\"1119\"},\"toolbar\":{\"id\":\"1140\"},\"width\":700,\"x_range\":{\"id\":\"1115\"},\"x_scale\":{\"id\":\"1123\"},\"y_range\":{\"id\":\"1116\"},\"y_scale\":{\"id\":\"1125\"}},\"id\":\"1118\",\"subtype\":\"Figure\",\"type\":\"Plot\"},{\"attributes\":{\"margin\":[5,5,5,5],\"name\":\"HSpacer00970\",\"sizing_mode\":\"stretch_width\"},\"id\":\"1172\",\"type\":\"Spacer\"},{\"attributes\":{},\"id\":\"1157\",\"type\":\"CategoricalTickFormatter\"},{\"attributes\":{\"factors\":[\"Q1 - 2018\",\"Q2 - 2018\",\"Q3 - 2018\",\"Q4 - 2018\",\"Q1 - 2019\",\"Q2 - 2019\",\"Q3 - 2019\",\"Q4 - 2019\",\"Q1 - 2020\",\"Q2 - 2020\"],\"tags\":[[[\"Years\",\"Years\",null]]]},\"id\":\"1115\",\"type\":\"FactorRange\"},{\"attributes\":{},\"id\":\"1138\",\"type\":\"ResetTool\"},{\"attributes\":{\"end\":2926021300.0,\"reset_end\":2926021300.0,\"reset_start\":0.0,\"tags\":[[[\"Revenue\",\"Revenue\",null]]]},\"id\":\"1116\",\"type\":\"Range1d\"},{\"attributes\":{},\"id\":\"1160\",\"type\":\"BasicTickFormatter\"},{\"attributes\":{},\"id\":\"1123\",\"type\":\"CategoricalScale\"}],\"root_ids\":[\"1113\"]},\"title\":\"Bokeh Application\",\"version\":\"2.4.3\"}};\n",
       "    var render_items = [{\"docid\":\"487c38e1-bf2a-464b-9330-c173b6e5ce4a\",\"root_ids\":[\"1113\"],\"roots\":{\"1113\":\"f558cd07-183d-4e14-b08e-ab8ae2fe9349\"}}];\n",
       "    root.Bokeh.embed.embed_items_notebook(docs_json, render_items);\n",
       "  }\n",
       "  if (root.Bokeh !== undefined && root.Bokeh.Panel !== undefined) {\n",
       "    embed_document(root);\n",
       "  } else {\n",
       "    var attempts = 0;\n",
       "    var timer = setInterval(function(root) {\n",
       "      if (root.Bokeh !== undefined && root.Bokeh.Panel !== undefined) {\n",
       "        clearInterval(timer);\n",
       "        embed_document(root);\n",
       "      } else if (document.readyState == \"complete\") {\n",
       "        attempts++;\n",
       "        if (attempts > 200) {\n",
       "          clearInterval(timer);\n",
       "          console.log(\"Bokeh: ERROR: Unable to run BokehJS code because BokehJS library is missing\");\n",
       "        }\n",
       "      }\n",
       "    }, 25, root)\n",
       "  }\n",
       "})(window);</script>"
      ],
      "text/plain": [
       ":Bars   [Years]   (Revenue)"
      ]
     },
     "execution_count": 4,
     "metadata": {
      "application/vnd.holoviews_exec.v0+json": {
       "id": "1113"
      }
     },
     "output_type": "execute_result"
    }
   ],
   "source": [
    "# Rotate the x-axis ticks by 45 degrees and add x- and y-axis labels to the plot\n",
    "us_canada_revenue['Revenue'].hvplot.bar(xlabel=\"Years\", ylabel=\"Revenue\", rot=45, label=\"Revenue by Quarter\")"
   ]
  },
  {
   "cell_type": "markdown",
   "metadata": {},
   "source": [
    "## Step 4:  Add a title to the US and Canada revenue plot\n"
   ]
  },
  {
   "cell_type": "code",
   "execution_count": 51,
   "metadata": {},
   "outputs": [
    {
     "data": {},
     "metadata": {},
     "output_type": "display_data"
    },
    {
     "data": {
      "application/vnd.holoviews_exec.v0+json": "",
      "text/html": [
       "<div id='4573'>\n",
       "  <div class=\"bk-root\" id=\"521a8fbf-9292-4776-b0ce-1421658dccc2\" data-root-id=\"4573\"></div>\n",
       "</div>\n",
       "<script type=\"application/javascript\">(function(root) {\n",
       "  function embed_document(root) {\n",
       "    var docs_json = {\"60ed8f96-0657-4a9d-8cf8-81678239d7cf\":{\"defs\":[{\"extends\":null,\"module\":null,\"name\":\"ReactiveHTML1\",\"overrides\":[],\"properties\":[]},{\"extends\":null,\"module\":null,\"name\":\"FlexBox1\",\"overrides\":[],\"properties\":[{\"default\":\"flex-start\",\"kind\":null,\"name\":\"align_content\"},{\"default\":\"flex-start\",\"kind\":null,\"name\":\"align_items\"},{\"default\":\"row\",\"kind\":null,\"name\":\"flex_direction\"},{\"default\":\"wrap\",\"kind\":null,\"name\":\"flex_wrap\"},{\"default\":\"flex-start\",\"kind\":null,\"name\":\"justify_content\"}]},{\"extends\":null,\"module\":null,\"name\":\"GridStack1\",\"overrides\":[],\"properties\":[{\"default\":\"warn\",\"kind\":null,\"name\":\"mode\"},{\"default\":null,\"kind\":null,\"name\":\"ncols\"},{\"default\":null,\"kind\":null,\"name\":\"nrows\"},{\"default\":true,\"kind\":null,\"name\":\"allow_resize\"},{\"default\":true,\"kind\":null,\"name\":\"allow_drag\"},{\"default\":[],\"kind\":null,\"name\":\"state\"}]},{\"extends\":null,\"module\":null,\"name\":\"click1\",\"overrides\":[],\"properties\":[{\"default\":\"\",\"kind\":null,\"name\":\"terminal_output\"},{\"default\":\"\",\"kind\":null,\"name\":\"debug_name\"},{\"default\":0,\"kind\":null,\"name\":\"clears\"}]},{\"extends\":null,\"module\":null,\"name\":\"NotificationAreaBase1\",\"overrides\":[],\"properties\":[{\"default\":\"bottom-right\",\"kind\":null,\"name\":\"position\"},{\"default\":0,\"kind\":null,\"name\":\"_clear\"}]},{\"extends\":null,\"module\":null,\"name\":\"NotificationArea1\",\"overrides\":[],\"properties\":[{\"default\":[],\"kind\":null,\"name\":\"notifications\"},{\"default\":\"bottom-right\",\"kind\":null,\"name\":\"position\"},{\"default\":0,\"kind\":null,\"name\":\"_clear\"},{\"default\":[{\"background\":\"#ffc107\",\"icon\":{\"className\":\"fas fa-exclamation-triangle\",\"color\":\"white\",\"tagName\":\"i\"},\"type\":\"warning\"},{\"background\":\"#007bff\",\"icon\":{\"className\":\"fas fa-info-circle\",\"color\":\"white\",\"tagName\":\"i\"},\"type\":\"info\"}],\"kind\":null,\"name\":\"types\"}]},{\"extends\":null,\"module\":null,\"name\":\"Notification\",\"overrides\":[],\"properties\":[{\"default\":null,\"kind\":null,\"name\":\"background\"},{\"default\":3000,\"kind\":null,\"name\":\"duration\"},{\"default\":null,\"kind\":null,\"name\":\"icon\"},{\"default\":\"\",\"kind\":null,\"name\":\"message\"},{\"default\":null,\"kind\":null,\"name\":\"notification_type\"},{\"default\":false,\"kind\":null,\"name\":\"_destroyed\"}]},{\"extends\":null,\"module\":null,\"name\":\"TemplateActions1\",\"overrides\":[],\"properties\":[{\"default\":0,\"kind\":null,\"name\":\"open_modal\"},{\"default\":0,\"kind\":null,\"name\":\"close_modal\"}]},{\"extends\":null,\"module\":null,\"name\":\"MaterialTemplateActions1\",\"overrides\":[],\"properties\":[{\"default\":0,\"kind\":null,\"name\":\"open_modal\"},{\"default\":0,\"kind\":null,\"name\":\"close_modal\"}]}],\"roots\":{\"references\":[{\"attributes\":{\"fill_color\":{\"value\":\"#30a2da\"},\"hatch_color\":{\"value\":\"#30a2da\"},\"top\":{\"field\":\"Revenue\"},\"width\":{\"value\":0.8},\"x\":{\"field\":\"Years\"}},\"id\":\"4610\",\"type\":\"VBar\"},{\"attributes\":{\"bottom\":{\"value\":0},\"fill_alpha\":{\"value\":1.0},\"fill_color\":{\"value\":\"#30a2da\"},\"hatch_alpha\":{\"value\":1.0},\"hatch_color\":{\"value\":\"#30a2da\"},\"hatch_scale\":{\"value\":12.0},\"hatch_weight\":{\"value\":1.0},\"line_alpha\":{\"value\":1.0},\"line_cap\":{\"value\":\"butt\"},\"line_color\":{\"value\":\"black\"},\"line_dash\":{\"value\":[]},\"line_dash_offset\":{\"value\":0},\"line_join\":{\"value\":\"bevel\"},\"line_width\":{\"value\":1},\"top\":{\"field\":\"Revenue\"},\"width\":{\"value\":0.8},\"x\":{\"field\":\"Years\"}},\"id\":\"4615\",\"type\":\"VBar\"},{\"attributes\":{\"data\":{\"Revenue\":[1976157000,2049546000,2094850000,2160979000,2256851000,2501199000,2621250000,2671908000,2702776000,2839670000],\"Years\":[\"Q1 - 2018\",\"Q2 - 2018\",\"Q3 - 2018\",\"Q4 - 2018\",\"Q1 - 2019\",\"Q2 - 2019\",\"Q3 - 2019\",\"Q4 - 2019\",\"Q1 - 2020\",\"Q2 - 2020\"]},\"selected\":{\"id\":\"4608\"},\"selection_policy\":{\"id\":\"4631\"}},\"id\":\"4607\",\"type\":\"ColumnDataSource\"},{\"attributes\":{\"margin\":[5,5,5,5],\"name\":\"HSpacer04324\",\"sizing_mode\":\"stretch_width\"},\"id\":\"4574\",\"type\":\"Spacer\"},{\"attributes\":{},\"id\":\"4622\",\"type\":\"AllLabels\"},{\"attributes\":{\"axis\":{\"id\":\"4587\"},\"coordinates\":null,\"grid_line_color\":null,\"group\":null,\"ticker\":null},\"id\":\"4589\",\"type\":\"Grid\"},{\"attributes\":{},\"id\":\"4608\",\"type\":\"Selection\"},{\"attributes\":{},\"id\":\"4619\",\"type\":\"AllLabels\"},{\"attributes\":{\"tools\":[{\"id\":\"4577\"},{\"id\":\"4594\"},{\"id\":\"4595\"},{\"id\":\"4596\"},{\"id\":\"4597\"},{\"id\":\"4598\"}]},\"id\":\"4600\",\"type\":\"Toolbar\"},{\"attributes\":{\"coordinates\":null,\"group\":null,\"text\":\"Revenue by Quarter\",\"text_color\":\"black\",\"text_font_size\":\"12pt\"},\"id\":\"4579\",\"type\":\"Title\"},{\"attributes\":{\"source\":{\"id\":\"4607\"}},\"id\":\"4614\",\"type\":\"CDSView\"},{\"attributes\":{\"axis_label\":\"Revenue\",\"coordinates\":null,\"formatter\":{\"id\":\"4616\"},\"group\":null,\"major_label_policy\":{\"id\":\"4622\"},\"ticker\":{\"id\":\"4591\"}},\"id\":\"4590\",\"type\":\"LinearAxis\"},{\"attributes\":{\"margin\":[5,5,5,5],\"name\":\"HSpacer04325\",\"sizing_mode\":\"stretch_width\"},\"id\":\"4634\",\"type\":\"Spacer\"},{\"attributes\":{\"end\":2926021300.0,\"reset_end\":2926021300.0,\"reset_start\":0.0,\"tags\":[[[\"Revenue\",\"Revenue\",null]]]},\"id\":\"4576\",\"type\":\"Range1d\"},{\"attributes\":{},\"id\":\"4591\",\"type\":\"BasicTicker\"},{\"attributes\":{},\"id\":\"4583\",\"type\":\"CategoricalScale\"},{\"attributes\":{},\"id\":\"4631\",\"type\":\"UnionRenderers\"},{\"attributes\":{\"bottom_units\":\"screen\",\"coordinates\":null,\"fill_alpha\":0.5,\"fill_color\":\"lightgrey\",\"group\":null,\"left_units\":\"screen\",\"level\":\"overlay\",\"line_alpha\":1.0,\"line_color\":\"black\",\"line_dash\":[4,4],\"line_width\":2,\"right_units\":\"screen\",\"syncable\":false,\"top_units\":\"screen\"},\"id\":\"4599\",\"type\":\"BoxAnnotation\"},{\"attributes\":{\"children\":[{\"id\":\"4574\"},{\"id\":\"4578\"},{\"id\":\"4634\"}],\"margin\":[0,0,0,0],\"name\":\"Row04320\",\"tags\":[\"embedded\"]},\"id\":\"4573\",\"type\":\"Row\"},{\"attributes\":{},\"id\":\"4618\",\"type\":\"CategoricalTickFormatter\"},{\"attributes\":{\"fill_alpha\":{\"value\":0.1},\"fill_color\":{\"value\":\"#30a2da\"},\"hatch_alpha\":{\"value\":0.1},\"hatch_color\":{\"value\":\"#30a2da\"},\"line_alpha\":{\"value\":0.1},\"top\":{\"field\":\"Revenue\"},\"width\":{\"value\":0.8},\"x\":{\"field\":\"Years\"}},\"id\":\"4611\",\"type\":\"VBar\"},{\"attributes\":{\"factors\":[\"Q1 - 2018\",\"Q2 - 2018\",\"Q3 - 2018\",\"Q4 - 2018\",\"Q1 - 2019\",\"Q2 - 2019\",\"Q3 - 2019\",\"Q4 - 2019\",\"Q1 - 2020\",\"Q2 - 2020\"],\"tags\":[[[\"Years\",\"Years\",null]]]},\"id\":\"4575\",\"type\":\"FactorRange\"},{\"attributes\":{\"axis_label\":\"Years\",\"coordinates\":null,\"formatter\":{\"id\":\"4618\"},\"group\":null,\"major_label_orientation\":0.7853981633974483,\"major_label_policy\":{\"id\":\"4619\"},\"ticker\":{\"id\":\"4588\"}},\"id\":\"4587\",\"type\":\"CategoricalAxis\"},{\"attributes\":{\"fill_alpha\":{\"value\":0.2},\"fill_color\":{\"value\":\"#30a2da\"},\"hatch_alpha\":{\"value\":0.2},\"hatch_color\":{\"value\":\"#30a2da\"},\"line_alpha\":{\"value\":0.2},\"top\":{\"field\":\"Revenue\"},\"width\":{\"value\":0.8},\"x\":{\"field\":\"Years\"}},\"id\":\"4612\",\"type\":\"VBar\"},{\"attributes\":{\"coordinates\":null,\"data_source\":{\"id\":\"4607\"},\"glyph\":{\"id\":\"4610\"},\"group\":null,\"hover_glyph\":null,\"muted_glyph\":{\"id\":\"4612\"},\"nonselection_glyph\":{\"id\":\"4611\"},\"selection_glyph\":{\"id\":\"4615\"},\"view\":{\"id\":\"4614\"}},\"id\":\"4613\",\"type\":\"GlyphRenderer\"},{\"attributes\":{\"axis\":{\"id\":\"4590\"},\"coordinates\":null,\"dimension\":1,\"grid_line_color\":null,\"group\":null,\"ticker\":null},\"id\":\"4593\",\"type\":\"Grid\"},{\"attributes\":{\"below\":[{\"id\":\"4587\"}],\"center\":[{\"id\":\"4589\"},{\"id\":\"4593\"}],\"height\":300,\"left\":[{\"id\":\"4590\"}],\"margin\":[5,5,5,5],\"min_border_bottom\":10,\"min_border_left\":10,\"min_border_right\":10,\"min_border_top\":10,\"renderers\":[{\"id\":\"4613\"}],\"sizing_mode\":\"fixed\",\"title\":{\"id\":\"4579\"},\"toolbar\":{\"id\":\"4600\"},\"width\":700,\"x_range\":{\"id\":\"4575\"},\"x_scale\":{\"id\":\"4583\"},\"y_range\":{\"id\":\"4576\"},\"y_scale\":{\"id\":\"4585\"}},\"id\":\"4578\",\"subtype\":\"Figure\",\"type\":\"Plot\"},{\"attributes\":{\"overlay\":{\"id\":\"4599\"}},\"id\":\"4597\",\"type\":\"BoxZoomTool\"},{\"attributes\":{},\"id\":\"4588\",\"type\":\"CategoricalTicker\"},{\"attributes\":{\"callback\":null,\"renderers\":[{\"id\":\"4613\"}],\"tags\":[\"hv_created\"],\"tooltips\":[[\"Years\",\"@{Years}\"],[\"Revenue\",\"@{Revenue}\"]]},\"id\":\"4577\",\"type\":\"HoverTool\"},{\"attributes\":{},\"id\":\"4596\",\"type\":\"WheelZoomTool\"},{\"attributes\":{},\"id\":\"4594\",\"type\":\"SaveTool\"},{\"attributes\":{},\"id\":\"4598\",\"type\":\"ResetTool\"},{\"attributes\":{\"format\":\"%.0f\"},\"id\":\"4616\",\"type\":\"PrintfTickFormatter\"},{\"attributes\":{},\"id\":\"4595\",\"type\":\"PanTool\"},{\"attributes\":{},\"id\":\"4585\",\"type\":\"LinearScale\"}],\"root_ids\":[\"4573\"]},\"title\":\"Bokeh Application\",\"version\":\"2.4.3\"}};\n",
       "    var render_items = [{\"docid\":\"60ed8f96-0657-4a9d-8cf8-81678239d7cf\",\"root_ids\":[\"4573\"],\"roots\":{\"4573\":\"521a8fbf-9292-4776-b0ce-1421658dccc2\"}}];\n",
       "    root.Bokeh.embed.embed_items_notebook(docs_json, render_items);\n",
       "  }\n",
       "  if (root.Bokeh !== undefined && root.Bokeh.Panel !== undefined) {\n",
       "    embed_document(root);\n",
       "  } else {\n",
       "    var attempts = 0;\n",
       "    var timer = setInterval(function(root) {\n",
       "      if (root.Bokeh !== undefined && root.Bokeh.Panel !== undefined) {\n",
       "        clearInterval(timer);\n",
       "        embed_document(root);\n",
       "      } else if (document.readyState == \"complete\") {\n",
       "        attempts++;\n",
       "        if (attempts > 200) {\n",
       "          clearInterval(timer);\n",
       "          console.log(\"Bokeh: ERROR: Unable to run BokehJS code because BokehJS library is missing\");\n",
       "        }\n",
       "      }\n",
       "    }, 25, root)\n",
       "  }\n",
       "})(window);</script>"
      ],
      "text/plain": [
       ":Bars   [Years]   (Revenue)"
      ]
     },
     "execution_count": 51,
     "metadata": {
      "application/vnd.holoviews_exec.v0+json": {
       "id": "4573"
      }
     },
     "output_type": "execute_result"
    }
   ],
   "source": [
    "# Add a title to your US and Canada revenue plot using the label parameter\n",
    "\n",
    "us_canada_revenue['Revenue'].hvplot.bar(xlabel=\"Years\", ylabel=\"Revenue\", rot=45, label=\"Revenue by Quarter\"\n",
    "                                       ).opts(yformatter='%.0f')                                           "
   ]
  },
  {
   "cell_type": "markdown",
   "metadata": {
    "tags": []
   },
   "source": [
    "## Step 5: Use the yformatter option to format the y-axis values."
   ]
  },
  {
   "cell_type": "code",
   "execution_count": 22,
   "metadata": {},
   "outputs": [
    {
     "data": {},
     "metadata": {},
     "output_type": "display_data"
    },
    {
     "data": {
      "application/vnd.holoviews_exec.v0+json": "",
      "text/html": [
       "<div id='2523'>\n",
       "  <div class=\"bk-root\" id=\"2c767884-4ad1-4047-a6e2-290375ddbfcb\" data-root-id=\"2523\"></div>\n",
       "</div>\n",
       "<script type=\"application/javascript\">(function(root) {\n",
       "  function embed_document(root) {\n",
       "    var docs_json = {\"9f75b83e-b1fe-49ab-abf7-826767bca7af\":{\"defs\":[{\"extends\":null,\"module\":null,\"name\":\"ReactiveHTML1\",\"overrides\":[],\"properties\":[]},{\"extends\":null,\"module\":null,\"name\":\"FlexBox1\",\"overrides\":[],\"properties\":[{\"default\":\"flex-start\",\"kind\":null,\"name\":\"align_content\"},{\"default\":\"flex-start\",\"kind\":null,\"name\":\"align_items\"},{\"default\":\"row\",\"kind\":null,\"name\":\"flex_direction\"},{\"default\":\"wrap\",\"kind\":null,\"name\":\"flex_wrap\"},{\"default\":\"flex-start\",\"kind\":null,\"name\":\"justify_content\"}]},{\"extends\":null,\"module\":null,\"name\":\"GridStack1\",\"overrides\":[],\"properties\":[{\"default\":\"warn\",\"kind\":null,\"name\":\"mode\"},{\"default\":null,\"kind\":null,\"name\":\"ncols\"},{\"default\":null,\"kind\":null,\"name\":\"nrows\"},{\"default\":true,\"kind\":null,\"name\":\"allow_resize\"},{\"default\":true,\"kind\":null,\"name\":\"allow_drag\"},{\"default\":[],\"kind\":null,\"name\":\"state\"}]},{\"extends\":null,\"module\":null,\"name\":\"click1\",\"overrides\":[],\"properties\":[{\"default\":\"\",\"kind\":null,\"name\":\"terminal_output\"},{\"default\":\"\",\"kind\":null,\"name\":\"debug_name\"},{\"default\":0,\"kind\":null,\"name\":\"clears\"}]},{\"extends\":null,\"module\":null,\"name\":\"NotificationAreaBase1\",\"overrides\":[],\"properties\":[{\"default\":\"bottom-right\",\"kind\":null,\"name\":\"position\"},{\"default\":0,\"kind\":null,\"name\":\"_clear\"}]},{\"extends\":null,\"module\":null,\"name\":\"NotificationArea1\",\"overrides\":[],\"properties\":[{\"default\":[],\"kind\":null,\"name\":\"notifications\"},{\"default\":\"bottom-right\",\"kind\":null,\"name\":\"position\"},{\"default\":0,\"kind\":null,\"name\":\"_clear\"},{\"default\":[{\"background\":\"#ffc107\",\"icon\":{\"className\":\"fas fa-exclamation-triangle\",\"color\":\"white\",\"tagName\":\"i\"},\"type\":\"warning\"},{\"background\":\"#007bff\",\"icon\":{\"className\":\"fas fa-info-circle\",\"color\":\"white\",\"tagName\":\"i\"},\"type\":\"info\"}],\"kind\":null,\"name\":\"types\"}]},{\"extends\":null,\"module\":null,\"name\":\"Notification\",\"overrides\":[],\"properties\":[{\"default\":null,\"kind\":null,\"name\":\"background\"},{\"default\":3000,\"kind\":null,\"name\":\"duration\"},{\"default\":null,\"kind\":null,\"name\":\"icon\"},{\"default\":\"\",\"kind\":null,\"name\":\"message\"},{\"default\":null,\"kind\":null,\"name\":\"notification_type\"},{\"default\":false,\"kind\":null,\"name\":\"_destroyed\"}]},{\"extends\":null,\"module\":null,\"name\":\"TemplateActions1\",\"overrides\":[],\"properties\":[{\"default\":0,\"kind\":null,\"name\":\"open_modal\"},{\"default\":0,\"kind\":null,\"name\":\"close_modal\"}]},{\"extends\":null,\"module\":null,\"name\":\"MaterialTemplateActions1\",\"overrides\":[],\"properties\":[{\"default\":0,\"kind\":null,\"name\":\"open_modal\"},{\"default\":0,\"kind\":null,\"name\":\"close_modal\"}]}],\"roots\":{\"references\":[{\"attributes\":{\"margin\":[5,5,5,5],\"name\":\"HSpacer02582\",\"sizing_mode\":\"stretch_width\"},\"id\":\"2584\",\"type\":\"Spacer\"},{\"attributes\":{},\"id\":\"2535\",\"type\":\"LinearScale\"},{\"attributes\":{\"format\":\"%,.0f\"},\"id\":\"2566\",\"type\":\"PrintfTickFormatter\"},{\"attributes\":{},\"id\":\"2581\",\"type\":\"UnionRenderers\"},{\"attributes\":{\"callback\":null,\"renderers\":[{\"id\":\"2563\"}],\"tags\":[\"hv_created\"],\"tooltips\":[[\"Years\",\"@{Years}\"],[\"Revenue\",\"@{Revenue}\"]]},\"id\":\"2527\",\"type\":\"HoverTool\"},{\"attributes\":{\"fill_color\":{\"value\":\"#30a2da\"},\"hatch_color\":{\"value\":\"#30a2da\"},\"top\":{\"field\":\"Revenue\"},\"width\":{\"value\":0.8},\"x\":{\"field\":\"Years\"}},\"id\":\"2560\",\"type\":\"VBar\"},{\"attributes\":{},\"id\":\"2569\",\"type\":\"AllLabels\"},{\"attributes\":{\"coordinates\":null,\"group\":null,\"text\":\"Revenue by Quarter\",\"text_color\":\"black\",\"text_font_size\":\"12pt\"},\"id\":\"2529\",\"type\":\"Title\"},{\"attributes\":{},\"id\":\"2572\",\"type\":\"AllLabels\"},{\"attributes\":{\"below\":[{\"id\":\"2537\"}],\"center\":[{\"id\":\"2539\"},{\"id\":\"2543\"}],\"height\":300,\"left\":[{\"id\":\"2540\"}],\"margin\":[5,5,5,5],\"min_border_bottom\":10,\"min_border_left\":10,\"min_border_right\":10,\"min_border_top\":10,\"renderers\":[{\"id\":\"2563\"}],\"sizing_mode\":\"fixed\",\"title\":{\"id\":\"2529\"},\"toolbar\":{\"id\":\"2550\"},\"width\":700,\"x_range\":{\"id\":\"2525\"},\"x_scale\":{\"id\":\"2533\"},\"y_range\":{\"id\":\"2526\"},\"y_scale\":{\"id\":\"2535\"}},\"id\":\"2528\",\"subtype\":\"Figure\",\"type\":\"Plot\"},{\"attributes\":{\"bottom_units\":\"screen\",\"coordinates\":null,\"fill_alpha\":0.5,\"fill_color\":\"lightgrey\",\"group\":null,\"left_units\":\"screen\",\"level\":\"overlay\",\"line_alpha\":1.0,\"line_color\":\"black\",\"line_dash\":[4,4],\"line_width\":2,\"right_units\":\"screen\",\"syncable\":false,\"top_units\":\"screen\"},\"id\":\"2549\",\"type\":\"BoxAnnotation\"},{\"attributes\":{\"axis_label\":\"Years\",\"coordinates\":null,\"formatter\":{\"id\":\"2568\"},\"group\":null,\"major_label_orientation\":0.7853981633974483,\"major_label_policy\":{\"id\":\"2569\"},\"ticker\":{\"id\":\"2538\"}},\"id\":\"2537\",\"type\":\"CategoricalAxis\"},{\"attributes\":{\"axis\":{\"id\":\"2537\"},\"coordinates\":null,\"grid_line_color\":null,\"group\":null,\"ticker\":null},\"id\":\"2539\",\"type\":\"Grid\"},{\"attributes\":{},\"id\":\"2545\",\"type\":\"PanTool\"},{\"attributes\":{\"tools\":[{\"id\":\"2527\"},{\"id\":\"2544\"},{\"id\":\"2545\"},{\"id\":\"2546\"},{\"id\":\"2547\"},{\"id\":\"2548\"}]},\"id\":\"2550\",\"type\":\"Toolbar\"},{\"attributes\":{},\"id\":\"2538\",\"type\":\"CategoricalTicker\"},{\"attributes\":{},\"id\":\"2558\",\"type\":\"Selection\"},{\"attributes\":{\"axis_label\":\"Revenue\",\"coordinates\":null,\"formatter\":{\"id\":\"2566\"},\"group\":null,\"major_label_policy\":{\"id\":\"2572\"},\"ticker\":{\"id\":\"2541\"}},\"id\":\"2540\",\"type\":\"LinearAxis\"},{\"attributes\":{\"axis\":{\"id\":\"2540\"},\"coordinates\":null,\"dimension\":1,\"grid_line_color\":null,\"group\":null,\"ticker\":null},\"id\":\"2543\",\"type\":\"Grid\"},{\"attributes\":{\"bottom\":{\"value\":0},\"fill_alpha\":{\"value\":1.0},\"fill_color\":{\"value\":\"#30a2da\"},\"hatch_alpha\":{\"value\":1.0},\"hatch_color\":{\"value\":\"#30a2da\"},\"hatch_scale\":{\"value\":12.0},\"hatch_weight\":{\"value\":1.0},\"line_alpha\":{\"value\":1.0},\"line_cap\":{\"value\":\"butt\"},\"line_color\":{\"value\":\"black\"},\"line_dash\":{\"value\":[]},\"line_dash_offset\":{\"value\":0},\"line_join\":{\"value\":\"bevel\"},\"line_width\":{\"value\":1},\"top\":{\"field\":\"Revenue\"},\"width\":{\"value\":0.8},\"x\":{\"field\":\"Years\"}},\"id\":\"2565\",\"type\":\"VBar\"},{\"attributes\":{},\"id\":\"2541\",\"type\":\"BasicTicker\"},{\"attributes\":{},\"id\":\"2533\",\"type\":\"CategoricalScale\"},{\"attributes\":{\"fill_alpha\":{\"value\":0.1},\"fill_color\":{\"value\":\"#30a2da\"},\"hatch_alpha\":{\"value\":0.1},\"hatch_color\":{\"value\":\"#30a2da\"},\"line_alpha\":{\"value\":0.1},\"top\":{\"field\":\"Revenue\"},\"width\":{\"value\":0.8},\"x\":{\"field\":\"Years\"}},\"id\":\"2561\",\"type\":\"VBar\"},{\"attributes\":{},\"id\":\"2546\",\"type\":\"WheelZoomTool\"},{\"attributes\":{\"fill_alpha\":{\"value\":0.2},\"fill_color\":{\"value\":\"#30a2da\"},\"hatch_alpha\":{\"value\":0.2},\"hatch_color\":{\"value\":\"#30a2da\"},\"line_alpha\":{\"value\":0.2},\"top\":{\"field\":\"Revenue\"},\"width\":{\"value\":0.8},\"x\":{\"field\":\"Years\"}},\"id\":\"2562\",\"type\":\"VBar\"},{\"attributes\":{\"source\":{\"id\":\"2557\"}},\"id\":\"2564\",\"type\":\"CDSView\"},{\"attributes\":{\"children\":[{\"id\":\"2524\"},{\"id\":\"2528\"},{\"id\":\"2584\"}],\"margin\":[0,0,0,0],\"name\":\"Row02577\",\"tags\":[\"embedded\"]},\"id\":\"2523\",\"type\":\"Row\"},{\"attributes\":{},\"id\":\"2544\",\"type\":\"SaveTool\"},{\"attributes\":{\"factors\":[\"Q1 - 2018\",\"Q2 - 2018\",\"Q3 - 2018\",\"Q4 - 2018\",\"Q1 - 2019\",\"Q2 - 2019\",\"Q3 - 2019\",\"Q4 - 2019\",\"Q1 - 2020\",\"Q2 - 2020\"],\"tags\":[[[\"Years\",\"Years\",null]]]},\"id\":\"2525\",\"type\":\"FactorRange\"},{\"attributes\":{\"overlay\":{\"id\":\"2549\"}},\"id\":\"2547\",\"type\":\"BoxZoomTool\"},{\"attributes\":{\"coordinates\":null,\"data_source\":{\"id\":\"2557\"},\"glyph\":{\"id\":\"2560\"},\"group\":null,\"hover_glyph\":null,\"muted_glyph\":{\"id\":\"2562\"},\"nonselection_glyph\":{\"id\":\"2561\"},\"selection_glyph\":{\"id\":\"2565\"},\"view\":{\"id\":\"2564\"}},\"id\":\"2563\",\"type\":\"GlyphRenderer\"},{\"attributes\":{},\"id\":\"2548\",\"type\":\"ResetTool\"},{\"attributes\":{\"data\":{\"Revenue\":[1976157000,2049546000,2094850000,2160979000,2256851000,2501199000,2621250000,2671908000,2702776000,2839670000],\"Years\":[\"Q1 - 2018\",\"Q2 - 2018\",\"Q3 - 2018\",\"Q4 - 2018\",\"Q1 - 2019\",\"Q2 - 2019\",\"Q3 - 2019\",\"Q4 - 2019\",\"Q1 - 2020\",\"Q2 - 2020\"]},\"selected\":{\"id\":\"2558\"},\"selection_policy\":{\"id\":\"2581\"}},\"id\":\"2557\",\"type\":\"ColumnDataSource\"},{\"attributes\":{\"margin\":[5,5,5,5],\"name\":\"HSpacer02581\",\"sizing_mode\":\"stretch_width\"},\"id\":\"2524\",\"type\":\"Spacer\"},{\"attributes\":{\"end\":2926021300.0,\"reset_end\":2926021300.0,\"reset_start\":0.0,\"tags\":[[[\"Revenue\",\"Revenue\",null]]]},\"id\":\"2526\",\"type\":\"Range1d\"},{\"attributes\":{},\"id\":\"2568\",\"type\":\"CategoricalTickFormatter\"}],\"root_ids\":[\"2523\"]},\"title\":\"Bokeh Application\",\"version\":\"2.4.3\"}};\n",
       "    var render_items = [{\"docid\":\"9f75b83e-b1fe-49ab-abf7-826767bca7af\",\"root_ids\":[\"2523\"],\"roots\":{\"2523\":\"2c767884-4ad1-4047-a6e2-290375ddbfcb\"}}];\n",
       "    root.Bokeh.embed.embed_items_notebook(docs_json, render_items);\n",
       "  }\n",
       "  if (root.Bokeh !== undefined && root.Bokeh.Panel !== undefined) {\n",
       "    embed_document(root);\n",
       "  } else {\n",
       "    var attempts = 0;\n",
       "    var timer = setInterval(function(root) {\n",
       "      if (root.Bokeh !== undefined && root.Bokeh.Panel !== undefined) {\n",
       "        clearInterval(timer);\n",
       "        embed_document(root);\n",
       "      } else if (document.readyState == \"complete\") {\n",
       "        attempts++;\n",
       "        if (attempts > 200) {\n",
       "          clearInterval(timer);\n",
       "          console.log(\"Bokeh: ERROR: Unable to run BokehJS code because BokehJS library is missing\");\n",
       "        }\n",
       "      }\n",
       "    }, 25, root)\n",
       "  }\n",
       "})(window);</script>"
      ],
      "text/plain": [
       ":Bars   [Years]   (Revenue)"
      ]
     },
     "execution_count": 22,
     "metadata": {
      "application/vnd.holoviews_exec.v0+json": {
       "id": "2523"
      }
     },
     "output_type": "execute_result"
    }
   ],
   "source": [
    "# Use the yformatter to adjust the y-axis values\n",
    "us_canada_revenue['Revenue'].hvplot.bar(xlabel=\"Years\", ylabel=\"Revenue\", rot=45, label=\"Revenue by Quarter\"\n",
    "                                       ).opts(yformatter='%.0f')"
   ]
  },
  {
   "cell_type": "code",
   "execution_count": null,
   "metadata": {},
   "outputs": [],
   "source": []
  },
  {
   "cell_type": "markdown",
   "metadata": {},
   "source": [
    "## Step 6: Add a line_color of blue and hover_line_color of yellow to the plot."
   ]
  },
  {
   "cell_type": "code",
   "execution_count": 23,
   "metadata": {},
   "outputs": [
    {
     "data": {},
     "metadata": {},
     "output_type": "display_data"
    },
    {
     "data": {
      "application/vnd.holoviews_exec.v0+json": "",
      "text/html": [
       "<div id='2631'>\n",
       "  <div class=\"bk-root\" id=\"7d6659a8-c548-4b11-988a-5447dbe22c89\" data-root-id=\"2631\"></div>\n",
       "</div>\n",
       "<script type=\"application/javascript\">(function(root) {\n",
       "  function embed_document(root) {\n",
       "    var docs_json = {\"91a82f04-f2d1-4be3-8ab7-87a9f811c019\":{\"defs\":[{\"extends\":null,\"module\":null,\"name\":\"ReactiveHTML1\",\"overrides\":[],\"properties\":[]},{\"extends\":null,\"module\":null,\"name\":\"FlexBox1\",\"overrides\":[],\"properties\":[{\"default\":\"flex-start\",\"kind\":null,\"name\":\"align_content\"},{\"default\":\"flex-start\",\"kind\":null,\"name\":\"align_items\"},{\"default\":\"row\",\"kind\":null,\"name\":\"flex_direction\"},{\"default\":\"wrap\",\"kind\":null,\"name\":\"flex_wrap\"},{\"default\":\"flex-start\",\"kind\":null,\"name\":\"justify_content\"}]},{\"extends\":null,\"module\":null,\"name\":\"GridStack1\",\"overrides\":[],\"properties\":[{\"default\":\"warn\",\"kind\":null,\"name\":\"mode\"},{\"default\":null,\"kind\":null,\"name\":\"ncols\"},{\"default\":null,\"kind\":null,\"name\":\"nrows\"},{\"default\":true,\"kind\":null,\"name\":\"allow_resize\"},{\"default\":true,\"kind\":null,\"name\":\"allow_drag\"},{\"default\":[],\"kind\":null,\"name\":\"state\"}]},{\"extends\":null,\"module\":null,\"name\":\"click1\",\"overrides\":[],\"properties\":[{\"default\":\"\",\"kind\":null,\"name\":\"terminal_output\"},{\"default\":\"\",\"kind\":null,\"name\":\"debug_name\"},{\"default\":0,\"kind\":null,\"name\":\"clears\"}]},{\"extends\":null,\"module\":null,\"name\":\"NotificationAreaBase1\",\"overrides\":[],\"properties\":[{\"default\":\"bottom-right\",\"kind\":null,\"name\":\"position\"},{\"default\":0,\"kind\":null,\"name\":\"_clear\"}]},{\"extends\":null,\"module\":null,\"name\":\"NotificationArea1\",\"overrides\":[],\"properties\":[{\"default\":[],\"kind\":null,\"name\":\"notifications\"},{\"default\":\"bottom-right\",\"kind\":null,\"name\":\"position\"},{\"default\":0,\"kind\":null,\"name\":\"_clear\"},{\"default\":[{\"background\":\"#ffc107\",\"icon\":{\"className\":\"fas fa-exclamation-triangle\",\"color\":\"white\",\"tagName\":\"i\"},\"type\":\"warning\"},{\"background\":\"#007bff\",\"icon\":{\"className\":\"fas fa-info-circle\",\"color\":\"white\",\"tagName\":\"i\"},\"type\":\"info\"}],\"kind\":null,\"name\":\"types\"}]},{\"extends\":null,\"module\":null,\"name\":\"Notification\",\"overrides\":[],\"properties\":[{\"default\":null,\"kind\":null,\"name\":\"background\"},{\"default\":3000,\"kind\":null,\"name\":\"duration\"},{\"default\":null,\"kind\":null,\"name\":\"icon\"},{\"default\":\"\",\"kind\":null,\"name\":\"message\"},{\"default\":null,\"kind\":null,\"name\":\"notification_type\"},{\"default\":false,\"kind\":null,\"name\":\"_destroyed\"}]},{\"extends\":null,\"module\":null,\"name\":\"TemplateActions1\",\"overrides\":[],\"properties\":[{\"default\":0,\"kind\":null,\"name\":\"open_modal\"},{\"default\":0,\"kind\":null,\"name\":\"close_modal\"}]},{\"extends\":null,\"module\":null,\"name\":\"MaterialTemplateActions1\",\"overrides\":[],\"properties\":[{\"default\":0,\"kind\":null,\"name\":\"open_modal\"},{\"default\":0,\"kind\":null,\"name\":\"close_modal\"}]}],\"roots\":{\"references\":[{\"attributes\":{\"coordinates\":null,\"group\":null,\"text\":\"Revenue by Quarter\",\"text_color\":\"black\",\"text_font_size\":\"12pt\"},\"id\":\"2637\",\"type\":\"Title\"},{\"attributes\":{\"below\":[{\"id\":\"2645\"}],\"center\":[{\"id\":\"2647\"},{\"id\":\"2651\"}],\"height\":300,\"left\":[{\"id\":\"2648\"}],\"margin\":[5,5,5,5],\"min_border_bottom\":10,\"min_border_left\":10,\"min_border_right\":10,\"min_border_top\":10,\"renderers\":[{\"id\":\"2672\"}],\"sizing_mode\":\"fixed\",\"title\":{\"id\":\"2637\"},\"toolbar\":{\"id\":\"2658\"},\"width\":700,\"x_range\":{\"id\":\"2633\"},\"x_scale\":{\"id\":\"2641\"},\"y_range\":{\"id\":\"2634\"},\"y_scale\":{\"id\":\"2643\"}},\"id\":\"2636\",\"subtype\":\"Figure\",\"type\":\"Plot\"},{\"attributes\":{\"axis_label\":\"Years\",\"coordinates\":null,\"formatter\":{\"id\":\"2677\"},\"group\":null,\"major_label_orientation\":0.7853981633974483,\"major_label_policy\":{\"id\":\"2678\"},\"ticker\":{\"id\":\"2646\"}},\"id\":\"2645\",\"type\":\"CategoricalAxis\"},{\"attributes\":{\"axis\":{\"id\":\"2645\"},\"coordinates\":null,\"grid_line_color\":null,\"group\":null,\"ticker\":null},\"id\":\"2647\",\"type\":\"Grid\"},{\"attributes\":{},\"id\":\"2666\",\"type\":\"Selection\"},{\"attributes\":{},\"id\":\"2653\",\"type\":\"PanTool\"},{\"attributes\":{},\"id\":\"2646\",\"type\":\"CategoricalTicker\"},{\"attributes\":{},\"id\":\"2690\",\"type\":\"UnionRenderers\"},{\"attributes\":{\"data\":{\"Revenue\":[1976157000,2049546000,2094850000,2160979000,2256851000,2501199000,2621250000,2671908000,2702776000,2839670000],\"Years\":[\"Q1 - 2018\",\"Q2 - 2018\",\"Q3 - 2018\",\"Q4 - 2018\",\"Q1 - 2019\",\"Q2 - 2019\",\"Q3 - 2019\",\"Q4 - 2019\",\"Q1 - 2020\",\"Q2 - 2020\"]},\"selected\":{\"id\":\"2666\"},\"selection_policy\":{\"id\":\"2690\"}},\"id\":\"2665\",\"type\":\"ColumnDataSource\"},{\"attributes\":{},\"id\":\"2681\",\"type\":\"AllLabels\"},{\"attributes\":{\"axis_label\":\"Revenue\",\"coordinates\":null,\"formatter\":{\"id\":\"2675\"},\"group\":null,\"major_label_policy\":{\"id\":\"2681\"},\"ticker\":{\"id\":\"2649\"}},\"id\":\"2648\",\"type\":\"LinearAxis\"},{\"attributes\":{\"axis\":{\"id\":\"2648\"},\"coordinates\":null,\"dimension\":1,\"grid_line_color\":null,\"group\":null,\"ticker\":null},\"id\":\"2651\",\"type\":\"Grid\"},{\"attributes\":{},\"id\":\"2649\",\"type\":\"BasicTicker\"},{\"attributes\":{},\"id\":\"2654\",\"type\":\"WheelZoomTool\"},{\"attributes\":{\"margin\":[5,5,5,5],\"name\":\"HSpacer02706\",\"sizing_mode\":\"stretch_width\"},\"id\":\"2693\",\"type\":\"Spacer\"},{\"attributes\":{},\"id\":\"2652\",\"type\":\"SaveTool\"},{\"attributes\":{\"format\":\"%.0f\"},\"id\":\"2675\",\"type\":\"PrintfTickFormatter\"},{\"attributes\":{\"factors\":[\"Q1 - 2018\",\"Q2 - 2018\",\"Q3 - 2018\",\"Q4 - 2018\",\"Q1 - 2019\",\"Q2 - 2019\",\"Q3 - 2019\",\"Q4 - 2019\",\"Q1 - 2020\",\"Q2 - 2020\"],\"tags\":[[[\"Years\",\"Years\",null]]]},\"id\":\"2633\",\"type\":\"FactorRange\"},{\"attributes\":{\"overlay\":{\"id\":\"2657\"}},\"id\":\"2655\",\"type\":\"BoxZoomTool\"},{\"attributes\":{},\"id\":\"2656\",\"type\":\"ResetTool\"},{\"attributes\":{\"margin\":[5,5,5,5],\"name\":\"HSpacer02705\",\"sizing_mode\":\"stretch_width\"},\"id\":\"2632\",\"type\":\"Spacer\"},{\"attributes\":{},\"id\":\"2641\",\"type\":\"CategoricalScale\"},{\"attributes\":{},\"id\":\"2677\",\"type\":\"CategoricalTickFormatter\"},{\"attributes\":{\"bottom_units\":\"screen\",\"coordinates\":null,\"fill_alpha\":0.5,\"fill_color\":\"lightgrey\",\"group\":null,\"left_units\":\"screen\",\"level\":\"overlay\",\"line_alpha\":1.0,\"line_color\":\"black\",\"line_dash\":[4,4],\"line_width\":2,\"right_units\":\"screen\",\"syncable\":false,\"top_units\":\"screen\"},\"id\":\"2657\",\"type\":\"BoxAnnotation\"},{\"attributes\":{\"tools\":[{\"id\":\"2635\"},{\"id\":\"2652\"},{\"id\":\"2653\"},{\"id\":\"2654\"},{\"id\":\"2655\"},{\"id\":\"2656\"}]},\"id\":\"2658\",\"type\":\"Toolbar\"},{\"attributes\":{\"fill_color\":{\"value\":\"purple\"},\"hatch_color\":{\"value\":\"purple\"},\"top\":{\"field\":\"Revenue\"},\"width\":{\"value\":0.8},\"x\":{\"field\":\"Years\"}},\"id\":\"2668\",\"type\":\"VBar\"},{\"attributes\":{\"end\":2926021300.0,\"reset_end\":2926021300.0,\"reset_start\":0.0,\"tags\":[[[\"Revenue\",\"Revenue\",null]]]},\"id\":\"2634\",\"type\":\"Range1d\"},{\"attributes\":{\"fill_color\":{\"value\":\"blue\"},\"hatch_color\":{\"value\":\"blue\"},\"line_color\":{\"value\":\"blue\"},\"top\":{\"field\":\"Revenue\"},\"width\":{\"value\":0.8},\"x\":{\"field\":\"Years\"}},\"id\":\"2670\",\"type\":\"VBar\"},{\"attributes\":{\"fill_alpha\":{\"value\":0.1},\"fill_color\":{\"value\":\"purple\"},\"hatch_alpha\":{\"value\":0.1},\"hatch_color\":{\"value\":\"purple\"},\"line_alpha\":{\"value\":0.1},\"top\":{\"field\":\"Revenue\"},\"width\":{\"value\":0.8},\"x\":{\"field\":\"Years\"}},\"id\":\"2669\",\"type\":\"VBar\"},{\"attributes\":{\"coordinates\":null,\"data_source\":{\"id\":\"2665\"},\"glyph\":{\"id\":\"2668\"},\"group\":null,\"hover_glyph\":{\"id\":\"2670\"},\"muted_glyph\":{\"id\":\"2671\"},\"nonselection_glyph\":{\"id\":\"2669\"},\"selection_glyph\":{\"id\":\"2674\"},\"view\":{\"id\":\"2673\"}},\"id\":\"2672\",\"type\":\"GlyphRenderer\"},{\"attributes\":{\"bottom\":{\"value\":0},\"fill_alpha\":{\"value\":1.0},\"fill_color\":{\"value\":\"purple\"},\"hatch_alpha\":{\"value\":1.0},\"hatch_color\":{\"value\":\"purple\"},\"hatch_scale\":{\"value\":12.0},\"hatch_weight\":{\"value\":1.0},\"line_alpha\":{\"value\":1.0},\"line_cap\":{\"value\":\"butt\"},\"line_color\":{\"value\":\"black\"},\"line_dash\":{\"value\":[]},\"line_dash_offset\":{\"value\":0},\"line_join\":{\"value\":\"bevel\"},\"line_width\":{\"value\":1},\"top\":{\"field\":\"Revenue\"},\"width\":{\"value\":0.8},\"x\":{\"field\":\"Years\"}},\"id\":\"2674\",\"type\":\"VBar\"},{\"attributes\":{},\"id\":\"2678\",\"type\":\"AllLabels\"},{\"attributes\":{\"fill_alpha\":{\"value\":0.2},\"fill_color\":{\"value\":\"purple\"},\"hatch_alpha\":{\"value\":0.2},\"hatch_color\":{\"value\":\"purple\"},\"line_alpha\":{\"value\":0.2},\"top\":{\"field\":\"Revenue\"},\"width\":{\"value\":0.8},\"x\":{\"field\":\"Years\"}},\"id\":\"2671\",\"type\":\"VBar\"},{\"attributes\":{\"source\":{\"id\":\"2665\"}},\"id\":\"2673\",\"type\":\"CDSView\"},{\"attributes\":{},\"id\":\"2643\",\"type\":\"LinearScale\"},{\"attributes\":{\"callback\":null,\"renderers\":[{\"id\":\"2672\"}],\"tags\":[\"hv_created\"],\"tooltips\":[[\"Years\",\"@{Years}\"],[\"Revenue\",\"@{Revenue}\"]]},\"id\":\"2635\",\"type\":\"HoverTool\"},{\"attributes\":{\"children\":[{\"id\":\"2632\"},{\"id\":\"2636\"},{\"id\":\"2693\"}],\"margin\":[0,0,0,0],\"name\":\"Row02701\",\"tags\":[\"embedded\"]},\"id\":\"2631\",\"type\":\"Row\"}],\"root_ids\":[\"2631\"]},\"title\":\"Bokeh Application\",\"version\":\"2.4.3\"}};\n",
       "    var render_items = [{\"docid\":\"91a82f04-f2d1-4be3-8ab7-87a9f811c019\",\"root_ids\":[\"2631\"],\"roots\":{\"2631\":\"7d6659a8-c548-4b11-988a-5447dbe22c89\"}}];\n",
       "    root.Bokeh.embed.embed_items_notebook(docs_json, render_items);\n",
       "  }\n",
       "  if (root.Bokeh !== undefined && root.Bokeh.Panel !== undefined) {\n",
       "    embed_document(root);\n",
       "  } else {\n",
       "    var attempts = 0;\n",
       "    var timer = setInterval(function(root) {\n",
       "      if (root.Bokeh !== undefined && root.Bokeh.Panel !== undefined) {\n",
       "        clearInterval(timer);\n",
       "        embed_document(root);\n",
       "      } else if (document.readyState == \"complete\") {\n",
       "        attempts++;\n",
       "        if (attempts > 200) {\n",
       "          clearInterval(timer);\n",
       "          console.log(\"Bokeh: ERROR: Unable to run BokehJS code because BokehJS library is missing\");\n",
       "        }\n",
       "      }\n",
       "    }, 25, root)\n",
       "  }\n",
       "})(window);</script>"
      ],
      "text/plain": [
       ":Bars   [Years]   (Revenue)"
      ]
     },
     "execution_count": 23,
     "metadata": {
      "application/vnd.holoviews_exec.v0+json": {
       "id": "2631"
      }
     },
     "output_type": "execute_result"
    }
   ],
   "source": [
    "us_canada_revenue['Revenue'].hvplot.bar(xlabel=\"Years\", ylabel=\"Revenue\", rot=45, label=\"Revenue by Quarter\"\n",
    "                                       ).opts(yformatter='%.0f', color=\"purple\", hover_color =\"blue\")\n"
   ]
  },
  {
   "cell_type": "markdown",
   "metadata": {},
   "source": [
    "## Step 7. Save the plot you just created to a variable so that it can eventually be utilized in an overlay plot."
   ]
  },
  {
   "cell_type": "code",
   "execution_count": 28,
   "metadata": {},
   "outputs": [
    {
     "data": {},
     "metadata": {},
     "output_type": "display_data"
    },
    {
     "data": {
      "application/vnd.holoviews_exec.v0+json": "",
      "text/html": [
       "<div id='2849'>\n",
       "  <div class=\"bk-root\" id=\"d37b55b8-b283-4e37-8537-61bb69ac72b6\" data-root-id=\"2849\"></div>\n",
       "</div>\n",
       "<script type=\"application/javascript\">(function(root) {\n",
       "  function embed_document(root) {\n",
       "    var docs_json = {\"68d045f6-c20c-416d-bfae-82b8d79e71b6\":{\"defs\":[{\"extends\":null,\"module\":null,\"name\":\"ReactiveHTML1\",\"overrides\":[],\"properties\":[]},{\"extends\":null,\"module\":null,\"name\":\"FlexBox1\",\"overrides\":[],\"properties\":[{\"default\":\"flex-start\",\"kind\":null,\"name\":\"align_content\"},{\"default\":\"flex-start\",\"kind\":null,\"name\":\"align_items\"},{\"default\":\"row\",\"kind\":null,\"name\":\"flex_direction\"},{\"default\":\"wrap\",\"kind\":null,\"name\":\"flex_wrap\"},{\"default\":\"flex-start\",\"kind\":null,\"name\":\"justify_content\"}]},{\"extends\":null,\"module\":null,\"name\":\"GridStack1\",\"overrides\":[],\"properties\":[{\"default\":\"warn\",\"kind\":null,\"name\":\"mode\"},{\"default\":null,\"kind\":null,\"name\":\"ncols\"},{\"default\":null,\"kind\":null,\"name\":\"nrows\"},{\"default\":true,\"kind\":null,\"name\":\"allow_resize\"},{\"default\":true,\"kind\":null,\"name\":\"allow_drag\"},{\"default\":[],\"kind\":null,\"name\":\"state\"}]},{\"extends\":null,\"module\":null,\"name\":\"click1\",\"overrides\":[],\"properties\":[{\"default\":\"\",\"kind\":null,\"name\":\"terminal_output\"},{\"default\":\"\",\"kind\":null,\"name\":\"debug_name\"},{\"default\":0,\"kind\":null,\"name\":\"clears\"}]},{\"extends\":null,\"module\":null,\"name\":\"NotificationAreaBase1\",\"overrides\":[],\"properties\":[{\"default\":\"bottom-right\",\"kind\":null,\"name\":\"position\"},{\"default\":0,\"kind\":null,\"name\":\"_clear\"}]},{\"extends\":null,\"module\":null,\"name\":\"NotificationArea1\",\"overrides\":[],\"properties\":[{\"default\":[],\"kind\":null,\"name\":\"notifications\"},{\"default\":\"bottom-right\",\"kind\":null,\"name\":\"position\"},{\"default\":0,\"kind\":null,\"name\":\"_clear\"},{\"default\":[{\"background\":\"#ffc107\",\"icon\":{\"className\":\"fas fa-exclamation-triangle\",\"color\":\"white\",\"tagName\":\"i\"},\"type\":\"warning\"},{\"background\":\"#007bff\",\"icon\":{\"className\":\"fas fa-info-circle\",\"color\":\"white\",\"tagName\":\"i\"},\"type\":\"info\"}],\"kind\":null,\"name\":\"types\"}]},{\"extends\":null,\"module\":null,\"name\":\"Notification\",\"overrides\":[],\"properties\":[{\"default\":null,\"kind\":null,\"name\":\"background\"},{\"default\":3000,\"kind\":null,\"name\":\"duration\"},{\"default\":null,\"kind\":null,\"name\":\"icon\"},{\"default\":\"\",\"kind\":null,\"name\":\"message\"},{\"default\":null,\"kind\":null,\"name\":\"notification_type\"},{\"default\":false,\"kind\":null,\"name\":\"_destroyed\"}]},{\"extends\":null,\"module\":null,\"name\":\"TemplateActions1\",\"overrides\":[],\"properties\":[{\"default\":0,\"kind\":null,\"name\":\"open_modal\"},{\"default\":0,\"kind\":null,\"name\":\"close_modal\"}]},{\"extends\":null,\"module\":null,\"name\":\"MaterialTemplateActions1\",\"overrides\":[],\"properties\":[{\"default\":0,\"kind\":null,\"name\":\"open_modal\"},{\"default\":0,\"kind\":null,\"name\":\"close_modal\"}]}],\"roots\":{\"references\":[{\"attributes\":{\"axis\":{\"id\":\"2863\"},\"coordinates\":null,\"grid_line_color\":null,\"group\":null,\"ticker\":null},\"id\":\"2865\",\"type\":\"Grid\"},{\"attributes\":{\"format\":\"%.0f\"},\"id\":\"2893\",\"type\":\"PrintfTickFormatter\"},{\"attributes\":{\"coordinates\":null,\"group\":null,\"text\":\"Revenue by Quarter\",\"text_color\":\"black\",\"text_font_size\":\"12pt\"},\"id\":\"2855\",\"type\":\"Title\"},{\"attributes\":{\"margin\":[5,5,5,5],\"name\":\"HSpacer03053\",\"sizing_mode\":\"stretch_width\"},\"id\":\"2911\",\"type\":\"Spacer\"},{\"attributes\":{\"margin\":[5,5,5,5],\"name\":\"HSpacer03052\",\"sizing_mode\":\"stretch_width\"},\"id\":\"2850\",\"type\":\"Spacer\"},{\"attributes\":{\"axis_label\":\"Revenue\",\"coordinates\":null,\"formatter\":{\"id\":\"2893\"},\"group\":null,\"major_label_policy\":{\"id\":\"2899\"},\"ticker\":{\"id\":\"2867\"}},\"id\":\"2866\",\"type\":\"LinearAxis\"},{\"attributes\":{\"bottom_units\":\"screen\",\"coordinates\":null,\"fill_alpha\":0.5,\"fill_color\":\"lightgrey\",\"group\":null,\"left_units\":\"screen\",\"level\":\"overlay\",\"line_alpha\":1.0,\"line_color\":\"black\",\"line_dash\":[4,4],\"line_width\":2,\"right_units\":\"screen\",\"syncable\":false,\"top_units\":\"screen\"},\"id\":\"2875\",\"type\":\"BoxAnnotation\"},{\"attributes\":{\"callback\":null,\"renderers\":[{\"id\":\"2890\"}],\"tags\":[\"hv_created\"],\"tooltips\":[[\"Years\",\"@{Years}\"],[\"Revenue\",\"@{Revenue}\"]]},\"id\":\"2853\",\"type\":\"HoverTool\"},{\"attributes\":{},\"id\":\"2859\",\"type\":\"CategoricalScale\"},{\"attributes\":{},\"id\":\"2899\",\"type\":\"AllLabels\"},{\"attributes\":{},\"id\":\"2872\",\"type\":\"WheelZoomTool\"},{\"attributes\":{},\"id\":\"2884\",\"type\":\"Selection\"},{\"attributes\":{},\"id\":\"2870\",\"type\":\"SaveTool\"},{\"attributes\":{\"fill_color\":{\"value\":\"purple\"},\"hatch_color\":{\"value\":\"purple\"},\"top\":{\"field\":\"Revenue\"},\"width\":{\"value\":0.8},\"x\":{\"field\":\"Years\"}},\"id\":\"2886\",\"type\":\"VBar\"},{\"attributes\":{\"tools\":[{\"id\":\"2853\"},{\"id\":\"2870\"},{\"id\":\"2871\"},{\"id\":\"2872\"},{\"id\":\"2873\"},{\"id\":\"2874\"}]},\"id\":\"2876\",\"type\":\"Toolbar\"},{\"attributes\":{\"fill_color\":{\"value\":\"blue\"},\"hatch_color\":{\"value\":\"blue\"},\"line_color\":{\"value\":\"blue\"},\"top\":{\"field\":\"Revenue\"},\"width\":{\"value\":0.8},\"x\":{\"field\":\"Years\"}},\"id\":\"2888\",\"type\":\"VBar\"},{\"attributes\":{},\"id\":\"2867\",\"type\":\"BasicTicker\"},{\"attributes\":{\"fill_alpha\":{\"value\":0.1},\"fill_color\":{\"value\":\"purple\"},\"hatch_alpha\":{\"value\":0.1},\"hatch_color\":{\"value\":\"purple\"},\"line_alpha\":{\"value\":0.1},\"top\":{\"field\":\"Revenue\"},\"width\":{\"value\":0.8},\"x\":{\"field\":\"Years\"}},\"id\":\"2887\",\"type\":\"VBar\"},{\"attributes\":{},\"id\":\"2874\",\"type\":\"ResetTool\"},{\"attributes\":{\"coordinates\":null,\"data_source\":{\"id\":\"2883\"},\"glyph\":{\"id\":\"2886\"},\"group\":null,\"hover_glyph\":{\"id\":\"2888\"},\"muted_glyph\":{\"id\":\"2889\"},\"nonselection_glyph\":{\"id\":\"2887\"},\"selection_glyph\":{\"id\":\"2892\"},\"view\":{\"id\":\"2891\"}},\"id\":\"2890\",\"type\":\"GlyphRenderer\"},{\"attributes\":{\"overlay\":{\"id\":\"2875\"}},\"id\":\"2873\",\"type\":\"BoxZoomTool\"},{\"attributes\":{},\"id\":\"2861\",\"type\":\"LinearScale\"},{\"attributes\":{\"bottom\":{\"value\":0},\"fill_alpha\":{\"value\":1.0},\"fill_color\":{\"value\":\"purple\"},\"hatch_alpha\":{\"value\":1.0},\"hatch_color\":{\"value\":\"purple\"},\"hatch_scale\":{\"value\":12.0},\"hatch_weight\":{\"value\":1.0},\"line_alpha\":{\"value\":1.0},\"line_cap\":{\"value\":\"butt\"},\"line_color\":{\"value\":\"black\"},\"line_dash\":{\"value\":[]},\"line_dash_offset\":{\"value\":0},\"line_join\":{\"value\":\"bevel\"},\"line_width\":{\"value\":1},\"top\":{\"field\":\"Revenue\"},\"width\":{\"value\":0.8},\"x\":{\"field\":\"Years\"}},\"id\":\"2892\",\"type\":\"VBar\"},{\"attributes\":{\"below\":[{\"id\":\"2863\"}],\"center\":[{\"id\":\"2865\"},{\"id\":\"2869\"}],\"height\":300,\"left\":[{\"id\":\"2866\"}],\"margin\":[5,5,5,5],\"min_border_bottom\":10,\"min_border_left\":10,\"min_border_right\":10,\"min_border_top\":10,\"renderers\":[{\"id\":\"2890\"}],\"sizing_mode\":\"fixed\",\"title\":{\"id\":\"2855\"},\"toolbar\":{\"id\":\"2876\"},\"width\":700,\"x_range\":{\"id\":\"2851\"},\"x_scale\":{\"id\":\"2859\"},\"y_range\":{\"id\":\"2852\"},\"y_scale\":{\"id\":\"2861\"}},\"id\":\"2854\",\"subtype\":\"Figure\",\"type\":\"Plot\"},{\"attributes\":{\"fill_alpha\":{\"value\":0.2},\"fill_color\":{\"value\":\"purple\"},\"hatch_alpha\":{\"value\":0.2},\"hatch_color\":{\"value\":\"purple\"},\"line_alpha\":{\"value\":0.2},\"top\":{\"field\":\"Revenue\"},\"width\":{\"value\":0.8},\"x\":{\"field\":\"Years\"}},\"id\":\"2889\",\"type\":\"VBar\"},{\"attributes\":{\"source\":{\"id\":\"2883\"}},\"id\":\"2891\",\"type\":\"CDSView\"},{\"attributes\":{},\"id\":\"2908\",\"type\":\"UnionRenderers\"},{\"attributes\":{\"factors\":[\"Q1 - 2018\",\"Q2 - 2018\",\"Q3 - 2018\",\"Q4 - 2018\",\"Q1 - 2019\",\"Q2 - 2019\",\"Q3 - 2019\",\"Q4 - 2019\",\"Q1 - 2020\",\"Q2 - 2020\"],\"tags\":[[[\"Years\",\"Years\",null]]]},\"id\":\"2851\",\"type\":\"FactorRange\"},{\"attributes\":{},\"id\":\"2871\",\"type\":\"PanTool\"},{\"attributes\":{\"children\":[{\"id\":\"2850\"},{\"id\":\"2854\"},{\"id\":\"2911\"}],\"margin\":[0,0,0,0],\"name\":\"Row03048\",\"tags\":[\"embedded\"]},\"id\":\"2849\",\"type\":\"Row\"},{\"attributes\":{\"data\":{\"Revenue\":[1976157000,2049546000,2094850000,2160979000,2256851000,2501199000,2621250000,2671908000,2702776000,2839670000],\"Years\":[\"Q1 - 2018\",\"Q2 - 2018\",\"Q3 - 2018\",\"Q4 - 2018\",\"Q1 - 2019\",\"Q2 - 2019\",\"Q3 - 2019\",\"Q4 - 2019\",\"Q1 - 2020\",\"Q2 - 2020\"]},\"selected\":{\"id\":\"2884\"},\"selection_policy\":{\"id\":\"2908\"}},\"id\":\"2883\",\"type\":\"ColumnDataSource\"},{\"attributes\":{},\"id\":\"2895\",\"type\":\"CategoricalTickFormatter\"},{\"attributes\":{},\"id\":\"2896\",\"type\":\"AllLabels\"},{\"attributes\":{\"axis_label\":\"Years\",\"coordinates\":null,\"formatter\":{\"id\":\"2895\"},\"group\":null,\"major_label_orientation\":0.7853981633974483,\"major_label_policy\":{\"id\":\"2896\"},\"ticker\":{\"id\":\"2864\"}},\"id\":\"2863\",\"type\":\"CategoricalAxis\"},{\"attributes\":{\"axis\":{\"id\":\"2866\"},\"coordinates\":null,\"dimension\":1,\"grid_line_color\":null,\"group\":null,\"ticker\":null},\"id\":\"2869\",\"type\":\"Grid\"},{\"attributes\":{\"end\":2926021300.0,\"reset_end\":2926021300.0,\"reset_start\":0.0,\"tags\":[[[\"Revenue\",\"Revenue\",null]]]},\"id\":\"2852\",\"type\":\"Range1d\"},{\"attributes\":{},\"id\":\"2864\",\"type\":\"CategoricalTicker\"}],\"root_ids\":[\"2849\"]},\"title\":\"Bokeh Application\",\"version\":\"2.4.3\"}};\n",
       "    var render_items = [{\"docid\":\"68d045f6-c20c-416d-bfae-82b8d79e71b6\",\"root_ids\":[\"2849\"],\"roots\":{\"2849\":\"d37b55b8-b283-4e37-8537-61bb69ac72b6\"}}];\n",
       "    root.Bokeh.embed.embed_items_notebook(docs_json, render_items);\n",
       "  }\n",
       "  if (root.Bokeh !== undefined && root.Bokeh.Panel !== undefined) {\n",
       "    embed_document(root);\n",
       "  } else {\n",
       "    var attempts = 0;\n",
       "    var timer = setInterval(function(root) {\n",
       "      if (root.Bokeh !== undefined && root.Bokeh.Panel !== undefined) {\n",
       "        clearInterval(timer);\n",
       "        embed_document(root);\n",
       "      } else if (document.readyState == \"complete\") {\n",
       "        attempts++;\n",
       "        if (attempts > 200) {\n",
       "          clearInterval(timer);\n",
       "          console.log(\"Bokeh: ERROR: Unable to run BokehJS code because BokehJS library is missing\");\n",
       "        }\n",
       "      }\n",
       "    }, 25, root)\n",
       "  }\n",
       "})(window);</script>"
      ],
      "text/plain": [
       ":Bars   [Years]   (Revenue)"
      ]
     },
     "execution_count": 28,
     "metadata": {
      "application/vnd.holoviews_exec.v0+json": {
       "id": "2849"
      }
     },
     "output_type": "execute_result"
    }
   ],
   "source": [
    "# Save the US and Canada revenue plot to a variable\n",
    "\n",
    "us_can_plot = us_canada_revenue['Revenue'].hvplot.bar(xlabel=\"Years\", ylabel=\"Revenue\", rot=45, label=\"Revenue by Quarter\"\n",
    "                                       ).opts(yformatter='%.0f', color=\"purple\", hover_color =\"blue\")\n",
    "# Show the plot\n",
    "us_can_plot"
   ]
  },
  {
   "cell_type": "markdown",
   "metadata": {},
   "source": [
    "## Step 8: Create a line plot that visualizes the growth in revenue for the Europe, Middle East and Africa region. Style it with the same options utilized in the first plot. However, make the line_color equal to orange. Be sure to save this plot to a variable as well."
   ]
  },
  {
   "cell_type": "code",
   "execution_count": 29,
   "metadata": {},
   "outputs": [],
   "source": [
    "# Create a DataFrame that slices the subscriber data for the Europe, Middle East and Africa\n",
    "emea_revenue = regional_revenue_df.loc[regional_revenue_df['Area'] == \"Europe, Middle East and Africa\"]\n",
    "\n",
    "# Set the index of the DataFrame to Years\n",
    "emea_revenue = emea_revenue.set_index(\"Years\")\n",
    "\n"
   ]
  },
  {
   "cell_type": "code",
   "execution_count": 31,
   "metadata": {},
   "outputs": [
    {
     "data": {},
     "metadata": {},
     "output_type": "display_data"
    },
    {
     "data": {
      "application/vnd.holoviews_exec.v0+json": "",
      "text/html": [
       "<div id='3067'>\n",
       "  <div class=\"bk-root\" id=\"8f74dc68-4ec6-4906-9a2c-d60a85f1c850\" data-root-id=\"3067\"></div>\n",
       "</div>\n",
       "<script type=\"application/javascript\">(function(root) {\n",
       "  function embed_document(root) {\n",
       "    var docs_json = {\"df1c5d4b-7896-440d-ace1-e099f7d1b46c\":{\"defs\":[{\"extends\":null,\"module\":null,\"name\":\"ReactiveHTML1\",\"overrides\":[],\"properties\":[]},{\"extends\":null,\"module\":null,\"name\":\"FlexBox1\",\"overrides\":[],\"properties\":[{\"default\":\"flex-start\",\"kind\":null,\"name\":\"align_content\"},{\"default\":\"flex-start\",\"kind\":null,\"name\":\"align_items\"},{\"default\":\"row\",\"kind\":null,\"name\":\"flex_direction\"},{\"default\":\"wrap\",\"kind\":null,\"name\":\"flex_wrap\"},{\"default\":\"flex-start\",\"kind\":null,\"name\":\"justify_content\"}]},{\"extends\":null,\"module\":null,\"name\":\"GridStack1\",\"overrides\":[],\"properties\":[{\"default\":\"warn\",\"kind\":null,\"name\":\"mode\"},{\"default\":null,\"kind\":null,\"name\":\"ncols\"},{\"default\":null,\"kind\":null,\"name\":\"nrows\"},{\"default\":true,\"kind\":null,\"name\":\"allow_resize\"},{\"default\":true,\"kind\":null,\"name\":\"allow_drag\"},{\"default\":[],\"kind\":null,\"name\":\"state\"}]},{\"extends\":null,\"module\":null,\"name\":\"click1\",\"overrides\":[],\"properties\":[{\"default\":\"\",\"kind\":null,\"name\":\"terminal_output\"},{\"default\":\"\",\"kind\":null,\"name\":\"debug_name\"},{\"default\":0,\"kind\":null,\"name\":\"clears\"}]},{\"extends\":null,\"module\":null,\"name\":\"NotificationAreaBase1\",\"overrides\":[],\"properties\":[{\"default\":\"bottom-right\",\"kind\":null,\"name\":\"position\"},{\"default\":0,\"kind\":null,\"name\":\"_clear\"}]},{\"extends\":null,\"module\":null,\"name\":\"NotificationArea1\",\"overrides\":[],\"properties\":[{\"default\":[],\"kind\":null,\"name\":\"notifications\"},{\"default\":\"bottom-right\",\"kind\":null,\"name\":\"position\"},{\"default\":0,\"kind\":null,\"name\":\"_clear\"},{\"default\":[{\"background\":\"#ffc107\",\"icon\":{\"className\":\"fas fa-exclamation-triangle\",\"color\":\"white\",\"tagName\":\"i\"},\"type\":\"warning\"},{\"background\":\"#007bff\",\"icon\":{\"className\":\"fas fa-info-circle\",\"color\":\"white\",\"tagName\":\"i\"},\"type\":\"info\"}],\"kind\":null,\"name\":\"types\"}]},{\"extends\":null,\"module\":null,\"name\":\"Notification\",\"overrides\":[],\"properties\":[{\"default\":null,\"kind\":null,\"name\":\"background\"},{\"default\":3000,\"kind\":null,\"name\":\"duration\"},{\"default\":null,\"kind\":null,\"name\":\"icon\"},{\"default\":\"\",\"kind\":null,\"name\":\"message\"},{\"default\":null,\"kind\":null,\"name\":\"notification_type\"},{\"default\":false,\"kind\":null,\"name\":\"_destroyed\"}]},{\"extends\":null,\"module\":null,\"name\":\"TemplateActions1\",\"overrides\":[],\"properties\":[{\"default\":0,\"kind\":null,\"name\":\"open_modal\"},{\"default\":0,\"kind\":null,\"name\":\"close_modal\"}]},{\"extends\":null,\"module\":null,\"name\":\"MaterialTemplateActions1\",\"overrides\":[],\"properties\":[{\"default\":0,\"kind\":null,\"name\":\"open_modal\"},{\"default\":0,\"kind\":null,\"name\":\"close_modal\"}]}],\"roots\":{\"references\":[{\"attributes\":{},\"id\":\"3126\",\"type\":\"UnionRenderers\"},{\"attributes\":{},\"id\":\"3117\",\"type\":\"AllLabels\"},{\"attributes\":{\"factors\":[\"Q1 - 2018\",\"Q2 - 2018\",\"Q3 - 2018\",\"Q4 - 2018\",\"Q1 - 2019\",\"Q2 - 2019\",\"Q3 - 2019\",\"Q4 - 2019\",\"Q1 - 2020\",\"Q2 - 2020\"],\"tags\":[[[\"Years\",\"Years\",null]]]},\"id\":\"3069\",\"type\":\"FactorRange\"},{\"attributes\":{},\"id\":\"3077\",\"type\":\"CategoricalScale\"},{\"attributes\":{\"line_color\":\"blue\",\"line_width\":2,\"x\":{\"field\":\"Years\"},\"y\":{\"field\":\"Revenue\"}},\"id\":\"3106\",\"type\":\"Line\"},{\"attributes\":{\"below\":[{\"id\":\"3081\"}],\"center\":[{\"id\":\"3083\"},{\"id\":\"3087\"}],\"height\":300,\"left\":[{\"id\":\"3084\"}],\"margin\":[5,5,5,5],\"min_border_bottom\":10,\"min_border_left\":10,\"min_border_right\":10,\"min_border_top\":10,\"renderers\":[{\"id\":\"3108\"}],\"sizing_mode\":\"fixed\",\"title\":{\"id\":\"3073\"},\"toolbar\":{\"id\":\"3094\"},\"width\":700,\"x_range\":{\"id\":\"3069\"},\"x_scale\":{\"id\":\"3077\"},\"y_range\":{\"id\":\"3070\"},\"y_scale\":{\"id\":\"3079\"}},\"id\":\"3072\",\"subtype\":\"Figure\",\"type\":\"Plot\"},{\"attributes\":{\"overlay\":{\"id\":\"3093\"}},\"id\":\"3091\",\"type\":\"BoxZoomTool\"},{\"attributes\":{},\"id\":\"3090\",\"type\":\"WheelZoomTool\"},{\"attributes\":{},\"id\":\"3113\",\"type\":\"CategoricalTickFormatter\"},{\"attributes\":{\"coordinates\":null,\"data_source\":{\"id\":\"3101\"},\"glyph\":{\"id\":\"3104\"},\"group\":null,\"hover_glyph\":{\"id\":\"3106\"},\"muted_glyph\":{\"id\":\"3107\"},\"nonselection_glyph\":{\"id\":\"3105\"},\"selection_glyph\":{\"id\":\"3110\"},\"view\":{\"id\":\"3109\"}},\"id\":\"3108\",\"type\":\"GlyphRenderer\"},{\"attributes\":{\"data\":{\"Revenue\":[886649000,975497000,1004749000,1096812000,1233379000,1319087000,1428040000,1562561000,1723474000,1892537000],\"Years\":[\"Q1 - 2018\",\"Q2 - 2018\",\"Q3 - 2018\",\"Q4 - 2018\",\"Q1 - 2019\",\"Q2 - 2019\",\"Q3 - 2019\",\"Q4 - 2019\",\"Q1 - 2020\",\"Q2 - 2020\"]},\"selected\":{\"id\":\"3102\"},\"selection_policy\":{\"id\":\"3126\"}},\"id\":\"3101\",\"type\":\"ColumnDataSource\"},{\"attributes\":{},\"id\":\"3089\",\"type\":\"PanTool\"},{\"attributes\":{},\"id\":\"3079\",\"type\":\"LinearScale\"},{\"attributes\":{},\"id\":\"3088\",\"type\":\"SaveTool\"},{\"attributes\":{\"line_color\":\"orange\",\"line_width\":2,\"x\":{\"field\":\"Years\"},\"y\":{\"field\":\"Revenue\"}},\"id\":\"3110\",\"type\":\"Line\"},{\"attributes\":{\"children\":[{\"id\":\"3068\"},{\"id\":\"3072\"},{\"id\":\"3129\"}],\"margin\":[0,0,0,0],\"name\":\"Row03300\",\"tags\":[\"embedded\"]},\"id\":\"3067\",\"type\":\"Row\"},{\"attributes\":{},\"id\":\"3085\",\"type\":\"BasicTicker\"},{\"attributes\":{\"tools\":[{\"id\":\"3071\"},{\"id\":\"3088\"},{\"id\":\"3089\"},{\"id\":\"3090\"},{\"id\":\"3091\"},{\"id\":\"3092\"}]},\"id\":\"3094\",\"type\":\"Toolbar\"},{\"attributes\":{\"end\":1993125800.0,\"reset_end\":1993125800.0,\"reset_start\":786060200.0,\"start\":786060200.0,\"tags\":[[[\"Revenue\",\"Revenue\",null]]]},\"id\":\"3070\",\"type\":\"Range1d\"},{\"attributes\":{\"margin\":[5,5,5,5],\"name\":\"HSpacer03304\",\"sizing_mode\":\"stretch_width\"},\"id\":\"3068\",\"type\":\"Spacer\"},{\"attributes\":{},\"id\":\"3082\",\"type\":\"CategoricalTicker\"},{\"attributes\":{},\"id\":\"3114\",\"type\":\"AllLabels\"},{\"attributes\":{\"source\":{\"id\":\"3101\"}},\"id\":\"3109\",\"type\":\"CDSView\"},{\"attributes\":{\"axis\":{\"id\":\"3084\"},\"coordinates\":null,\"dimension\":1,\"grid_line_color\":null,\"group\":null,\"ticker\":null},\"id\":\"3087\",\"type\":\"Grid\"},{\"attributes\":{\"line_alpha\":0.1,\"line_color\":\"orange\",\"line_width\":2,\"x\":{\"field\":\"Years\"},\"y\":{\"field\":\"Revenue\"}},\"id\":\"3105\",\"type\":\"Line\"},{\"attributes\":{\"callback\":null,\"renderers\":[{\"id\":\"3108\"}],\"tags\":[\"hv_created\"],\"tooltips\":[[\"Years\",\"@{Years}\"],[\"Revenue\",\"@{Revenue}\"]]},\"id\":\"3071\",\"type\":\"HoverTool\"},{\"attributes\":{},\"id\":\"3092\",\"type\":\"ResetTool\"},{\"attributes\":{\"axis_label\":\"Years\",\"coordinates\":null,\"formatter\":{\"id\":\"3113\"},\"group\":null,\"major_label_orientation\":0.7853981633974483,\"major_label_policy\":{\"id\":\"3114\"},\"ticker\":{\"id\":\"3082\"}},\"id\":\"3081\",\"type\":\"CategoricalAxis\"},{\"attributes\":{\"axis_label\":\"Revenue\",\"coordinates\":null,\"formatter\":{\"id\":\"3111\"},\"group\":null,\"major_label_policy\":{\"id\":\"3117\"},\"ticker\":{\"id\":\"3085\"}},\"id\":\"3084\",\"type\":\"LinearAxis\"},{\"attributes\":{\"bottom_units\":\"screen\",\"coordinates\":null,\"fill_alpha\":0.5,\"fill_color\":\"lightgrey\",\"group\":null,\"left_units\":\"screen\",\"level\":\"overlay\",\"line_alpha\":1.0,\"line_color\":\"black\",\"line_dash\":[4,4],\"line_width\":2,\"right_units\":\"screen\",\"syncable\":false,\"top_units\":\"screen\"},\"id\":\"3093\",\"type\":\"BoxAnnotation\"},{\"attributes\":{\"margin\":[5,5,5,5],\"name\":\"HSpacer03305\",\"sizing_mode\":\"stretch_width\"},\"id\":\"3129\",\"type\":\"Spacer\"},{\"attributes\":{\"format\":\"%.0f\"},\"id\":\"3111\",\"type\":\"PrintfTickFormatter\"},{\"attributes\":{},\"id\":\"3102\",\"type\":\"Selection\"},{\"attributes\":{\"line_color\":\"orange\",\"line_width\":2,\"x\":{\"field\":\"Years\"},\"y\":{\"field\":\"Revenue\"}},\"id\":\"3104\",\"type\":\"Line\"},{\"attributes\":{\"axis\":{\"id\":\"3081\"},\"coordinates\":null,\"grid_line_color\":null,\"group\":null,\"ticker\":null},\"id\":\"3083\",\"type\":\"Grid\"},{\"attributes\":{\"coordinates\":null,\"group\":null,\"text\":\"EMEA Revenue by Year\",\"text_color\":\"black\",\"text_font_size\":\"12pt\"},\"id\":\"3073\",\"type\":\"Title\"},{\"attributes\":{\"line_alpha\":0.2,\"line_color\":\"orange\",\"line_width\":2,\"x\":{\"field\":\"Years\"},\"y\":{\"field\":\"Revenue\"}},\"id\":\"3107\",\"type\":\"Line\"}],\"root_ids\":[\"3067\"]},\"title\":\"Bokeh Application\",\"version\":\"2.4.3\"}};\n",
       "    var render_items = [{\"docid\":\"df1c5d4b-7896-440d-ace1-e099f7d1b46c\",\"root_ids\":[\"3067\"],\"roots\":{\"3067\":\"8f74dc68-4ec6-4906-9a2c-d60a85f1c850\"}}];\n",
       "    root.Bokeh.embed.embed_items_notebook(docs_json, render_items);\n",
       "  }\n",
       "  if (root.Bokeh !== undefined && root.Bokeh.Panel !== undefined) {\n",
       "    embed_document(root);\n",
       "  } else {\n",
       "    var attempts = 0;\n",
       "    var timer = setInterval(function(root) {\n",
       "      if (root.Bokeh !== undefined && root.Bokeh.Panel !== undefined) {\n",
       "        clearInterval(timer);\n",
       "        embed_document(root);\n",
       "      } else if (document.readyState == \"complete\") {\n",
       "        attempts++;\n",
       "        if (attempts > 200) {\n",
       "          clearInterval(timer);\n",
       "          console.log(\"Bokeh: ERROR: Unable to run BokehJS code because BokehJS library is missing\");\n",
       "        }\n",
       "      }\n",
       "    }, 25, root)\n",
       "  }\n",
       "})(window);</script>"
      ],
      "text/plain": [
       ":Curve   [Years]   (Revenue)"
      ]
     },
     "execution_count": 31,
     "metadata": {
      "application/vnd.holoviews_exec.v0+json": {
       "id": "3067"
      }
     },
     "output_type": "execute_result"
    }
   ],
   "source": [
    "# Create a styled line plot for the Europe, Middle East Africa region. \n",
    "# Make the line_color orange and be sure to set the plot equal to a variable. \n",
    "emea_rev_plot = emea_revenue.hvplot.line(xlabel=\"Years\", ylabel=\"Revenue\", rot=45, label=\"EMEA Revenue by Year\"\n",
    "                                        ).opts(yformatter='%.0f', color=\"orange\", hover_color =\"blue\")\n",
    "\n",
    "# Show the plot\n",
    "emea_rev_plot \n"
   ]
  },
  {
   "cell_type": "markdown",
   "metadata": {},
   "source": [
    "## Step 9: Create an overlay plot for the \"United States and Canada\" and the \"Europe, Middle East and Africa\" regions."
   ]
  },
  {
   "cell_type": "code",
   "execution_count": 44,
   "metadata": {},
   "outputs": [
    {
     "data": {},
     "metadata": {},
     "output_type": "display_data"
    },
    {
     "data": {
      "application/vnd.holoviews_exec.v0+json": "",
      "text/html": [
       "<div id='3878'>\n",
       "  <div class=\"bk-root\" id=\"9f974f8e-8651-443f-9258-3fffd00e1b2e\" data-root-id=\"3878\"></div>\n",
       "</div>\n",
       "<script type=\"application/javascript\">(function(root) {\n",
       "  function embed_document(root) {\n",
       "    var docs_json = {\"341340c9-ceac-4fe4-bd0e-6cd88fc32dd6\":{\"defs\":[{\"extends\":null,\"module\":null,\"name\":\"ReactiveHTML1\",\"overrides\":[],\"properties\":[]},{\"extends\":null,\"module\":null,\"name\":\"FlexBox1\",\"overrides\":[],\"properties\":[{\"default\":\"flex-start\",\"kind\":null,\"name\":\"align_content\"},{\"default\":\"flex-start\",\"kind\":null,\"name\":\"align_items\"},{\"default\":\"row\",\"kind\":null,\"name\":\"flex_direction\"},{\"default\":\"wrap\",\"kind\":null,\"name\":\"flex_wrap\"},{\"default\":\"flex-start\",\"kind\":null,\"name\":\"justify_content\"}]},{\"extends\":null,\"module\":null,\"name\":\"GridStack1\",\"overrides\":[],\"properties\":[{\"default\":\"warn\",\"kind\":null,\"name\":\"mode\"},{\"default\":null,\"kind\":null,\"name\":\"ncols\"},{\"default\":null,\"kind\":null,\"name\":\"nrows\"},{\"default\":true,\"kind\":null,\"name\":\"allow_resize\"},{\"default\":true,\"kind\":null,\"name\":\"allow_drag\"},{\"default\":[],\"kind\":null,\"name\":\"state\"}]},{\"extends\":null,\"module\":null,\"name\":\"click1\",\"overrides\":[],\"properties\":[{\"default\":\"\",\"kind\":null,\"name\":\"terminal_output\"},{\"default\":\"\",\"kind\":null,\"name\":\"debug_name\"},{\"default\":0,\"kind\":null,\"name\":\"clears\"}]},{\"extends\":null,\"module\":null,\"name\":\"NotificationAreaBase1\",\"overrides\":[],\"properties\":[{\"default\":\"bottom-right\",\"kind\":null,\"name\":\"position\"},{\"default\":0,\"kind\":null,\"name\":\"_clear\"}]},{\"extends\":null,\"module\":null,\"name\":\"NotificationArea1\",\"overrides\":[],\"properties\":[{\"default\":[],\"kind\":null,\"name\":\"notifications\"},{\"default\":\"bottom-right\",\"kind\":null,\"name\":\"position\"},{\"default\":0,\"kind\":null,\"name\":\"_clear\"},{\"default\":[{\"background\":\"#ffc107\",\"icon\":{\"className\":\"fas fa-exclamation-triangle\",\"color\":\"white\",\"tagName\":\"i\"},\"type\":\"warning\"},{\"background\":\"#007bff\",\"icon\":{\"className\":\"fas fa-info-circle\",\"color\":\"white\",\"tagName\":\"i\"},\"type\":\"info\"}],\"kind\":null,\"name\":\"types\"}]},{\"extends\":null,\"module\":null,\"name\":\"Notification\",\"overrides\":[],\"properties\":[{\"default\":null,\"kind\":null,\"name\":\"background\"},{\"default\":3000,\"kind\":null,\"name\":\"duration\"},{\"default\":null,\"kind\":null,\"name\":\"icon\"},{\"default\":\"\",\"kind\":null,\"name\":\"message\"},{\"default\":null,\"kind\":null,\"name\":\"notification_type\"},{\"default\":false,\"kind\":null,\"name\":\"_destroyed\"}]},{\"extends\":null,\"module\":null,\"name\":\"TemplateActions1\",\"overrides\":[],\"properties\":[{\"default\":0,\"kind\":null,\"name\":\"open_modal\"},{\"default\":0,\"kind\":null,\"name\":\"close_modal\"}]},{\"extends\":null,\"module\":null,\"name\":\"MaterialTemplateActions1\",\"overrides\":[],\"properties\":[{\"default\":0,\"kind\":null,\"name\":\"open_modal\"},{\"default\":0,\"kind\":null,\"name\":\"close_modal\"}]}],\"roots\":{\"references\":[{\"attributes\":{\"factors\":[\"Q1 - 2018\",\"Q2 - 2018\",\"Q3 - 2018\",\"Q4 - 2018\",\"Q1 - 2019\",\"Q2 - 2019\",\"Q3 - 2019\",\"Q4 - 2019\",\"Q1 - 2020\",\"Q2 - 2020\"],\"tags\":[[[\"Years\",\"Years\",null]]]},\"id\":\"3880\",\"type\":\"FactorRange\"},{\"attributes\":{\"click_policy\":\"mute\",\"coordinates\":null,\"group\":null,\"items\":[{\"id\":\"3941\"},{\"id\":\"3963\"}],\"location\":[0,0]},\"id\":\"3940\",\"type\":\"Legend\"},{\"attributes\":{\"below\":[{\"id\":\"3893\"}],\"center\":[{\"id\":\"3895\"},{\"id\":\"3899\"}],\"height\":300,\"left\":[{\"id\":\"3896\"}],\"margin\":[5,5,5,5],\"min_border_bottom\":10,\"min_border_left\":10,\"min_border_right\":10,\"min_border_top\":10,\"renderers\":[{\"id\":\"3929\"},{\"id\":\"3950\"}],\"right\":[{\"id\":\"3940\"}],\"sizing_mode\":\"fixed\",\"title\":{\"id\":\"3885\"},\"toolbar\":{\"id\":\"3906\"},\"width\":700,\"x_range\":{\"id\":\"3880\"},\"x_scale\":{\"id\":\"3889\"},\"y_range\":{\"id\":\"3881\"},\"y_scale\":{\"id\":\"3891\"}},\"id\":\"3884\",\"subtype\":\"Figure\",\"type\":\"Plot\"},{\"attributes\":{\"source\":{\"id\":\"3922\"}},\"id\":\"3930\",\"type\":\"CDSView\"},{\"attributes\":{},\"id\":\"3960\",\"type\":\"UnionRenderers\"},{\"attributes\":{\"line_color\":\"orange\",\"line_width\":2,\"x\":{\"field\":\"Years\"},\"y\":{\"field\":\"Revenue\"}},\"id\":\"3946\",\"type\":\"Line\"},{\"attributes\":{},\"id\":\"3916\",\"type\":\"AllLabels\"},{\"attributes\":{\"margin\":[5,5,5,5],\"name\":\"HSpacer03564\",\"sizing_mode\":\"stretch_width\"},\"id\":\"3976\",\"type\":\"Spacer\"},{\"attributes\":{\"fill_color\":{\"value\":\"blue\"},\"hatch_color\":{\"value\":\"blue\"},\"line_color\":{\"value\":\"blue\"},\"top\":{\"field\":\"Revenue\"},\"width\":{\"value\":0.8},\"x\":{\"field\":\"Years\"}},\"id\":\"3927\",\"type\":\"VBar\"},{\"attributes\":{\"bottom\":{\"value\":0},\"fill_alpha\":{\"value\":1.0},\"fill_color\":{\"value\":\"purple\"},\"hatch_alpha\":{\"value\":1.0},\"hatch_color\":{\"value\":\"purple\"},\"hatch_scale\":{\"value\":12.0},\"hatch_weight\":{\"value\":1.0},\"line_alpha\":{\"value\":1.0},\"line_cap\":{\"value\":\"butt\"},\"line_color\":{\"value\":\"black\"},\"line_dash\":{\"value\":[]},\"line_dash_offset\":{\"value\":0},\"line_join\":{\"value\":\"bevel\"},\"line_width\":{\"value\":1},\"top\":{\"field\":\"Revenue\"},\"width\":{\"value\":0.8},\"x\":{\"field\":\"Years\"}},\"id\":\"3942\",\"type\":\"VBar\"},{\"attributes\":{},\"id\":\"3923\",\"type\":\"Selection\"},{\"attributes\":{\"bottom_units\":\"screen\",\"coordinates\":null,\"fill_alpha\":0.5,\"fill_color\":\"lightgrey\",\"group\":null,\"left_units\":\"screen\",\"level\":\"overlay\",\"line_alpha\":1.0,\"line_color\":\"black\",\"line_dash\":[4,4],\"line_width\":2,\"right_units\":\"screen\",\"syncable\":false,\"top_units\":\"screen\"},\"id\":\"3905\",\"type\":\"BoxAnnotation\"},{\"attributes\":{\"coordinates\":null,\"group\":null,\"text_color\":\"black\",\"text_font_size\":\"12pt\"},\"id\":\"3885\",\"type\":\"Title\"},{\"attributes\":{},\"id\":\"3944\",\"type\":\"Selection\"},{\"attributes\":{},\"id\":\"3891\",\"type\":\"LinearScale\"},{\"attributes\":{\"line_alpha\":0.2,\"line_color\":\"orange\",\"line_width\":2,\"x\":{\"field\":\"Years\"},\"y\":{\"field\":\"Revenue\"}},\"id\":\"3949\",\"type\":\"Line\"},{\"attributes\":{\"data\":{\"Revenue\":[1976157000,2049546000,2094850000,2160979000,2256851000,2501199000,2621250000,2671908000,2702776000,2839670000],\"Years\":[\"Q1 - 2018\",\"Q2 - 2018\",\"Q3 - 2018\",\"Q4 - 2018\",\"Q1 - 2019\",\"Q2 - 2019\",\"Q3 - 2019\",\"Q4 - 2019\",\"Q1 - 2020\",\"Q2 - 2020\"]},\"selected\":{\"id\":\"3923\"},\"selection_policy\":{\"id\":\"3937\"}},\"id\":\"3922\",\"type\":\"ColumnDataSource\"},{\"attributes\":{\"margin\":[5,5,5,5],\"name\":\"HSpacer03563\",\"sizing_mode\":\"stretch_width\"},\"id\":\"3879\",\"type\":\"Spacer\"},{\"attributes\":{\"callback\":null,\"renderers\":[{\"id\":\"3929\"},{\"id\":\"3950\"}],\"tags\":[\"hv_created\"],\"tooltips\":[[\"Years\",\"@{Years}\"],[\"Revenue\",\"@{Revenue}\"]]},\"id\":\"3882\",\"type\":\"HoverTool\"},{\"attributes\":{\"tools\":[{\"id\":\"3882\"},{\"id\":\"3900\"},{\"id\":\"3901\"},{\"id\":\"3902\"},{\"id\":\"3903\"},{\"id\":\"3904\"}]},\"id\":\"3906\",\"type\":\"Toolbar\"},{\"attributes\":{\"axis\":{\"id\":\"3893\"},\"coordinates\":null,\"grid_line_color\":null,\"group\":null,\"ticker\":null},\"id\":\"3895\",\"type\":\"Grid\"},{\"attributes\":{},\"id\":\"3889\",\"type\":\"CategoricalScale\"},{\"attributes\":{},\"id\":\"3901\",\"type\":\"PanTool\"},{\"attributes\":{},\"id\":\"3915\",\"type\":\"CategoricalTickFormatter\"},{\"attributes\":{\"label\":{\"value\":\"Revenue by Quarter\"},\"renderers\":[{\"id\":\"3929\"}]},\"id\":\"3941\",\"type\":\"LegendItem\"},{\"attributes\":{\"axis_label\":\"Revenue\",\"coordinates\":null,\"formatter\":{\"id\":\"3913\"},\"group\":null,\"major_label_policy\":{\"id\":\"3919\"},\"ticker\":{\"id\":\"3897\"}},\"id\":\"3896\",\"type\":\"LinearAxis\"},{\"attributes\":{\"axis\":{\"id\":\"3896\"},\"coordinates\":null,\"dimension\":1,\"grid_line_color\":null,\"group\":null,\"ticker\":null},\"id\":\"3899\",\"type\":\"Grid\"},{\"attributes\":{},\"id\":\"3897\",\"type\":\"BasicTicker\"},{\"attributes\":{\"format\":\"%.0f\"},\"id\":\"3913\",\"type\":\"PrintfTickFormatter\"},{\"attributes\":{},\"id\":\"3902\",\"type\":\"WheelZoomTool\"},{\"attributes\":{\"children\":[{\"id\":\"3879\"},{\"id\":\"3884\"},{\"id\":\"3976\"}],\"margin\":[0,0,0,0],\"name\":\"Row03559\",\"tags\":[\"embedded\"]},\"id\":\"3878\",\"type\":\"Row\"},{\"attributes\":{},\"id\":\"3900\",\"type\":\"SaveTool\"},{\"attributes\":{\"source\":{\"id\":\"3943\"}},\"id\":\"3951\",\"type\":\"CDSView\"},{\"attributes\":{\"overlay\":{\"id\":\"3905\"}},\"id\":\"3903\",\"type\":\"BoxZoomTool\"},{\"attributes\":{},\"id\":\"3904\",\"type\":\"ResetTool\"},{\"attributes\":{},\"id\":\"3919\",\"type\":\"AllLabels\"},{\"attributes\":{},\"id\":\"3937\",\"type\":\"UnionRenderers\"},{\"attributes\":{\"data\":{\"Revenue\":[886649000,975497000,1004749000,1096812000,1233379000,1319087000,1428040000,1562561000,1723474000,1892537000],\"Years\":[\"Q1 - 2018\",\"Q2 - 2018\",\"Q3 - 2018\",\"Q4 - 2018\",\"Q1 - 2019\",\"Q2 - 2019\",\"Q3 - 2019\",\"Q4 - 2019\",\"Q1 - 2020\",\"Q2 - 2020\"]},\"selected\":{\"id\":\"3944\"},\"selection_policy\":{\"id\":\"3960\"}},\"id\":\"3943\",\"type\":\"ColumnDataSource\"},{\"attributes\":{\"coordinates\":null,\"data_source\":{\"id\":\"3943\"},\"glyph\":{\"id\":\"3946\"},\"group\":null,\"hover_glyph\":{\"id\":\"3948\"},\"muted_glyph\":{\"id\":\"3949\"},\"nonselection_glyph\":{\"id\":\"3947\"},\"selection_glyph\":{\"id\":\"3964\"},\"view\":{\"id\":\"3951\"}},\"id\":\"3950\",\"type\":\"GlyphRenderer\"},{\"attributes\":{\"fill_color\":{\"value\":\"purple\"},\"hatch_color\":{\"value\":\"purple\"},\"top\":{\"field\":\"Revenue\"},\"width\":{\"value\":0.8},\"x\":{\"field\":\"Years\"}},\"id\":\"3925\",\"type\":\"VBar\"},{\"attributes\":{\"fill_alpha\":{\"value\":0.1},\"fill_color\":{\"value\":\"purple\"},\"hatch_alpha\":{\"value\":0.1},\"hatch_color\":{\"value\":\"purple\"},\"line_alpha\":{\"value\":0.1},\"top\":{\"field\":\"Revenue\"},\"width\":{\"value\":0.8},\"x\":{\"field\":\"Years\"}},\"id\":\"3926\",\"type\":\"VBar\"},{\"attributes\":{\"line_color\":\"blue\",\"line_width\":2,\"x\":{\"field\":\"Years\"},\"y\":{\"field\":\"Revenue\"}},\"id\":\"3948\",\"type\":\"Line\"},{\"attributes\":{\"line_color\":\"orange\",\"line_width\":2,\"x\":{\"field\":\"Years\"},\"y\":{\"field\":\"Revenue\"}},\"id\":\"3964\",\"type\":\"Line\"},{\"attributes\":{\"end\":3034972100.0,\"reset_end\":3034972100.0,\"reset_start\":0.0,\"tags\":[[[\"Revenue\",\"Revenue\",null]]]},\"id\":\"3881\",\"type\":\"Range1d\"},{\"attributes\":{\"fill_alpha\":{\"value\":0.2},\"fill_color\":{\"value\":\"purple\"},\"hatch_alpha\":{\"value\":0.2},\"hatch_color\":{\"value\":\"purple\"},\"line_alpha\":{\"value\":0.2},\"top\":{\"field\":\"Revenue\"},\"width\":{\"value\":0.8},\"x\":{\"field\":\"Years\"}},\"id\":\"3928\",\"type\":\"VBar\"},{\"attributes\":{\"line_alpha\":0.1,\"line_color\":\"orange\",\"line_width\":2,\"x\":{\"field\":\"Years\"},\"y\":{\"field\":\"Revenue\"}},\"id\":\"3947\",\"type\":\"Line\"},{\"attributes\":{\"label\":{\"value\":\"EMEA Revenue by Year\"},\"renderers\":[{\"id\":\"3950\"}]},\"id\":\"3963\",\"type\":\"LegendItem\"},{\"attributes\":{},\"id\":\"3894\",\"type\":\"CategoricalTicker\"},{\"attributes\":{\"axis_label\":\"Years\",\"coordinates\":null,\"formatter\":{\"id\":\"3915\"},\"group\":null,\"major_label_orientation\":0.7853981633974483,\"major_label_policy\":{\"id\":\"3916\"},\"ticker\":{\"id\":\"3894\"}},\"id\":\"3893\",\"type\":\"CategoricalAxis\"},{\"attributes\":{\"coordinates\":null,\"data_source\":{\"id\":\"3922\"},\"glyph\":{\"id\":\"3925\"},\"group\":null,\"hover_glyph\":{\"id\":\"3927\"},\"muted_glyph\":{\"id\":\"3928\"},\"nonselection_glyph\":{\"id\":\"3926\"},\"selection_glyph\":{\"id\":\"3942\"},\"view\":{\"id\":\"3930\"}},\"id\":\"3929\",\"type\":\"GlyphRenderer\"}],\"root_ids\":[\"3878\"]},\"title\":\"Bokeh Application\",\"version\":\"2.4.3\"}};\n",
       "    var render_items = [{\"docid\":\"341340c9-ceac-4fe4-bd0e-6cd88fc32dd6\",\"root_ids\":[\"3878\"],\"roots\":{\"3878\":\"9f974f8e-8651-443f-9258-3fffd00e1b2e\"}}];\n",
       "    root.Bokeh.embed.embed_items_notebook(docs_json, render_items);\n",
       "  }\n",
       "  if (root.Bokeh !== undefined && root.Bokeh.Panel !== undefined) {\n",
       "    embed_document(root);\n",
       "  } else {\n",
       "    var attempts = 0;\n",
       "    var timer = setInterval(function(root) {\n",
       "      if (root.Bokeh !== undefined && root.Bokeh.Panel !== undefined) {\n",
       "        clearInterval(timer);\n",
       "        embed_document(root);\n",
       "      } else if (document.readyState == \"complete\") {\n",
       "        attempts++;\n",
       "        if (attempts > 200) {\n",
       "          clearInterval(timer);\n",
       "          console.log(\"Bokeh: ERROR: Unable to run BokehJS code because BokehJS library is missing\");\n",
       "        }\n",
       "      }\n",
       "    }, 25, root)\n",
       "  }\n",
       "})(window);</script>"
      ],
      "text/plain": [
       ":Overlay\n",
       "   .Bars.Revenue_by_Quarter    :Bars   [Years]   (Revenue)\n",
       "   .Curve.EMEA_Revenue_by_Year :Curve   [Years]   (Revenue)"
      ]
     },
     "execution_count": 44,
     "metadata": {
      "application/vnd.holoviews_exec.v0+json": {
       "id": "3878"
      }
     },
     "output_type": "execute_result"
    }
   ],
   "source": [
    "# Create an overlay plot for the two visualizations\n",
    "\n",
    "combo_plot =  us_can_plot * emea_rev_plot\n",
    "combo_plot"
   ]
  },
  {
   "cell_type": "markdown",
   "metadata": {},
   "source": [
    "## Step 10: Add a title to the overlay plot. Additionally, adjust height, width and background color."
   ]
  },
  {
   "cell_type": "code",
   "execution_count": 43,
   "metadata": {},
   "outputs": [
    {
     "ename": "ValueError",
     "evalue": "Unexpected option 'color' for Overlay type across all extensions. Similar options for current extension ('bokeh') are: ['bgcolor', 'text_color'].",
     "output_type": "error",
     "traceback": [
      "\u001b[1;31m---------------------------------------------------------------------------\u001b[0m",
      "\u001b[1;31mValueError\u001b[0m                                Traceback (most recent call last)",
      "\u001b[1;32m~\\AppData\\Local\\Temp\\ipykernel_15648\\624695906.py\u001b[0m in \u001b[0;36m<module>\u001b[1;34m\u001b[0m\n\u001b[0;32m      1\u001b[0m \u001b[1;31m# Adjust the title, height, width and background color of the overlay plot\u001b[0m\u001b[1;33m\u001b[0m\u001b[1;33m\u001b[0m\u001b[0m\n\u001b[1;32m----> 2\u001b[1;33m \u001b[0mcombo_plot\u001b[0m\u001b[1;33m.\u001b[0m\u001b[0mopts\u001b[0m\u001b[1;33m(\u001b[0m\u001b[0mxlabel\u001b[0m\u001b[1;33m=\u001b[0m\u001b[1;34m\"Years\"\u001b[0m\u001b[1;33m,\u001b[0m \u001b[0mylabel\u001b[0m\u001b[1;33m=\u001b[0m\u001b[1;34m\"Revenue\"\u001b[0m\u001b[1;33m,\u001b[0m \u001b[0myformatter\u001b[0m\u001b[1;33m=\u001b[0m\u001b[1;34m'%.0f'\u001b[0m\u001b[1;33m,\u001b[0m \u001b[0mbgcolor\u001b[0m\u001b[1;33m=\u001b[0m\u001b[1;34m'grey'\u001b[0m\u001b[1;33m,\u001b[0m \u001b[0mcolor\u001b[0m\u001b[1;33m=\u001b[0m\u001b[1;34m\"orange\"\u001b[0m\u001b[1;33m,\u001b[0m \u001b[0mhover_color\u001b[0m \u001b[1;33m=\u001b[0m\u001b[1;34m\"blue\"\u001b[0m\u001b[1;33m)\u001b[0m\u001b[1;33m\u001b[0m\u001b[1;33m\u001b[0m\u001b[0m\n\u001b[0m\u001b[0;32m      3\u001b[0m \u001b[1;33m\u001b[0m\u001b[0m\n",
      "\u001b[1;32m~\\anaconda3\\lib\\site-packages\\holoviews\\core\\accessors.py\u001b[0m in \u001b[0;36mpipelined_call\u001b[1;34m(*args, **kwargs)\u001b[0m\n\u001b[0;32m     35\u001b[0m             \u001b[1;32mif\u001b[0m \u001b[1;32mnot\u001b[0m \u001b[0mhasattr\u001b[0m\u001b[1;33m(\u001b[0m\u001b[0minst\u001b[0m\u001b[1;33m.\u001b[0m\u001b[0m_obj\u001b[0m\u001b[1;33m,\u001b[0m \u001b[1;34m'_pipeline'\u001b[0m\u001b[1;33m)\u001b[0m\u001b[1;33m:\u001b[0m\u001b[1;33m\u001b[0m\u001b[1;33m\u001b[0m\u001b[0m\n\u001b[0;32m     36\u001b[0m                 \u001b[1;31m# Wrapped object doesn't support the pipeline property\u001b[0m\u001b[1;33m\u001b[0m\u001b[1;33m\u001b[0m\u001b[0m\n\u001b[1;32m---> 37\u001b[1;33m                 \u001b[1;32mreturn\u001b[0m \u001b[0m__call__\u001b[0m\u001b[1;33m(\u001b[0m\u001b[1;33m*\u001b[0m\u001b[0margs\u001b[0m\u001b[1;33m,\u001b[0m \u001b[1;33m**\u001b[0m\u001b[0mkwargs\u001b[0m\u001b[1;33m)\u001b[0m\u001b[1;33m\u001b[0m\u001b[1;33m\u001b[0m\u001b[0m\n\u001b[0m\u001b[0;32m     38\u001b[0m \u001b[1;33m\u001b[0m\u001b[0m\n\u001b[0;32m     39\u001b[0m             \u001b[0minst_pipeline\u001b[0m \u001b[1;33m=\u001b[0m \u001b[0mcopy\u001b[0m\u001b[1;33m.\u001b[0m\u001b[0mcopy\u001b[0m\u001b[1;33m(\u001b[0m\u001b[0minst\u001b[0m\u001b[1;33m.\u001b[0m\u001b[0m_obj\u001b[0m\u001b[1;33m.\u001b[0m \u001b[0m_pipeline\u001b[0m\u001b[1;33m)\u001b[0m\u001b[1;33m\u001b[0m\u001b[1;33m\u001b[0m\u001b[0m\n",
      "\u001b[1;32m~\\anaconda3\\lib\\site-packages\\holoviews\\core\\accessors.py\u001b[0m in \u001b[0;36m__call__\u001b[1;34m(self, *args, **kwargs)\u001b[0m\n\u001b[0;32m    569\u001b[0m                 \u001b[0mparam\u001b[0m\u001b[1;33m.\u001b[0m\u001b[0mmain\u001b[0m\u001b[1;33m.\u001b[0m\u001b[0mparam\u001b[0m\u001b[1;33m.\u001b[0m\u001b[0mwarning\u001b[0m\u001b[1;33m(\u001b[0m\u001b[0mmsg\u001b[0m\u001b[1;33m)\u001b[0m\u001b[1;33m\u001b[0m\u001b[1;33m\u001b[0m\u001b[0m\n\u001b[0;32m    570\u001b[0m \u001b[1;33m\u001b[0m\u001b[0m\n\u001b[1;32m--> 571\u001b[1;33m         \u001b[1;32mreturn\u001b[0m \u001b[0mself\u001b[0m\u001b[1;33m.\u001b[0m\u001b[0m_dispatch_opts\u001b[0m\u001b[1;33m(\u001b[0m \u001b[1;33m*\u001b[0m\u001b[0margs\u001b[0m\u001b[1;33m,\u001b[0m \u001b[1;33m**\u001b[0m\u001b[0mkwargs\u001b[0m\u001b[1;33m)\u001b[0m\u001b[1;33m\u001b[0m\u001b[1;33m\u001b[0m\u001b[0m\n\u001b[0m\u001b[0;32m    572\u001b[0m \u001b[1;33m\u001b[0m\u001b[0m\n\u001b[0;32m    573\u001b[0m     \u001b[1;32mdef\u001b[0m \u001b[0m_dispatch_opts\u001b[0m\u001b[1;33m(\u001b[0m\u001b[0mself\u001b[0m\u001b[1;33m,\u001b[0m \u001b[1;33m*\u001b[0m\u001b[0margs\u001b[0m\u001b[1;33m,\u001b[0m \u001b[1;33m**\u001b[0m\u001b[0mkwargs\u001b[0m\u001b[1;33m)\u001b[0m\u001b[1;33m:\u001b[0m\u001b[1;33m\u001b[0m\u001b[1;33m\u001b[0m\u001b[0m\n",
      "\u001b[1;32m~\\anaconda3\\lib\\site-packages\\holoviews\\core\\accessors.py\u001b[0m in \u001b[0;36m_dispatch_opts\u001b[1;34m(self, *args, **kwargs)\u001b[0m\n\u001b[0;32m    573\u001b[0m     \u001b[1;32mdef\u001b[0m \u001b[0m_dispatch_opts\u001b[0m\u001b[1;33m(\u001b[0m\u001b[0mself\u001b[0m\u001b[1;33m,\u001b[0m \u001b[1;33m*\u001b[0m\u001b[0margs\u001b[0m\u001b[1;33m,\u001b[0m \u001b[1;33m**\u001b[0m\u001b[0mkwargs\u001b[0m\u001b[1;33m)\u001b[0m\u001b[1;33m:\u001b[0m\u001b[1;33m\u001b[0m\u001b[1;33m\u001b[0m\u001b[0m\n\u001b[0;32m    574\u001b[0m         \u001b[1;32mif\u001b[0m \u001b[0mself\u001b[0m\u001b[1;33m.\u001b[0m\u001b[0m_mode\u001b[0m \u001b[1;32mis\u001b[0m \u001b[1;32mNone\u001b[0m\u001b[1;33m:\u001b[0m\u001b[1;33m\u001b[0m\u001b[1;33m\u001b[0m\u001b[0m\n\u001b[1;32m--> 575\u001b[1;33m             \u001b[1;32mreturn\u001b[0m \u001b[0mself\u001b[0m\u001b[1;33m.\u001b[0m\u001b[0m_base_opts\u001b[0m\u001b[1;33m(\u001b[0m\u001b[1;33m*\u001b[0m\u001b[0margs\u001b[0m\u001b[1;33m,\u001b[0m \u001b[1;33m**\u001b[0m\u001b[0mkwargs\u001b[0m\u001b[1;33m)\u001b[0m\u001b[1;33m\u001b[0m\u001b[1;33m\u001b[0m\u001b[0m\n\u001b[0m\u001b[0;32m    576\u001b[0m         \u001b[1;32melif\u001b[0m \u001b[0mself\u001b[0m\u001b[1;33m.\u001b[0m\u001b[0m_mode\u001b[0m \u001b[1;33m==\u001b[0m \u001b[1;34m'holomap'\u001b[0m\u001b[1;33m:\u001b[0m\u001b[1;33m\u001b[0m\u001b[1;33m\u001b[0m\u001b[0m\n\u001b[0;32m    577\u001b[0m             \u001b[1;32mreturn\u001b[0m \u001b[0mself\u001b[0m\u001b[1;33m.\u001b[0m\u001b[0m_holomap_opts\u001b[0m\u001b[1;33m(\u001b[0m\u001b[1;33m*\u001b[0m\u001b[0margs\u001b[0m\u001b[1;33m,\u001b[0m \u001b[1;33m**\u001b[0m\u001b[0mkwargs\u001b[0m\u001b[1;33m)\u001b[0m\u001b[1;33m\u001b[0m\u001b[1;33m\u001b[0m\u001b[0m\n",
      "\u001b[1;32m~\\anaconda3\\lib\\site-packages\\holoviews\\core\\accessors.py\u001b[0m in \u001b[0;36m_base_opts\u001b[1;34m(self, *args, **kwargs)\u001b[0m\n\u001b[0;32m    652\u001b[0m \u001b[1;33m\u001b[0m\u001b[0m\n\u001b[0;32m    653\u001b[0m         \u001b[0mkwargs\u001b[0m\u001b[1;33m[\u001b[0m\u001b[1;34m'clone'\u001b[0m\u001b[1;33m]\u001b[0m \u001b[1;33m=\u001b[0m \u001b[1;32mFalse\u001b[0m \u001b[1;32mif\u001b[0m \u001b[0mclone\u001b[0m \u001b[1;32mis\u001b[0m \u001b[1;32mNone\u001b[0m \u001b[1;32melse\u001b[0m \u001b[0mclone\u001b[0m\u001b[1;33m\u001b[0m\u001b[1;33m\u001b[0m\u001b[0m\n\u001b[1;32m--> 654\u001b[1;33m         \u001b[1;32mreturn\u001b[0m \u001b[0mself\u001b[0m\u001b[1;33m.\u001b[0m\u001b[0m_obj\u001b[0m\u001b[1;33m.\u001b[0m\u001b[0moptions\u001b[0m\u001b[1;33m(\u001b[0m\u001b[1;33m*\u001b[0m\u001b[0mnew_args\u001b[0m\u001b[1;33m,\u001b[0m \u001b[1;33m**\u001b[0m\u001b[0mkwargs\u001b[0m\u001b[1;33m)\u001b[0m\u001b[1;33m\u001b[0m\u001b[1;33m\u001b[0m\u001b[0m\n\u001b[0m",
      "\u001b[1;32m~\\anaconda3\\lib\\site-packages\\holoviews\\core\\dimension.py\u001b[0m in \u001b[0;36moptions\u001b[1;34m(self, clone, *args, **kwargs)\u001b[0m\n\u001b[0;32m   1277\u001b[0m             \u001b[0mexpanded_backends\u001b[0m \u001b[1;33m=\u001b[0m \u001b[0mopts\u001b[0m\u001b[1;33m.\u001b[0m\u001b[0m_expand_by_backend\u001b[0m\u001b[1;33m(\u001b[0m\u001b[0moptions\u001b[0m\u001b[1;33m,\u001b[0m \u001b[0mbackend\u001b[0m\u001b[1;33m)\u001b[0m\u001b[1;33m\u001b[0m\u001b[1;33m\u001b[0m\u001b[0m\n\u001b[0;32m   1278\u001b[0m         \u001b[1;32melse\u001b[0m\u001b[1;33m:\u001b[0m\u001b[1;33m\u001b[0m\u001b[1;33m\u001b[0m\u001b[0m\n\u001b[1;32m-> 1279\u001b[1;33m             \u001b[0mexpanded_backends\u001b[0m \u001b[1;33m=\u001b[0m \u001b[1;33m[\u001b[0m\u001b[1;33m(\u001b[0m\u001b[0mbackend\u001b[0m\u001b[1;33m,\u001b[0m \u001b[0mopts\u001b[0m\u001b[1;33m.\u001b[0m\u001b[0m_expand_options\u001b[0m\u001b[1;33m(\u001b[0m\u001b[0moptions\u001b[0m\u001b[1;33m,\u001b[0m \u001b[0mbackend\u001b[0m\u001b[1;33m)\u001b[0m\u001b[1;33m)\u001b[0m\u001b[1;33m]\u001b[0m\u001b[1;33m\u001b[0m\u001b[1;33m\u001b[0m\u001b[0m\n\u001b[0m\u001b[0;32m   1280\u001b[0m \u001b[1;33m\u001b[0m\u001b[0m\n\u001b[0;32m   1281\u001b[0m         \u001b[0mobj\u001b[0m \u001b[1;33m=\u001b[0m \u001b[0mself\u001b[0m\u001b[1;33m\u001b[0m\u001b[1;33m\u001b[0m\u001b[0m\n",
      "\u001b[1;32m~\\anaconda3\\lib\\site-packages\\holoviews\\util\\__init__.py\u001b[0m in \u001b[0;36m_expand_options\u001b[1;34m(cls, options, backend)\u001b[0m\n\u001b[0;32m    345\u001b[0m                         \u001b[1;32mfor\u001b[0m \u001b[0mkeyword\u001b[0m \u001b[1;32min\u001b[0m \u001b[0mgroup_opts\u001b[0m\u001b[1;33m.\u001b[0m\u001b[0mallowed_keywords\u001b[0m\u001b[1;33m\u001b[0m\u001b[1;33m\u001b[0m\u001b[0m\n\u001b[0;32m    346\u001b[0m                     })\n\u001b[1;32m--> 347\u001b[1;33m                     \u001b[0mcls\u001b[0m\u001b[1;33m.\u001b[0m\u001b[0m_options_error\u001b[0m\u001b[1;33m(\u001b[0m\u001b[0mopt\u001b[0m\u001b[1;33m,\u001b[0m \u001b[0mobjtype\u001b[0m\u001b[1;33m,\u001b[0m \u001b[0mbackend\u001b[0m\u001b[1;33m,\u001b[0m \u001b[0mvalid_options\u001b[0m\u001b[1;33m)\u001b[0m\u001b[1;33m\u001b[0m\u001b[1;33m\u001b[0m\u001b[0m\n\u001b[0m\u001b[0;32m    348\u001b[0m         \u001b[1;32mreturn\u001b[0m \u001b[0mexpanded\u001b[0m\u001b[1;33m\u001b[0m\u001b[1;33m\u001b[0m\u001b[0m\n\u001b[0;32m    349\u001b[0m \u001b[1;33m\u001b[0m\u001b[0m\n",
      "\u001b[1;32m~\\anaconda3\\lib\\site-packages\\holoviews\\util\\__init__.py\u001b[0m in \u001b[0;36m_options_error\u001b[1;34m(cls, opt, objtype, backend, valid_options)\u001b[0m\n\u001b[0;32m    388\u001b[0m \u001b[1;33m\u001b[0m\u001b[0m\n\u001b[0;32m    389\u001b[0m         \u001b[1;32mif\u001b[0m \u001b[0mmatches\u001b[0m\u001b[1;33m:\u001b[0m\u001b[1;33m\u001b[0m\u001b[1;33m\u001b[0m\u001b[0m\n\u001b[1;32m--> 390\u001b[1;33m             raise ValueError('Unexpected option %r for %s type '\n\u001b[0m\u001b[0;32m    391\u001b[0m                              \u001b[1;34m'across all extensions. Similar options '\u001b[0m\u001b[1;33m\u001b[0m\u001b[1;33m\u001b[0m\u001b[0m\n\u001b[0;32m    392\u001b[0m                              \u001b[1;34m'for current extension (%r) are: %s.'\u001b[0m \u001b[1;33m%\u001b[0m\u001b[1;33m\u001b[0m\u001b[1;33m\u001b[0m\u001b[0m\n",
      "\u001b[1;31mValueError\u001b[0m: Unexpected option 'color' for Overlay type across all extensions. Similar options for current extension ('bokeh') are: ['bgcolor', 'text_color']."
     ]
    }
   ],
   "source": [
    "# Adjust the title, height, width and background color of the overlay plot\n",
    "combo_plot.opts(xlabel=\"Years\", ylabel=\"Revenue\", yformatter='%.0f', bgcolor='grey', color=\"orange\", hover_color =\"blue\")\n",
    "\n",
    "#from bokeh.models.formatters import NumeralTickFormatter\n",
    "#formatter = NumeralTickFormatter(format=\"0,0\")\n",
    "#q1_2020['Subscribers'].hvplot.bar().opts(yformatter=formatter)"
   ]
  },
  {
   "cell_type": "markdown",
   "metadata": {},
   "source": [
    "## Step 11: Bonus - Create line plots for the Latin America and Asia Pacific Regions"
   ]
  },
  {
   "cell_type": "code",
   "execution_count": null,
   "metadata": {},
   "outputs": [],
   "source": [
    "# Create a DataFrame that slices the subscriber data for the Asia-Pacific region\n",
    "ap_revenue = # YOUR CODE HERE  \n",
    "\n",
    "# Set the index of the DataFrame to Years\n",
    "ap_revenue = # YOUR CODE HERE  "
   ]
  },
  {
   "cell_type": "code",
   "execution_count": null,
   "metadata": {},
   "outputs": [],
   "source": [
    "# Create a styled line plot for the Asia-Pacific region. \n",
    "# Make the line_color orange and be sure to set the plot equal to a variable. \n",
    "ap_plot = # YOUR CODE HERE  \n",
    "\n",
    "# Show the plot\n",
    "ap_plot"
   ]
  },
  {
   "cell_type": "code",
   "execution_count": null,
   "metadata": {},
   "outputs": [],
   "source": [
    "# Create a DataFrame that slices the subscriber data for the Latin America region\n",
    "lam_revenue = # YOUR CODE HERE  \n",
    "\n",
    "# Set the index of the DataFrame to Years\n",
    "lam_revenue = # YOUR CODE HERE  "
   ]
  },
  {
   "cell_type": "code",
   "execution_count": null,
   "metadata": {},
   "outputs": [],
   "source": [
    "# Create a styled line plot for the Latin America region. \n",
    "# Make the line_color orange and be sure to set the plot equal to a variable. \n",
    "lam_plot = # YOUR CODE HERE   \n",
    "\n",
    "# Show the plot\n",
    "lam_plot"
   ]
  },
  {
   "cell_type": "code",
   "execution_count": null,
   "metadata": {},
   "outputs": [],
   "source": [
    "# Create a compose plot for all four regions\n",
    "# YOUR CODE HERE  \n"
   ]
  }
 ],
 "metadata": {
  "kernelspec": {
   "display_name": "Python 3 (ipykernel)",
   "language": "python",
   "name": "python3"
  },
  "language_info": {
   "codemirror_mode": {
    "name": "ipython",
    "version": 3
   },
   "file_extension": ".py",
   "mimetype": "text/x-python",
   "name": "python",
   "nbconvert_exporter": "python",
   "pygments_lexer": "ipython3",
   "version": "3.9.13"
  }
 },
 "nbformat": 4,
 "nbformat_minor": 4
}
