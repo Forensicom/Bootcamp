{
 "cells": [
  {
   "cell_type": "code",
   "execution_count": null,
   "id": "7f6b3dcb-9a43-4936-be83-76a5c908e0e4",
   "metadata": {},
   "outputs": [],
   "source": [
    "\n",
    "from sklearn.datasets import make_blobs\n",
    "import maplotlib.pyplot as plt\n",
    "\n",
    "\n",
    "\n",
    "\n",
    "\n",
    "\n",
    "\n",
    "\n",
    "\n"
   ]
  },
  {
   "cell_type": "code",
   "execution_count": null,
   "id": "8b7311b7-604c-48c5-89f7-20c9b3d4cba0",
   "metadata": {},
   "outputs": [],
   "source": [
    "# Generate sytnhetic clusters\n",
    "# generates two columns of data\n",
    "XY, = make_blobs(center = 3)\n",
    "\n"
   ]
  },
  {
   "cell_type": "code",
   "execution_count": null,
   "id": "99107a73-3bdb-4c79-a420-437adf597eb1",
   "metadata": {},
   "outputs": [],
   "source": [
    "# [,0] = column 0,| : = use all the rows\n",
    "plt.scatter(XY[:,0}], XY[:,1], c=c)"
   ]
  }
 ],
 "metadata": {
  "kernelspec": {
   "display_name": "Python 3 (ipykernel)",
   "language": "python",
   "name": "python3"
  },
  "language_info": {
   "codemirror_mode": {
    "name": "ipython",
    "version": 3
   },
   "file_extension": ".py",
   "mimetype": "text/x-python",
   "name": "python",
   "nbconvert_exporter": "python",
   "pygments_lexer": "ipython3",
   "version": "3.9.13"
  }
 },
 "nbformat": 4,
 "nbformat_minor": 5
}
