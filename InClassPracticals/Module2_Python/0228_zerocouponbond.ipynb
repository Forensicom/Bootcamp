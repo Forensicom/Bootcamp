{
 "cells": [
  {
   "cell_type": "code",
   "execution_count": 1,
   "id": "86163414-a956-4db5-8464-e59b7fb2a1a9",
   "metadata": {},
   "outputs": [
    {
     "ename": "SyntaxError",
     "evalue": "invalid syntax (3736679472.py, line 15)",
     "output_type": "error",
     "traceback": [
      "\u001b[1;36m  File \u001b[1;32m\"C:\\Users\\LarryGagnon\\AppData\\Local\\Temp\\ipykernel_6064\\3736679472.py\"\u001b[1;36m, line \u001b[1;32m15\u001b[0m\n\u001b[1;33m    return future_value_value\u001b[0m\n\u001b[1;37m    ^\u001b[0m\n\u001b[1;31mSyntaxError\u001b[0m\u001b[1;31m:\u001b[0m invalid syntax\n"
     ]
    }
   ],
   "source": [
    "# -*- coding: utf-8 -*-\n",
    "\"\"\"\n",
    "Zero-Coupon Bond Valuation.\n",
    "\n",
    "This script will calculate the present value of zero-coupon bonds, compare the present value to the price of the bond, and determine the corresponding action (buy, not buy, neutral).\n",
    "\"\"\"\n",
    "\n",
    "# @TODO: Create a function to calculate present value\n",
    "\n",
    "# PV = FV/(1+r/100)**n\n",
    "\n",
    "def future_value(present_value,discount_rate,compounding_periods,years):\n",
    "    \n",
    "    future_value = (present_value * ((1 + (discount_rate/compounding_periods))**(years*compounding_periods))\n",
    "    print round(future_value,2)\n",
    "    return future_value\n",
    "\n",
    "# Intialize the zero-coupon bond parameters, assume compounding period is equal to 1\n",
    "price = 700\n",
    "future_value = 1000\n",
    "discount_rate = .1\n",
    "compounding_periods = 1\n",
    "years = 5\n",
    "\n",
    "# @TODO: Call the calculate_present_value() function and assign to a variable\n",
    "\n",
    "\n",
    "# @TODO: Determine if the bond is worth it\n",
    "\n",
    "if present_value > price\n",
    "print f\"This is worth {present_value}. Buy it!\"\n",
    "elif present_value < price\n",
    "print f\"This is only worth {present_value}. Do Not Buy!\"\n",
    "else print f\"Neutral\"\n"
   ]
  },
  {
   "cell_type": "code",
   "execution_count": null,
   "id": "7fd444b3-45a9-4541-b609-eb6ade7aa1ea",
   "metadata": {},
   "outputs": [],
   "source": []
  },
  {
   "cell_type": "code",
   "execution_count": null,
   "id": "02125fc0-77dc-4e9f-98f1-1dd1e2f127b8",
   "metadata": {},
   "outputs": [],
   "source": []
  },
  {
   "cell_type": "code",
   "execution_count": null,
   "id": "38492e92-fe2a-44c9-a094-f49a3524f9a2",
   "metadata": {},
   "outputs": [],
   "source": []
  }
 ],
 "metadata": {
  "kernelspec": {
   "display_name": "Python 3 (ipykernel)",
   "language": "python",
   "name": "python3"
  },
  "language_info": {
   "codemirror_mode": {
    "name": "ipython",
    "version": 3
   },
   "file_extension": ".py",
   "mimetype": "text/x-python",
   "name": "python",
   "nbconvert_exporter": "python",
   "pygments_lexer": "ipython3",
   "version": "3.9.13"
  }
 },
 "nbformat": 4,
 "nbformat_minor": 5
}
