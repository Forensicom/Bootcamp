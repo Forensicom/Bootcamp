{
 "cells": [
  {
   "cell_type": "code",
   "execution_count": 9,
   "id": "a4ef9ff7-1912-4a67-826c-6421d5fc4c2c",
   "metadata": {},
   "outputs": [
    {
     "ename": "SyntaxError",
     "evalue": "cannot assign to function call (1908319047.py, line 7)",
     "output_type": "error",
     "traceback": [
      "\u001b[1;36m  File \u001b[1;32m\"C:\\Users\\LarryGagnon\\AppData\\Local\\Temp\\ipykernel_13376\\1908319047.py\"\u001b[1;36m, line \u001b[1;32m7\u001b[0m\n\u001b[1;33m    stock_data = stock_data.set_index('Date'), inplace = True)\u001b[0m\n\u001b[1;37m                 ^\u001b[0m\n\u001b[1;31mSyntaxError\u001b[0m\u001b[1;31m:\u001b[0m cannot assign to function call\n"
     ]
    }
   ],
   "source": [
    "import pandas as pd\n",
    "from pathlib import Path\n",
    "import numpy as np\n",
    "\n",
    "stock_data = pd.read_csv(\"bb_stock_data_csv\")\n",
    "stock_data.head()\n",
    "stock_data = stock_data.set_index('Date'), inplace = True)\n",
    "stock_data.head(10)\n",
    "stock_data.isnull().sum()\n",
    "stock_data.dropna()\n",
    "\n",
    "stock_data.pct_change()\n",
    "stock_data.sort_values('Close', ascending = False)\n",
    "stock_data.head()\n",
    "stock_data.plot(10,5)"
   ]
  }
 ],
 "metadata": {
  "kernelspec": {
   "display_name": "Python 3 (ipykernel)",
   "language": "python",
   "name": "python3"
  },
  "language_info": {
   "codemirror_mode": {
    "name": "ipython",
    "version": 3
   },
   "file_extension": ".py",
   "mimetype": "text/x-python",
   "name": "python",
   "nbconvert_exporter": "python",
   "pygments_lexer": "ipython3",
   "version": "3.9.13"
  }
 },
 "nbformat": 4,
 "nbformat_minor": 5
}
