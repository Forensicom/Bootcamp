{
 "cells": [
  {
   "cell_type": "code",
   "execution_count": 4,
   "id": "2509b33c-0e13-44d3-963f-61a4191ec4a6",
   "metadata": {},
   "outputs": [
    {
     "name": "stdout",
     "output_type": "stream",
     "text": [
      "3\n",
      "5\n",
      "10\n",
      "15\n"
     ]
    }
   ],
   "source": [
    "list_1 = [0,1,2,3]\n",
    "list_2 = [4,5,6,7]\n",
    "list_3 = [8,9,10,11]\n",
    "list_4 = [12,13,14,15]\n",
    "print (list_1[3])\n",
    "print (list_2[1])\n",
    "print (list_3[2])\n",
    "print (list_4[-1])"
   ]
  },
  {
   "cell_type": "code",
   "execution_count": null,
   "id": "3501e745-7ed6-4b50-9d2b-169f38b33bb5",
   "metadata": {},
   "outputs": [],
   "source": []
  }
 ],
 "metadata": {
  "kernelspec": {
   "display_name": "Python 3 (ipykernel)",
   "language": "python",
   "name": "python3"
  },
  "language_info": {
   "codemirror_mode": {
    "name": "ipython",
    "version": 3
   },
   "file_extension": ".py",
   "mimetype": "text/x-python",
   "name": "python",
   "nbconvert_exporter": "python",
   "pygments_lexer": "ipython3",
   "version": "3.9.13"
  }
 },
 "nbformat": 4,
 "nbformat_minor": 5
}
