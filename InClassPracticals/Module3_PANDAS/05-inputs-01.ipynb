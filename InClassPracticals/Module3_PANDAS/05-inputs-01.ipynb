{
 "cells": [
  {
   "cell_type": "code",
   "execution_count": 14,
   "id": "c19096e6-491a-49d9-b9fe-2ca44592e015",
   "metadata": {},
   "outputs": [
    {
     "name": "stdin",
     "output_type": "stream",
     "text": [
      "Welcome to the sandwich shop, what do I call you? Larry\n"
     ]
    },
    {
     "name": "stdout",
     "output_type": "stream",
     "text": [
      "Hello Larry\n"
     ]
    },
    {
     "name": "stdin",
     "output_type": "stream",
     "text": [
      "Are you here for a sandwich? Yes or No? Yes\n",
      "What kind of sandwich would you like? veal\n"
     ]
    },
    {
     "name": "stdout",
     "output_type": "stream",
     "text": [
      "Larry, please wait 10 minutes for your veal sandwich.\n"
     ]
    }
   ],
   "source": [
    "# Declare a variable `welcome_name` as an input with a string of \"Welcome to the sandwich shop, what do I call you? \".\n",
    "\n",
    "\n",
    "# Then print the string \"Hello\" concatenated with the variable `welcome_name`.\n",
    "\n",
    "\n",
    "# Declare a variable `question_sandwich` as an input with a string of \"Are you here for a sandwich? (Yes or No?) \".\n",
    "\n",
    "\n",
    "# If `question_sandwich` is equal to true declare a variable `food_prompt` as an input with a string of \"What kind of sandwich would you like?\".\n",
    "# Then print a string of \"Please wait 10 min for your \" concatenated with the variable `food_prompt`.\n",
    "# Else If `question_sandwich` is false, print a string of \"If you don't want a sandwich what are you here for?!\".\n",
    "# Else print a string of \"You did not write Yes or No!\"\n",
    "\n",
    "welcome_name = input(\"Welcome to the sandwich shop, what do I call you?\")\n",
    "print (f\"Hello \" + welcome_name)\n",
    "question_sandwich = input(\"Are you here for a sandwich? Yes or No?\")\n",
    "\n",
    "if question_sandwich == (\"Yes\"):\n",
    "    food_prompt = input(\"What kind of sandwich would you like?\")\n",
    "elif question_sandwich ==(\"No\"):\n",
    "    print (f\"Then get out!\")\n",
    "print (welcome_name + f\", please wait 10 minutes for your \" + food_prompt + \" sandwich.\")    \n",
    "    \n",
    "    \n",
    "    \n",
    "    \n",
    "    \n",
    "    \n",
    "    \n",
    "    \n",
    "    \n",
    "    "
   ]
  },
  {
   "cell_type": "code",
   "execution_count": null,
   "id": "ab5b6033-55b7-41d1-b871-a93684ea4d55",
   "metadata": {},
   "outputs": [],
   "source": []
  }
 ],
 "metadata": {
  "kernelspec": {
   "display_name": "Python 3 (ipykernel)",
   "language": "python",
   "name": "python3"
  },
  "language_info": {
   "codemirror_mode": {
    "name": "ipython",
    "version": 3
   },
   "file_extension": ".py",
   "mimetype": "text/x-python",
   "name": "python",
   "nbconvert_exporter": "python",
   "pygments_lexer": "ipython3",
   "version": "3.9.13"
  }
 },
 "nbformat": 4,
 "nbformat_minor": 5
}
