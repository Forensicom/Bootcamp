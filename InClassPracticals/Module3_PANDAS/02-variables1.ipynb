{
 "cells": [
  {
   "cell_type": "code",
   "execution_count": 55,
   "id": "92bf7b82-b2fb-4ce1-ad97-0e540e4ec11b",
   "metadata": {},
   "outputs": [
    {
     "name": "stdout",
     "output_type": "stream",
     "text": [
      "First name Ada\n",
      "Last name Lovelace\n",
      "Profession Computer Programmer\n",
      "Birth year 1815\n"
     ]
    }
   ],
   "source": [
    "subject = None\n",
    "subject = \"Progammers\"\n",
    "first_name = [int]\n",
    "first_name = \"Ada\"\n",
    "last_name = \"Lovelace\"\n",
    "full_name = ({first_name}, {last_name})\n",
    "profession = \"Computer Programmer\"\n",
    "known_for = \"First Computer Programmer\"\n",
    "first_algorithm = \"Analytical Engine\"\n",
    "city_location = \"London\"\n",
    "country_location = \"England\"\n",
    "nationality = \"British\"\n",
    "birth_year= [str]\n",
    "birth_year = 1815\n",
    "death_year = [int]\n",
    "death_year = 1852\n",
    "age_at_passing = [int]\n",
    "age_at_passing = (death_year - birth_year)\n",
    "year_of_publish = [int]\n",
    "year_of_publish = 1842\n",
    "age_at_publish = (year_of_publish - birth_year)\n",
    "print (f\"First name\", first_name)\n",
    "print (f\"Last name\", last_name)\n",
    "print (f\"Profession\", profession)\n",
    "print (f\"Birth year\", birth_year)"
   ]
  },
  {
   "cell_type": "code",
   "execution_count": 56,
   "id": "e7a1a656-13a0-41b9-a9cb-23eb06a32510",
   "metadata": {},
   "outputs": [
    {
     "name": "stdout",
     "output_type": "stream",
     "text": [
      "Programmers: Ada Lovelace is a British Computer Programmer born in 1815.\n",
      "She is commonly referred to as the First Computer Programmer.\n",
      "In 1842 she published the first Algorithm, the Analytical Engine at the age of 27.\n",
      "She was a British Citizen who lived in London, England until her passing in 1852 at the age of 37.\n"
     ]
    }
   ],
   "source": [
    "statement_one = (f\"Programmers: \" + first_name + \" \" + last_name + \" is a \" + nationality + \" \" + profession + \" born in \" + str(birth_year) + \".\")\n",
    "print (statement_one)\n",
    "\n",
    "statement_two = (f\"She is commonly referred to as the \" + known_for + \".\")\n",
    "print (statement_two)\n",
    "\n",
    "statement_three = (f\"In \" + str(year_of_publish) + \" she published the first Algorithm, the \" + first_algorithm + \" at the age of \" + str(age_at_publish) + \".\")\n",
    "print (statement_three)\n",
    "\n",
    "statement_four = (f\"She was a \" + nationality + \" Citizen who lived in \" + city_location + \", \" + country_location + \" until her passing in \" + str(death_year) + \" at the age of \" + str(age_at_passing) + \".\")\n",
    "print (statement_four)"
   ]
  },
  {
   "cell_type": "code",
   "execution_count": null,
   "id": "4d260429-fd7d-4326-8123-7fbe0694f8b7",
   "metadata": {},
   "outputs": [],
   "source": []
  }
 ],
 "metadata": {
  "kernelspec": {
   "display_name": "Python 3 (ipykernel)",
   "language": "python",
   "name": "python3"
  },
  "language_info": {
   "codemirror_mode": {
    "name": "ipython",
    "version": 3
   },
   "file_extension": ".py",
   "mimetype": "text/x-python",
   "name": "python",
   "nbconvert_exporter": "python",
   "pygments_lexer": "ipython3",
   "version": "3.9.13"
  }
 },
 "nbformat": 4,
 "nbformat_minor": 5
}
