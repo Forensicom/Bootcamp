{
 "cells": [
  {
   "cell_type": "code",
   "execution_count": 19,
   "id": "9a6b4776-8b25-4c41-84a6-83155f7f376e",
   "metadata": {},
   "outputs": [
    {
     "data": {
      "text/html": [
       "<div>\n",
       "<style scoped>\n",
       "    .dataframe tbody tr th:only-of-type {\n",
       "        vertical-align: middle;\n",
       "    }\n",
       "\n",
       "    .dataframe tbody tr th {\n",
       "        vertical-align: top;\n",
       "    }\n",
       "\n",
       "    .dataframe thead th {\n",
       "        text-align: right;\n",
       "    }\n",
       "</style>\n",
       "<table border=\"1\" class=\"dataframe\">\n",
       "  <thead>\n",
       "    <tr style=\"text-align: right;\">\n",
       "      <th></th>\n",
       "      <th></th>\n",
       "      <th>Close</th>\n",
       "    </tr>\n",
       "    <tr>\n",
       "      <th>Date</th>\n",
       "      <th>Date</th>\n",
       "      <th></th>\n",
       "    </tr>\n",
       "  </thead>\n",
       "  <tbody>\n",
       "    <tr>\n",
       "      <th rowspan=\"3\" valign=\"top\">2019</th>\n",
       "      <th>3</th>\n",
       "      <td>2.90</td>\n",
       "    </tr>\n",
       "    <tr>\n",
       "      <th>4</th>\n",
       "      <td>2.68</td>\n",
       "    </tr>\n",
       "    <tr>\n",
       "      <th>5</th>\n",
       "      <td>2.22</td>\n",
       "    </tr>\n",
       "  </tbody>\n",
       "</table>\n",
       "</div>"
      ],
      "text/plain": [
       "           Close\n",
       "Date Date       \n",
       "2019 3      2.90\n",
       "     4      2.68\n",
       "     5      2.22"
      ]
     },
     "execution_count": 19,
     "metadata": {},
     "output_type": "execute_result"
    }
   ],
   "source": [
    "# Student Do: Indexing Fever\n",
    "#Indexing Fever\n",
    "#You've caught the multi-indexing fever! Add power to your financial analytic pipelines by indexing your data by month and year with a DatetimeIndex.For this demo, you will use historical stock data from Bombardier (BBD.B) that comprises BBD.B ticker prices from March to May 2019.Instructions\n",
    "#Import Libraries and Dependencies\n",
    "import pandas as pd\n",
    "from pathlib import Path  \n",
    "\n",
    "csv_path = Path(\"bombardier_stock_data.csv\")\n",
    "bbstock = pd.read_csv(csv_path, parse_dates=True, index_col='Date', infer_datetime_format=True)\n",
    "\n",
    "# Assess & Clean Data\n",
    " # Check for nulls\n",
    "# bbstock.isnull().sum()\n",
    "# bbstock.isnull().mean() * 100\n",
    "bbstock.dropna()\n",
    "\n",
    "# Drop nulls\n",
    "bbstock = bbstock.dropna().copy()\n",
    "\n",
    "# Drop duplicates\n",
    "bbstock = bbstock.drop_duplicates().copy()\n",
    "\n",
    "# Validate no more missing values\n",
    "bbstock.isnull().sum()  \n",
    "bbstock.head()\n",
    "\n",
    "# Group by year and month\n",
    "bbstock_grp = bbstock.groupby([bbstock.index.year, bbstock.index.month]).first()\n",
    "bbstock_grp\n",
    "# Set multi-index by grouping\n",
    " \n",
    "\n",
    " # Access Close for May 2019 Using Multi-indexing Lookup\n",
    "bbstock_grp2= bbstock.groupby([bbstock.index.year, bbstock.index.month]).last()\n",
    " \n",
    "\n",
    " # Select BBD Close for May 2019\n",
    "#  Challenge\n",
    "#Take this activity to the next level by calculating the mean close price for BBD.B for all of 2019. "
   ]
  },
  {
   "cell_type": "code",
   "execution_count": null,
   "id": "c174eebb-2a4b-404a-8344-a49cf231983d",
   "metadata": {},
   "outputs": [],
   "source": []
  }
 ],
 "metadata": {
  "kernelspec": {
   "display_name": "Python 3 (ipykernel)",
   "language": "python",
   "name": "python3"
  },
  "language_info": {
   "codemirror_mode": {
    "name": "ipython",
    "version": 3
   },
   "file_extension": ".py",
   "mimetype": "text/x-python",
   "name": "python",
   "nbconvert_exporter": "python",
   "pygments_lexer": "ipython3",
   "version": "3.9.13"
  }
 },
 "nbformat": 4,
 "nbformat_minor": 5
}
