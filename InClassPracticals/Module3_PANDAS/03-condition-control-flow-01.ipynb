{
 "cells": [
  {
   "cell_type": "code",
   "execution_count": 50,
   "id": "c1987851-b1b6-4a31-8c03-89eba2702167",
   "metadata": {},
   "outputs": [
    {
     "name": "stdout",
     "output_type": "stream",
     "text": [
      "RAWR!\n",
      "See Spot run!\n",
      "I drive Farley around San Franciso in my Prius.\n",
      "You're over budget by 900.\n",
      "Ahhh, just right!\n"
     ]
    }
   ],
   "source": [
    "dog = str(\"Spot\")\n",
    "cat = None\n",
    "city = None\n",
    "car = None\n",
    "farm = [\"Godzilla\", \"cow\", \"chicken\", \"dog\", \"horse\", \"Mothra\"]\n",
    "\n",
    "if farm != \"Godzilla\":\n",
    "    print (f\"RAWR!\")\n",
    "elif farm.pop[5] == \"Mothra\":\n",
    "    print(f\"SCREECH\")\n",
    "else: \n",
    "    print(f\"This animal is neither Godzilla nor Mothra!\")\n",
    "\n",
    "cat = \"Farley\"\n",
    "city = \"San Franciso\"\n",
    "car = \"Prius\"\n",
    "print (f\"See \" + dog + \" run!\")\n",
    "print (f\"I drive \" + str(cat) + \" around \" + str(city) + \" in my \" + str(car) + \".\")\n",
    "\n",
    "budget = 5000\n",
    "rent_cost = 1500\n",
    "utilities_cost = 150\n",
    "food_cost = 250\n",
    "transportation_cost = 2000\n",
    "computer_cost = 2000\n",
    "total_cost = (rent_cost + utilities_cost + food_cost + transportation_cost + computer_cost)\n",
    "\n",
    "if total_cost < budget:\n",
    "    print (f\"Your total cost is \" + str(total_cost))\n",
    "else:\n",
    "    print (f\"You're over budget by \" + str(total_cost - budget) + \".\")\n",
    "\n",
    "if rent_cost > ((utilities_cost) + (food_cost) + (transportation_cost)):\n",
    "    print (f\"The rent is too damned high!\")\n",
    "else:\n",
    "    print (f\"Ahhh, just right!\")\n",
    "    "
   ]
  },
  {
   "cell_type": "code",
   "execution_count": null,
   "id": "ce808c5b-6073-4874-8d18-edc8780a3c0c",
   "metadata": {},
   "outputs": [],
   "source": []
  }
 ],
 "metadata": {
  "kernelspec": {
   "display_name": "Python 3 (ipykernel)",
   "language": "python",
   "name": "python3"
  },
  "language_info": {
   "codemirror_mode": {
    "name": "ipython",
    "version": 3
   },
   "file_extension": ".py",
   "mimetype": "text/x-python",
   "name": "python",
   "nbconvert_exporter": "python",
   "pygments_lexer": "ipython3",
   "version": "3.9.13"
  }
 },
 "nbformat": 4,
 "nbformat_minor": 5
}
