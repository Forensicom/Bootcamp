{
 "cells": [
  {
   "cell_type": "code",
   "execution_count": 323,
   "id": "93f18964-afce-4b1a-9eb2-281c435be2dd",
   "metadata": {},
   "outputs": [
    {
     "name": "stdout",
     "output_type": "stream",
     "text": [
      "Financial Analysis\n",
      "_____________________\n",
      "\n",
      "Total Months: 86\n",
      "Total: $ 38382578\n",
      "Total Profit is $ 45710004\n",
      "Total Losses are $ -7327426\n",
      "Greatest Decrease in Profits: $ -2196167\n"
     ]
    },
    {
     "ename": "TypeError",
     "evalue": "'RangeIndex' object is not callable",
     "output_type": "error",
     "traceback": [
      "\u001b[1;31m---------------------------------------------------------------------------\u001b[0m",
      "\u001b[1;31mTypeError\u001b[0m                                 Traceback (most recent call last)",
      "\u001b[1;32m~\\AppData\\Local\\Temp\\ipykernel_3192\\1564659808.py\u001b[0m in \u001b[0;36m<module>\u001b[1;34m\u001b[0m\n\u001b[0;32m     40\u001b[0m \u001b[0mdata_csv\u001b[0m\u001b[1;33m[\u001b[0m\u001b[1;34m'Profit/Losses Diff'\u001b[0m\u001b[1;33m]\u001b[0m \u001b[1;33m=\u001b[0m  \u001b[0mdata_csv\u001b[0m\u001b[1;33m[\u001b[0m\u001b[1;34m'Profit/Losses'\u001b[0m\u001b[1;33m]\u001b[0m\u001b[1;33m.\u001b[0m\u001b[0mdiff\u001b[0m\u001b[1;33m(\u001b[0m\u001b[1;33m)\u001b[0m\u001b[1;33m\u001b[0m\u001b[1;33m\u001b[0m\u001b[0m\n\u001b[0;32m     41\u001b[0m \u001b[0mnewvar2\u001b[0m \u001b[1;33m=\u001b[0m \u001b[1;33m(\u001b[0m\u001b[0mdata_csv\u001b[0m\u001b[1;33m[\u001b[0m\u001b[1;34m'Profit/Losses Diff'\u001b[0m\u001b[1;33m]\u001b[0m\u001b[1;33m.\u001b[0m\u001b[0mmax\u001b[0m\u001b[1;33m(\u001b[0m\u001b[1;33m)\u001b[0m\u001b[1;33m)\u001b[0m\u001b[1;33m\u001b[0m\u001b[1;33m\u001b[0m\u001b[0m\n\u001b[1;32m---> 42\u001b[1;33m \u001b[0mnewvar_date\u001b[0m \u001b[1;33m=\u001b[0m \u001b[0mdata_csv\u001b[0m\u001b[1;33m.\u001b[0m\u001b[0mindex\u001b[0m\u001b[1;33m(\u001b[0m\u001b[0mdata_csv\u001b[0m\u001b[1;33m[\u001b[0m\u001b[1;34m'Profit/Losses Diff'\u001b[0m\u001b[1;33m]\u001b[0m\u001b[1;33m.\u001b[0m\u001b[0mmax\u001b[0m\u001b[1;33m(\u001b[0m\u001b[1;33m)\u001b[0m\u001b[1;33m)\u001b[0m\u001b[1;33m\u001b[0m\u001b[1;33m\u001b[0m\u001b[0m\n\u001b[0m\u001b[0;32m     43\u001b[0m \u001b[0mnewvar_date\u001b[0m\u001b[1;33m\u001b[0m\u001b[1;33m\u001b[0m\u001b[0m\n\u001b[0;32m     44\u001b[0m \u001b[1;31m# RETURN THE VALUE OF THE CORRESPONDING VALUE TO NEWVAR2 IN THE DATE ROW\u001b[0m\u001b[1;33m\u001b[0m\u001b[1;33m\u001b[0m\u001b[0m\n",
      "\u001b[1;31mTypeError\u001b[0m: 'RangeIndex' object is not callable"
     ]
    }
   ],
   "source": [
    "# Module 2 Assignment - Larry Gagnon\n",
    "# Only a few hours before this was due I found out that we were not supposed to use Pandas. \n",
    "# I did not see that in the instructions. No time to change it all.\n",
    "import pandas as pd\n",
    "import numpy as npy\n",
    "from pathlib import Path\n",
    "\n",
    "# The total number of months included in the dataset.\n",
    "data_csv = pd.read_csv(\"budget_data.csv\")\n",
    "record_count = data_csv['Profit/Losses'].count()\n",
    "print (f\"Financial Analysis\")\n",
    "print (\"_____________________\")\n",
    "print(f\"\")\n",
    "print (f\"Total Months: \" +  str(record_count))\n",
    "\n",
    "#Total sum\n",
    "total = (data_csv['Profit/Losses']).sum()\n",
    "print (f\"Total: $\", + (total))\n",
    "\n",
    "\n",
    "# The net total amount of Profit/Losses over the entire period.\n",
    "total_profit = data_csv[data_csv.iloc[:,1] > 0] \n",
    "total_profit = (total_profit['Profit/Losses']).sum()\n",
    "print (f\"Total Profit is $\", + (total_profit))\n",
    "\n",
    "total_loss = data_csv[data_csv.iloc[:,1] < 0]\n",
    "total_loss = (total_loss['Profit/Losses']).sum()      \n",
    "print (f\"Total Losses are $\", + (total_loss))\n",
    "\n",
    "\n",
    "# The greatest decrease in profits (date and amount) over the entire period.\n",
    "data_csv['Profit/Losses Diff'] =  data_csv['Profit/Losses'].diff()\n",
    "newvar = (data_csv['Profit/Losses Diff'].min())\n",
    "print (f\"Greatest Decrease in Profits: $\", + (round(newvar)))\n",
    "# I could not figure out how to pull the corresponding date value out of column 1.\n",
    "\n",
    "#The greatest increase in profits (date and amount) over the entire period.\n",
    "data_csv['Profit/Losses Diff'] =  data_csv['Profit/Losses'].diff()\n",
    "newvar2 = (data_csv['Profit/Losses Diff'].max())\n",
    "print (f\"Greatest Increase in Profits: $\", + (round(newvar2)))\n",
    "# I could not figure out how to pull the corresponding date value out of column 1.\n",
    "\n",
    "#The average of the changes in Profit/Losses over the entire period.\n",
    "newvar3 = (data_csv['Profit/Losses Diff'].mean())\n",
    "print (f\"Average Change: $\", + (round(newvar3, 2)))\n",
    "\n",
    "\n",
    "\n",
    "\n",
    "\n",
    "\n",
    "\n",
    "\n",
    "\n",
    "\n",
    "\n",
    "\n"
   ]
  },
  {
   "cell_type": "code",
   "execution_count": null,
   "id": "5ce7a15a-a461-4f04-b0cb-af268dae309a",
   "metadata": {},
   "outputs": [],
   "source": []
  },
  {
   "cell_type": "code",
   "execution_count": null,
   "id": "5e7387fb-0789-40ec-8b2a-64794563f909",
   "metadata": {},
   "outputs": [],
   "source": []
  }
 ],
 "metadata": {
  "kernelspec": {
   "display_name": "Python 3 (ipykernel)",
   "language": "python",
   "name": "python3"
  },
  "language_info": {
   "codemirror_mode": {
    "name": "ipython",
    "version": 3
   },
   "file_extension": ".py",
   "mimetype": "text/x-python",
   "name": "python",
   "nbconvert_exporter": "python",
   "pygments_lexer": "ipython3",
   "version": "3.9.13"
  }
 },
 "nbformat": 4,
 "nbformat_minor": 5
}
