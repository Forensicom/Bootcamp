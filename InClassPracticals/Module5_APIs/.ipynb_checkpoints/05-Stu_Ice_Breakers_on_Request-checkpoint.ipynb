{
 "cells": [
  {
   "cell_type": "code",
   "execution_count": null,
   "id": "2889471b-1566-4e1c-a465-0e0733509a15",
   "metadata": {},
   "outputs": [],
   "source": [
    "import requests"
   ]
  },
  {
   "cell_type": "code",
   "execution_count": null,
   "id": "701377c8-4f21-4fc4-ac7d-3ebb6714cafe",
   "metadata": {},
   "outputs": [],
   "source": [
    " # Declare `url` variables\n",
    "bitcoin_price_url = \"https://api.coindesk.com/v1/bpi/currentprice.json\"\n",
    "exchange_rate_url = \"https://open.er-api.com/v6/latest/CAD\"\n",
    "statistics_canada_url = \"https://www150.statcan.gc.ca/n1/dai-quo/ssi/homepage/daily-banner-eng.json\"\n",
    "ca_gdp_data_url = \"http://api.worldbank.org/v2/country/ca?format=json\""
   ]
  },
  {
   "cell_type": "code",
   "execution_count": null,
   "id": "e8a4bbc0-e232-4d74-9009-50cd4adb58e8",
   "metadata": {},
   "outputs": [],
   "source": [
    " # Execute `GET` request with url"
   ]
  },
  {
   "cell_type": "code",
   "execution_count": null,
   "id": "77a3a395-2146-4c55-98e6-6a27f64cc924",
   "metadata": {},
   "outputs": [],
   "source": [
    " # Print `response_data variable`"
   ]
  },
  {
   "cell_type": "code",
   "execution_count": null,
   "id": "cc522126-d6b3-4aca-a48d-47c05ff86ac0",
   "metadata": {},
   "outputs": [],
   "source": [
    " # Store response using `content` attribute"
   ]
  },
  {
   "cell_type": "code",
   "execution_count": null,
   "id": "80d16fd1-6e7d-4454-8186-c5740cf5c7b2",
   "metadata": {},
   "outputs": [],
   "source": [
    "# Format data as JSON"
   ]
  },
  {
   "cell_type": "code",
   "execution_count": null,
   "id": "4226429c-b32d-49e2-b6e2-7b1f10182b75",
   "metadata": {},
   "outputs": [],
   "source": [
    "import json\n",
    "\n",
    "# Use json.dumps to format data"
   ]
  },
  {
   "cell_type": "code",
   "execution_count": null,
   "id": "0eee1684-0aa9-47c7-bc73-a59cb7fe1523",
   "metadata": {},
   "outputs": [],
   "source": [
    " # Select bitcoin values"
   ]
  },
  {
   "cell_type": "code",
   "execution_count": null,
   "id": "15d49d88-35f4-4308-afea-721a0cd77998",
   "metadata": {},
   "outputs": [],
   "source": [
    " # Print selected values"
   ]
  },
  {
   "cell_type": "code",
   "execution_count": null,
   "id": "b59baaea-0f64-4c86-9c86-82bcf6fce1c5",
   "metadata": {},
   "outputs": [],
   "source": []
  },
  {
   "cell_type": "code",
   "execution_count": null,
   "id": "00f0e661-00be-462b-930e-bf58c0061bf6",
   "metadata": {},
   "outputs": [],
   "source": []
  },
  {
   "cell_type": "code",
   "execution_count": null,
   "id": "4aa72ae8-a831-40c9-a474-b6eb099db089",
   "metadata": {},
   "outputs": [],
   "source": []
  },
  {
   "cell_type": "code",
   "execution_count": null,
   "id": "1391e857-8b91-4286-9b97-b250d7815eab",
   "metadata": {},
   "outputs": [],
   "source": []
  }
 ],
 "metadata": {
  "kernelspec": {
   "display_name": "Python 3 (ipykernel)",
   "language": "python",
   "name": "python3"
  },
  "language_info": {
   "codemirror_mode": {
    "name": "ipython",
    "version": 3
   },
   "file_extension": ".py",
   "mimetype": "text/x-python",
   "name": "python",
   "nbconvert_exporter": "python",
   "pygments_lexer": "ipython3",
   "version": "3.9.13"
  }
 },
 "nbformat": 4,
 "nbformat_minor": 5
}
