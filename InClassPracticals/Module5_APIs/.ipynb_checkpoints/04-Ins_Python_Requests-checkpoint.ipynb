{
 "cells": [
  {
   "cell_type": "code",
   "execution_count": null,
   "id": "cad607f7-1c9e-479e-bc92-dd5613939616",
   "metadata": {},
   "outputs": [],
   "source": [
    "import requests"
   ]
  },
  {
   "cell_type": "code",
   "execution_count": null,
   "id": "8ce82d5b-0337-4e55-87a5-3214653ab8b7",
   "metadata": {},
   "outputs": [],
   "source": [
    " # Create variable to hold request url\n",
    "url = \"http://api.worldbank.org/v2/country/us/indicator/NY.GDP.MKTP.CD\""
   ]
  },
  {
   "cell_type": "code",
   "execution_count": null,
   "id": "f06cd291-7c19-44bb-90b4-35463788a4b4",
   "metadata": {},
   "outputs": [],
   "source": [
    "# Add format specifier to request url\n",
    "url = url + \"?format=json\""
   ]
  },
  {
   "cell_type": "code",
   "execution_count": null,
   "id": "1cedd013-6377-4edc-9460-1092d80d71d4",
   "metadata": {},
   "outputs": [],
   "source": [
    " # Execute get request"
   ]
  },
  {
   "cell_type": "code",
   "execution_count": null,
   "id": "f87386d4-18d0-4f00-9828-6088f6a2a331",
   "metadata": {},
   "outputs": [],
   "source": [
    " # Execute GET request and store response"
   ]
  },
  {
   "cell_type": "code",
   "execution_count": null,
   "id": "73cf0d90-3832-4893-8040-0d452a095d8b",
   "metadata": {},
   "outputs": [],
   "source": [
    "# Get content"
   ]
  },
  {
   "cell_type": "code",
   "execution_count": null,
   "id": "50dd0db5-7d60-488a-bdb5-2eb91cc92f56",
   "metadata": {},
   "outputs": [],
   "source": [
    " import json\n",
    "\n",
    "# Formatting as json"
   ]
  },
  {
   "cell_type": "code",
   "execution_count": null,
   "id": "e0124d35-8d0c-4eb0-bb2f-6e9488a1954d",
   "metadata": {},
   "outputs": [],
   "source": [
    " # Add indents to JSON and output to screen"
   ]
  },
  {
   "cell_type": "code",
   "execution_count": null,
   "id": "d4128066-8a4d-423d-ad53-d008bba278d9",
   "metadata": {},
   "outputs": [],
   "source": [
    " # Select country and GDP value for second row"
   ]
  },
  {
   "cell_type": "code",
   "execution_count": null,
   "id": "8c98058c-9a99-45a0-8cf3-1ae69532e003",
   "metadata": {},
   "outputs": [],
   "source": []
  },
  {
   "cell_type": "code",
   "execution_count": null,
   "id": "baf74a42-3b2f-431c-b72d-26e1eebed732",
   "metadata": {},
   "outputs": [],
   "source": []
  }
 ],
 "metadata": {
  "kernelspec": {
   "display_name": "Python 3 (ipykernel)",
   "language": "python",
   "name": "python3"
  },
  "language_info": {
   "codemirror_mode": {
    "name": "ipython",
    "version": 3
   },
   "file_extension": ".py",
   "mimetype": "text/x-python",
   "name": "python",
   "nbconvert_exporter": "python",
   "pygments_lexer": "ipython3",
   "version": "3.9.13"
  }
 },
 "nbformat": 4,
 "nbformat_minor": 5
}
