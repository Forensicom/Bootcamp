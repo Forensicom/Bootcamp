{
 "cells": [
  {
   "cell_type": "code",
   "execution_count": null,
   "id": "f2ed67ed-46d6-49b0-b215-fa832a67c4f3",
   "metadata": {},
   "outputs": [],
   "source": [
    "import requests\n",
    "import json"
   ]
  },
  {
   "cell_type": "code",
   "execution_count": null,
   "id": "d91ca01f-04ff-4cad-a903-60cf9641a166",
   "metadata": {},
   "outputs": [],
   "source": [
    "# Declare request url to create deck id\n",
    "create_deck_url = \"https://deckofcardsapi.com/api/deck/new/shuffle/?deck_count=6\"\n",
    "\n",
    "# Execute create deck url"
   ]
  },
  {
   "cell_type": "code",
   "execution_count": null,
   "id": "babfc52c-dbbb-439f-ad94-9382c02fdd9b",
   "metadata": {},
   "outputs": [],
   "source": [
    " # Select deck_id\n",
    "\n",
    "print(deck_id)"
   ]
  },
  {
   "cell_type": "code",
   "execution_count": null,
   "id": "9998e625-29e3-44a8-9f78-520466c85abd",
   "metadata": {},
   "outputs": [],
   "source": [
    " # Declare draw_cards_url and shuffle_deck_url\n",
    "# Use string interpolation to incorporate the deck_id\n",
    "draw_cards_url = f\"https://deckofcardsapi.com/api/deck/{deck_id}/draw/?count=2\"\n",
    "shuffle_deck_url = f\"https://deckofcardsapi.com/api/deck/{deck_id}/shuffle/\"\n",
    "print(draw_cards_url)\n",
    "print(shuffle_deck_url)"
   ]
  },
  {
   "cell_type": "code",
   "execution_count": null,
   "id": "da8526df-4839-435d-ad1c-8180d2300867",
   "metadata": {},
   "outputs": [],
   "source": [
    "# Draw two cards"
   ]
  },
  {
   "cell_type": "code",
   "execution_count": null,
   "id": "be5856f9-753c-4589-8e4d-82d9238cc57c",
   "metadata": {},
   "outputs": [],
   "source": [
    " # Select returned card's value and suit (i.e. 3 of clubs)\n",
    "\n",
    "\n",
    "# Print player cards\n",
    "print(player_1_card_1)\n",
    "print(player_1_card_2)"
   ]
  },
  {
   "cell_type": "code",
   "execution_count": null,
   "id": "942ec918-744a-49d4-a34d-6af014fdc2ab",
   "metadata": {},
   "outputs": [],
   "source": [
    "# Draw a third card\n",
    "\n",
    "\n",
    "# Select returned card's value and suit (i.e. 3 of clubs)\n",
    "\n",
    "\n",
    "# Print player card\n",
    "print(player_1_card_3)"
   ]
  },
  {
   "cell_type": "code",
   "execution_count": null,
   "id": "5ace0a91-f124-4591-bf40-757930f6a1ec",
   "metadata": {},
   "outputs": [],
   "source": [
    " Player 1 points ="
   ]
  },
  {
   "cell_type": "code",
   "execution_count": null,
   "id": "8aa451ba-5c70-4d5c-a036-057990c4dceb",
   "metadata": {},
   "outputs": [],
   "source": [
    " # Draw two cards for player 1\n",
    "\n",
    "\n",
    "# Select card value and suit \n",
    "\n",
    "\n",
    "# Print player cards\n",
    "print(player_2_card_1)\n",
    "print(player_2_card_2)\n",
    "\n",
    "# Draw third card for player 2\n",
    "\n",
    "\n",
    "# Print player card\n",
    "print(player_2_card_3)"
   ]
  },
  {
   "cell_type": "code",
   "execution_count": null,
   "id": "2865526d-bdd2-4b98-8f22-72b5567dfb94",
   "metadata": {},
   "outputs": [],
   "source": [
    " Player 2 points ="
   ]
  }
 ],
 "metadata": {
  "kernelspec": {
   "display_name": "Python 3 (ipykernel)",
   "language": "python",
   "name": "python3"
  },
  "language_info": {
   "codemirror_mode": {
    "name": "ipython",
    "version": 3
   },
   "file_extension": ".py",
   "mimetype": "text/x-python",
   "name": "python",
   "nbconvert_exporter": "python",
   "pygments_lexer": "ipython3",
   "version": "3.9.13"
  }
 },
 "nbformat": 4,
 "nbformat_minor": 5
}
