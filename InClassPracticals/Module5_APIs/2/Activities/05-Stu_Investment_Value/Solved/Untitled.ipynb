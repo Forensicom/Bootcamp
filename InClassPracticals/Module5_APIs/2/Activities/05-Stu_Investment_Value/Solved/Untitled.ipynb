{
 "cells": [
  {
   "cell_type": "code",
   "execution_count": 1,
   "id": "25e35861-ca72-49c2-98bc-ab98f3288178",
   "metadata": {},
   "outputs": [
    {
     "name": "stdout",
     "output_type": "stream",
     "text": [
      "Original DataFrame:\n",
      "     Name  Mathematics  Science\n",
      "0  Aiyana           95       99\n",
      "1  Anisha           98       94\n",
      "\n",
      "\n",
      "Modified DataFrame:\n",
      "     Name  Mathematics  Science\n",
      "0  Aiyana           95       99\n",
      "1  Anisha           98       94\n",
      "2  Saanvi           96       90\n"
     ]
    }
   ],
   "source": [
    "import pandas as pd\n",
    " \n",
    "# Create a sample DataFrame\n",
    "data = {'Name': ['Aiyana', 'Anisha'],\n",
    "        'Mathematics': [95, 98],\n",
    "        'Science': [99, 94]}\n",
    "df = pd.DataFrame(data)\n",
    " \n",
    "# Display the original DataFrame\n",
    "print(\"Original DataFrame:\")\n",
    "print(df)\n",
    " \n",
    "# Define the new row to be added\n",
    "new_row = {'Name': 'Saanvi', 'Mathematics': 96, 'Science': 90}\n",
    " \n",
    "# Use the loc method to add the new row to the DataFrame\n",
    "df.loc[len(df)] = new_row\n",
    " \n",
    "# Display the modified DataFrame\n",
    "print(\"\\n\\nModified DataFrame:\")\n",
    "print(df)"
   ]
  },
  {
   "cell_type": "code",
   "execution_count": null,
   "id": "29b592fc-f454-42e0-9fcf-0dbd410ddb64",
   "metadata": {},
   "outputs": [],
   "source": []
  }
 ],
 "metadata": {
  "kernelspec": {
   "display_name": "Python 3 (ipykernel)",
   "language": "python",
   "name": "python3"
  },
  "language_info": {
   "codemirror_mode": {
    "name": "ipython",
    "version": 3
   },
   "file_extension": ".py",
   "mimetype": "text/x-python",
   "name": "python",
   "nbconvert_exporter": "python",
   "pygments_lexer": "ipython3",
   "version": "3.9.13"
  }
 },
 "nbformat": 4,
 "nbformat_minor": 5
}
