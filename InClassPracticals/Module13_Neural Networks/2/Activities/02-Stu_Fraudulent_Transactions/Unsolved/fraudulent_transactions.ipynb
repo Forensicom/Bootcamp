{
 "cells": [
  {
   "cell_type": "markdown",
   "metadata": {},
   "source": [
    "# Predicting Fraudulent Transactions Using Neural Networks\n",
    "\n",
    "Now that you’ve learned how to build a deep neural network, you’ll apply those skills to create a deep learning model that can predict financial fraud. But in this activity, rather than a regression deep learning model, you will create a classification deep learning model.\n",
    "\n",
    "## Instructions:\n",
    "\n",
    "### Load and Preprocess the Data\n",
    "\n",
    "1. Read the data from the CSV file into a Pandas DataFrame.\n",
    "\n",
    "2. Create the target set `y` by assigning the values of the “isFraud” column of the DataFrame.\n",
    "\n",
    "3. Define the features set `X` by including all of the columns of the DataFrame except for the “isFraud” column.\n",
    "\n",
    "4. Create the training and testing sets using the `train_test_split` function from scikit-learn.\n",
    "\n",
    "5. Scale the features data using the `StandardScaler` from scikit-learn.\n",
    "\n",
    "### Create and Evaluate a Deep Neural Network Model\n",
    "\n",
    "1. Create a deep neural network model with the following structure:\n",
    "\n",
    "    * 9 inputs\n",
    "    * First hidden layer with 18 neurons\n",
    "    * Second hidden layer with 8 neurons\n",
    "    * Output layer with a single output\n",
    "    * Hidden layers use the ReLU activation function, and output layer uses the sigmoid activation function\n",
    "\n",
    "2. Display the model structure using the 'summary` function.\n",
    "\n",
    "3. Compile the neural network model using the `binary_crossentropy` loss function, the `adam` optimizer, and `accuracy` as an additional metric.\n",
    "\n",
    "4. Fit the model with the training data, using 100 epochs.\n",
    "\n",
    "5. Evaluate the model using testing data and the `evaluate` method.\n",
    "\n",
    "\n",
    "## References:\n",
    "\n",
    "[Keras Sequential model](https://keras.io/api/models/sequential/)\n",
    "\n",
    "[Keras Dense module](https://keras.io/api/layers/core_layers/dense/)\n",
    "\n",
    "[Keras evaluate](https://keras.io/api/models/model_training_apis/)"
   ]
  },
  {
   "cell_type": "code",
   "execution_count": 2,
   "metadata": {},
   "outputs": [],
   "source": [
    "# Imports\n",
    "import pandas as pd\n",
    "from pathlib import Path\n",
    "import tensorflow as tf\n",
    "from tensorflow.keras.layers import Dense\n",
    "from tensorflow.keras.models import Sequential\n",
    "from sklearn.preprocessing import StandardScaler\n",
    "from sklearn.model_selection import train_test_split"
   ]
  },
  {
   "cell_type": "markdown",
   "metadata": {},
   "source": [
    "## Load and Preprocess the Data"
   ]
  },
  {
   "cell_type": "markdown",
   "metadata": {},
   "source": [
    "### Step 1: Read the data from the CSV file into a Pandas DataFrame."
   ]
  },
  {
   "cell_type": "code",
   "execution_count": 5,
   "metadata": {},
   "outputs": [
    {
     "data": {
      "text/html": [
       "<div>\n",
       "<style scoped>\n",
       "    .dataframe tbody tr th:only-of-type {\n",
       "        vertical-align: middle;\n",
       "    }\n",
       "\n",
       "    .dataframe tbody tr th {\n",
       "        vertical-align: top;\n",
       "    }\n",
       "\n",
       "    .dataframe thead th {\n",
       "        text-align: right;\n",
       "    }\n",
       "</style>\n",
       "<table border=\"1\" class=\"dataframe\">\n",
       "  <thead>\n",
       "    <tr style=\"text-align: right;\">\n",
       "      <th></th>\n",
       "      <th>dateMonth</th>\n",
       "      <th>dateWeekday</th>\n",
       "      <th>dateQuarter</th>\n",
       "      <th>operationType</th>\n",
       "      <th>amount</th>\n",
       "      <th>oldbalanceOrig</th>\n",
       "      <th>newbalanceOrig</th>\n",
       "      <th>oldbalanceDest</th>\n",
       "      <th>newbalanceDest</th>\n",
       "      <th>isFraud</th>\n",
       "    </tr>\n",
       "  </thead>\n",
       "  <tbody>\n",
       "    <tr>\n",
       "      <th>0</th>\n",
       "      <td>1</td>\n",
       "      <td>1</td>\n",
       "      <td>1</td>\n",
       "      <td>4</td>\n",
       "      <td>736.76</td>\n",
       "      <td>1120.00</td>\n",
       "      <td>383.24</td>\n",
       "      <td>0.00</td>\n",
       "      <td>0.00</td>\n",
       "      <td>0</td>\n",
       "    </tr>\n",
       "    <tr>\n",
       "      <th>1</th>\n",
       "      <td>1</td>\n",
       "      <td>1</td>\n",
       "      <td>1</td>\n",
       "      <td>2</td>\n",
       "      <td>256226.20</td>\n",
       "      <td>0.00</td>\n",
       "      <td>0.00</td>\n",
       "      <td>518041.64</td>\n",
       "      <td>1305828.01</td>\n",
       "      <td>0</td>\n",
       "    </tr>\n",
       "    <tr>\n",
       "      <th>2</th>\n",
       "      <td>1</td>\n",
       "      <td>1</td>\n",
       "      <td>1</td>\n",
       "      <td>5</td>\n",
       "      <td>310027.49</td>\n",
       "      <td>61594.00</td>\n",
       "      <td>0.00</td>\n",
       "      <td>10089.00</td>\n",
       "      <td>1157398.83</td>\n",
       "      <td>0</td>\n",
       "    </tr>\n",
       "    <tr>\n",
       "      <th>3</th>\n",
       "      <td>1</td>\n",
       "      <td>1</td>\n",
       "      <td>1</td>\n",
       "      <td>1</td>\n",
       "      <td>76695.35</td>\n",
       "      <td>9064440.33</td>\n",
       "      <td>9141135.68</td>\n",
       "      <td>880045.33</td>\n",
       "      <td>206147.08</td>\n",
       "      <td>0</td>\n",
       "    </tr>\n",
       "    <tr>\n",
       "      <th>4</th>\n",
       "      <td>1</td>\n",
       "      <td>1</td>\n",
       "      <td>1</td>\n",
       "      <td>4</td>\n",
       "      <td>4761.57</td>\n",
       "      <td>0.00</td>\n",
       "      <td>0.00</td>\n",
       "      <td>0.00</td>\n",
       "      <td>0.00</td>\n",
       "      <td>0</td>\n",
       "    </tr>\n",
       "  </tbody>\n",
       "</table>\n",
       "</div>"
      ],
      "text/plain": [
       "   dateMonth  dateWeekday  dateQuarter  operationType     amount  \\\n",
       "0          1            1            1              4     736.76   \n",
       "1          1            1            1              2  256226.20   \n",
       "2          1            1            1              5  310027.49   \n",
       "3          1            1            1              1   76695.35   \n",
       "4          1            1            1              4    4761.57   \n",
       "\n",
       "   oldbalanceOrig  newbalanceOrig  oldbalanceDest  newbalanceDest  isFraud  \n",
       "0         1120.00          383.24            0.00            0.00        0  \n",
       "1            0.00            0.00       518041.64      1305828.01        0  \n",
       "2        61594.00            0.00        10089.00      1157398.83        0  \n",
       "3      9064440.33      9141135.68       880045.33       206147.08        0  \n",
       "4            0.00            0.00            0.00            0.00        0  "
      ]
     },
     "execution_count": 5,
     "metadata": {},
     "output_type": "execute_result"
    }
   ],
   "source": [
    "# Read the credit_card_transactions.csv file from the Resources folder into a Pandas DataFrame\n",
    "cc_transactions_df = pd.read_csv(Path(\"../Resources/credit_card_transactions.csv\"))\n",
    "\n",
    "# Review the DataFrame\n",
    "cc_transactions_df.head()\n"
   ]
  },
  {
   "cell_type": "markdown",
   "metadata": {},
   "source": [
    "### Step 2: Create the target set `y` by assigning the values of the “isFraud” column of the DataFrame."
   ]
  },
  {
   "cell_type": "code",
   "execution_count": 6,
   "metadata": {},
   "outputs": [
    {
     "data": {
      "text/plain": [
       "0        0\n",
       "1        0\n",
       "2        0\n",
       "3        0\n",
       "4        0\n",
       "        ..\n",
       "99995    0\n",
       "99996    0\n",
       "99997    0\n",
       "99998    0\n",
       "99999    0\n",
       "Name: isFraud, Length: 100000, dtype: int64"
      ]
     },
     "metadata": {},
     "output_type": "display_data"
    }
   ],
   "source": [
    "# Define the target set by selecting the isFraud column\n",
    "y = cc_transactions_df['isFraud']\n",
    "\n",
    "# Display a sample of y\n",
    "display(y)\n"
   ]
  },
  {
   "cell_type": "markdown",
   "metadata": {},
   "source": [
    "### Step 3: Define the features set `X` by including all of the columns of the DataFrame except for the “isFraud” column."
   ]
  },
  {
   "cell_type": "code",
   "execution_count": 9,
   "metadata": {},
   "outputs": [
    {
     "data": {
      "text/html": [
       "<div>\n",
       "<style scoped>\n",
       "    .dataframe tbody tr th:only-of-type {\n",
       "        vertical-align: middle;\n",
       "    }\n",
       "\n",
       "    .dataframe tbody tr th {\n",
       "        vertical-align: top;\n",
       "    }\n",
       "\n",
       "    .dataframe thead th {\n",
       "        text-align: right;\n",
       "    }\n",
       "</style>\n",
       "<table border=\"1\" class=\"dataframe\">\n",
       "  <thead>\n",
       "    <tr style=\"text-align: right;\">\n",
       "      <th></th>\n",
       "      <th>dateMonth</th>\n",
       "      <th>dateWeekday</th>\n",
       "      <th>dateQuarter</th>\n",
       "      <th>operationType</th>\n",
       "      <th>amount</th>\n",
       "      <th>oldbalanceOrig</th>\n",
       "      <th>newbalanceOrig</th>\n",
       "      <th>oldbalanceDest</th>\n",
       "      <th>newbalanceDest</th>\n",
       "    </tr>\n",
       "  </thead>\n",
       "  <tbody>\n",
       "    <tr>\n",
       "      <th>0</th>\n",
       "      <td>1</td>\n",
       "      <td>1</td>\n",
       "      <td>1</td>\n",
       "      <td>4</td>\n",
       "      <td>736.76</td>\n",
       "      <td>1120.00</td>\n",
       "      <td>383.24</td>\n",
       "      <td>0.00</td>\n",
       "      <td>0.00</td>\n",
       "    </tr>\n",
       "    <tr>\n",
       "      <th>1</th>\n",
       "      <td>1</td>\n",
       "      <td>1</td>\n",
       "      <td>1</td>\n",
       "      <td>2</td>\n",
       "      <td>256226.20</td>\n",
       "      <td>0.00</td>\n",
       "      <td>0.00</td>\n",
       "      <td>518041.64</td>\n",
       "      <td>1305828.01</td>\n",
       "    </tr>\n",
       "    <tr>\n",
       "      <th>2</th>\n",
       "      <td>1</td>\n",
       "      <td>1</td>\n",
       "      <td>1</td>\n",
       "      <td>5</td>\n",
       "      <td>310027.49</td>\n",
       "      <td>61594.00</td>\n",
       "      <td>0.00</td>\n",
       "      <td>10089.00</td>\n",
       "      <td>1157398.83</td>\n",
       "    </tr>\n",
       "    <tr>\n",
       "      <th>3</th>\n",
       "      <td>1</td>\n",
       "      <td>1</td>\n",
       "      <td>1</td>\n",
       "      <td>1</td>\n",
       "      <td>76695.35</td>\n",
       "      <td>9064440.33</td>\n",
       "      <td>9141135.68</td>\n",
       "      <td>880045.33</td>\n",
       "      <td>206147.08</td>\n",
       "    </tr>\n",
       "    <tr>\n",
       "      <th>4</th>\n",
       "      <td>1</td>\n",
       "      <td>1</td>\n",
       "      <td>1</td>\n",
       "      <td>4</td>\n",
       "      <td>4761.57</td>\n",
       "      <td>0.00</td>\n",
       "      <td>0.00</td>\n",
       "      <td>0.00</td>\n",
       "      <td>0.00</td>\n",
       "    </tr>\n",
       "    <tr>\n",
       "      <th>...</th>\n",
       "      <td>...</td>\n",
       "      <td>...</td>\n",
       "      <td>...</td>\n",
       "      <td>...</td>\n",
       "      <td>...</td>\n",
       "      <td>...</td>\n",
       "      <td>...</td>\n",
       "      <td>...</td>\n",
       "      <td>...</td>\n",
       "    </tr>\n",
       "    <tr>\n",
       "      <th>99995</th>\n",
       "      <td>12</td>\n",
       "      <td>1</td>\n",
       "      <td>4</td>\n",
       "      <td>1</td>\n",
       "      <td>109534.19</td>\n",
       "      <td>18292168.76</td>\n",
       "      <td>18401702.96</td>\n",
       "      <td>403737.01</td>\n",
       "      <td>294202.82</td>\n",
       "    </tr>\n",
       "    <tr>\n",
       "      <th>99996</th>\n",
       "      <td>12</td>\n",
       "      <td>1</td>\n",
       "      <td>4</td>\n",
       "      <td>1</td>\n",
       "      <td>103920.74</td>\n",
       "      <td>5486901.65</td>\n",
       "      <td>5590822.39</td>\n",
       "      <td>1267095.24</td>\n",
       "      <td>2239899.53</td>\n",
       "    </tr>\n",
       "    <tr>\n",
       "      <th>99997</th>\n",
       "      <td>12</td>\n",
       "      <td>1</td>\n",
       "      <td>4</td>\n",
       "      <td>5</td>\n",
       "      <td>1298677.95</td>\n",
       "      <td>0.00</td>\n",
       "      <td>0.00</td>\n",
       "      <td>280579.46</td>\n",
       "      <td>1579257.41</td>\n",
       "    </tr>\n",
       "    <tr>\n",
       "      <th>99998</th>\n",
       "      <td>12</td>\n",
       "      <td>1</td>\n",
       "      <td>4</td>\n",
       "      <td>1</td>\n",
       "      <td>82450.63</td>\n",
       "      <td>4135263.42</td>\n",
       "      <td>4217714.05</td>\n",
       "      <td>2289239.02</td>\n",
       "      <td>2436585.65</td>\n",
       "    </tr>\n",
       "    <tr>\n",
       "      <th>99999</th>\n",
       "      <td>12</td>\n",
       "      <td>1</td>\n",
       "      <td>4</td>\n",
       "      <td>1</td>\n",
       "      <td>78848.28</td>\n",
       "      <td>144962.00</td>\n",
       "      <td>223810.28</td>\n",
       "      <td>13861.87</td>\n",
       "      <td>0.00</td>\n",
       "    </tr>\n",
       "  </tbody>\n",
       "</table>\n",
       "<p>100000 rows × 9 columns</p>\n",
       "</div>"
      ],
      "text/plain": [
       "       dateMonth  dateWeekday  dateQuarter  operationType      amount  \\\n",
       "0              1            1            1              4      736.76   \n",
       "1              1            1            1              2   256226.20   \n",
       "2              1            1            1              5   310027.49   \n",
       "3              1            1            1              1    76695.35   \n",
       "4              1            1            1              4     4761.57   \n",
       "...          ...          ...          ...            ...         ...   \n",
       "99995         12            1            4              1   109534.19   \n",
       "99996         12            1            4              1   103920.74   \n",
       "99997         12            1            4              5  1298677.95   \n",
       "99998         12            1            4              1    82450.63   \n",
       "99999         12            1            4              1    78848.28   \n",
       "\n",
       "       oldbalanceOrig  newbalanceOrig  oldbalanceDest  newbalanceDest  \n",
       "0             1120.00          383.24            0.00            0.00  \n",
       "1                0.00            0.00       518041.64      1305828.01  \n",
       "2            61594.00            0.00        10089.00      1157398.83  \n",
       "3          9064440.33      9141135.68       880045.33       206147.08  \n",
       "4                0.00            0.00            0.00            0.00  \n",
       "...               ...             ...             ...             ...  \n",
       "99995     18292168.76     18401702.96       403737.01       294202.82  \n",
       "99996      5486901.65      5590822.39      1267095.24      2239899.53  \n",
       "99997            0.00            0.00       280579.46      1579257.41  \n",
       "99998      4135263.42      4217714.05      2289239.02      2436585.65  \n",
       "99999       144962.00       223810.28        13861.87            0.00  \n",
       "\n",
       "[100000 rows x 9 columns]"
      ]
     },
     "metadata": {},
     "output_type": "display_data"
    }
   ],
   "source": [
    "# Define features set X by selecting all columns but the isFraud\n",
    "X = cc_transactions_df.drop(columns=['isFraud'])\n",
    "\n",
    "# Display the features DataFrame\n",
    "display(X)\n"
   ]
  },
  {
   "cell_type": "markdown",
   "metadata": {},
   "source": [
    "### Step 4: Create the training and testing sets using the `train_test_split` function from scikit-learn."
   ]
  },
  {
   "cell_type": "code",
   "execution_count": 10,
   "metadata": {},
   "outputs": [],
   "source": [
    "# Create training and testing datasets using train_teat_split\n",
    "# Assign the function a random_state equal to 1\n",
    "X_train, X_test, y_train, y_test = train_test_split(X, y, random_state = 1)\n"
   ]
  },
  {
   "cell_type": "markdown",
   "metadata": {},
   "source": [
    "### Step 5:  Scale the features data using the `StandardScaler` from scikit-learn."
   ]
  },
  {
   "cell_type": "code",
   "execution_count": 12,
   "metadata": {},
   "outputs": [],
   "source": [
    "# Create the StandardScaler instance\n",
    "X_scaler = StandardScaler()\n"
   ]
  },
  {
   "cell_type": "code",
   "execution_count": 14,
   "metadata": {},
   "outputs": [
    {
     "data": {
      "text/plain": [
       "StandardScaler()"
      ]
     },
     "execution_count": 14,
     "metadata": {},
     "output_type": "execute_result"
    }
   ],
   "source": [
    "# Fit the scaler to the features training dataset\n",
    "X_scaler.fit(X_train)\n"
   ]
  },
  {
   "cell_type": "code",
   "execution_count": 16,
   "metadata": {},
   "outputs": [],
   "source": [
    "# Scale both the training and testing data from the features dataset\n",
    "X_train_scaled = X_scaler.transform(X_train)\n",
    "X_test_scaled = X_scaler.transform(X_test)\n"
   ]
  },
  {
   "cell_type": "markdown",
   "metadata": {},
   "source": [
    "---\n",
    "\n",
    "## Create and Evaluate a Deep Neural Network Model"
   ]
  },
  {
   "cell_type": "markdown",
   "metadata": {},
   "source": [
    "### Step 1: Create a deep neural network model with the following structure:\n",
    "\n",
    "    * 9 inputs\n",
    "    * First hidden layer with 18 neurons\n",
    "    * Second hidden layer with 8 neurons\n",
    "    * Output layer with a single output\n",
    "    * Hidden layers use the ReLU activation function, and output layer uses the sigmoid activation function\n"
   ]
  },
  {
   "cell_type": "code",
   "execution_count": 17,
   "metadata": {},
   "outputs": [],
   "source": [
    "# Define the the number of inputs to the model\n",
    "number_inputs = 9\n",
    "\n",
    "# Define the number of hidden nodes for the first hidden layer\n",
    "hidden_nodes_layer1 = 18\n",
    "\n",
    "# Define the number of hidden nodes for the second hidden layer\n",
    "hidden_nodes_layer2 = 8\n",
    "\n",
    "# Create the Sequential model instance\n",
    "nn = Sequential()\n",
    "\n",
    "# Add the first Dense layer specifying the number of inputs, the number of hidden nodes, and the activation function\n",
    "nn.add(\n",
    "    Dense(units=hidden_nodes_layer1, input_dim=number_inputs, activation=\"relu\")\n",
    ")\n",
    "\n",
    "# Add the second Dense layer specifying the number of hidden nodes and the activation function\n",
    "nn.add(\n",
    "    Dense(units=hidden_nodes_layer2, activation=\"relu\")\n",
    ")\n",
    "\n",
    "# Add the output layer to the model specifying the number of output neurons and activation function\n",
    "nn.add(Dense(units=1, activation=\"sigmoid\"))\n"
   ]
  },
  {
   "cell_type": "markdown",
   "metadata": {},
   "source": [
    "### Step 2. Display the model structure using the `summary` function."
   ]
  },
  {
   "cell_type": "code",
   "execution_count": 19,
   "metadata": {},
   "outputs": [
    {
     "name": "stdout",
     "output_type": "stream",
     "text": [
      "Model: \"sequential\"\n",
      "_________________________________________________________________\n",
      " Layer (type)                Output Shape              Param #   \n",
      "=================================================================\n",
      " dense (Dense)               (None, 18)                180       \n",
      "                                                                 \n",
      " dense_1 (Dense)             (None, 8)                 152       \n",
      "                                                                 \n",
      " dense_2 (Dense)             (None, 1)                 9         \n",
      "                                                                 \n",
      "=================================================================\n",
      "Total params: 341\n",
      "Trainable params: 341\n",
      "Non-trainable params: 0\n",
      "_________________________________________________________________\n"
     ]
    }
   ],
   "source": [
    "# Display the Sequential model summary\n",
    "nn.summary()\n"
   ]
  },
  {
   "cell_type": "markdown",
   "metadata": {},
   "source": [
    "### Step 3: Compile the neural network model using the `binary_crossentropy` loss function, the `adam` optimizer, and `accuracy` as an additional metric."
   ]
  },
  {
   "cell_type": "code",
   "execution_count": 22,
   "metadata": {},
   "outputs": [],
   "source": [
    "# Compile the Sequential model\n",
    "nn.compile(loss=\"binary_crossentropy\", optimizer=\"adam\", metrics=[\"accuracy\"])\n"
   ]
  },
  {
   "cell_type": "markdown",
   "metadata": {},
   "source": [
    "### Step 4: Fit the model with the training data, using 100 epochs."
   ]
  },
  {
   "cell_type": "code",
   "execution_count": 23,
   "metadata": {},
   "outputs": [
    {
     "name": "stdout",
     "output_type": "stream",
     "text": [
      "Epoch 1/10\n",
      "2188/2188 [==============================] - 6s 2ms/step - loss: 189.4095 - accuracy: 0.9967 - val_loss: 120.8932 - val_accuracy: 0.9987\n",
      "Epoch 2/10\n",
      "2188/2188 [==============================] - 5s 2ms/step - loss: 115.8394 - accuracy: 0.9954 - val_loss: 59.5362 - val_accuracy: 0.9987\n",
      "Epoch 3/10\n",
      "2188/2188 [==============================] - 4s 2ms/step - loss: 95.2508 - accuracy: 0.9876 - val_loss: 27.5785 - val_accuracy: 0.9827\n",
      "Epoch 4/10\n",
      "2188/2188 [==============================] - 4s 2ms/step - loss: 91.5685 - accuracy: 0.9912 - val_loss: 30.0771 - val_accuracy: 0.9886\n",
      "Epoch 5/10\n",
      "2188/2188 [==============================] - 5s 2ms/step - loss: 70.0767 - accuracy: 0.9924 - val_loss: 18.0993 - val_accuracy: 0.9988\n",
      "Epoch 6/10\n",
      "2188/2188 [==============================] - 4s 2ms/step - loss: 48.9645 - accuracy: 0.9943 - val_loss: 29.8979 - val_accuracy: 0.9913\n",
      "Epoch 7/10\n",
      "2188/2188 [==============================] - 4s 2ms/step - loss: 69.8607 - accuracy: 0.9891 - val_loss: 10.8590 - val_accuracy: 0.9991\n",
      "Epoch 8/10\n",
      "2188/2188 [==============================] - 4s 2ms/step - loss: 44.6158 - accuracy: 0.9939 - val_loss: 47.5465 - val_accuracy: 0.9675\n",
      "Epoch 9/10\n",
      "2188/2188 [==============================] - 5s 2ms/step - loss: 36.3689 - accuracy: 0.9903 - val_loss: 12.2431 - val_accuracy: 0.9919\n",
      "Epoch 10/10\n",
      "2188/2188 [==============================] - 5s 2ms/step - loss: 43.5769 - accuracy: 0.9872 - val_loss: 7.6646 - val_accuracy: 0.9988\n"
     ]
    }
   ],
   "source": [
    "# Fit the model using 100 epochs and the training data\n",
    "model = nn.fit(X, y, validation_split=0.3, epochs=10)\n"
   ]
  },
  {
   "cell_type": "markdown",
   "metadata": {},
   "source": [
    "### Step 5: Evaluate the model using testing data and the `evaluate` method."
   ]
  },
  {
   "cell_type": "code",
   "execution_count": 25,
   "metadata": {},
   "outputs": [
    {
     "name": "stdout",
     "output_type": "stream",
     "text": [
      "782/782 - 1s - loss: 0.0288 - accuracy: 0.9988 - 972ms/epoch - 1ms/step\n",
      "Loss: 0.028751952573657036, Accuracy: 0.9988399744033813\n"
     ]
    }
   ],
   "source": [
    "# Evaluate the model loss and accuracy metrics using the evaluate method and the test data\n",
    "model_loss, model_accuracy = nn.evaluate(X_test_scaled, y_test, verbose = 2)# YOUR CODE HERE\n",
    "\n",
    "# Display the evaluation results\n",
    "print(f\"Loss: {model_loss}, Accuracy: {model_accuracy}\")"
   ]
  },
  {
   "cell_type": "code",
   "execution_count": null,
   "metadata": {},
   "outputs": [],
   "source": []
  }
 ],
 "metadata": {
  "kernelspec": {
   "display_name": "Python 3 (ipykernel)",
   "language": "python",
   "name": "python3"
  },
  "language_info": {
   "codemirror_mode": {
    "name": "ipython",
    "version": 3
   },
   "file_extension": ".py",
   "mimetype": "text/x-python",
   "name": "python",
   "nbconvert_exporter": "python",
   "pygments_lexer": "ipython3",
   "version": "3.9.13"
  }
 },
 "nbformat": 4,
 "nbformat_minor": 4
}
