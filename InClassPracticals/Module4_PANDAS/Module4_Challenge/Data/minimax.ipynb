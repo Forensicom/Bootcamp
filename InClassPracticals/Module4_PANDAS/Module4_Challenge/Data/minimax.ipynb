{
 "cells": [
  {
   "cell_type": "code",
   "execution_count": 35,
   "id": "bf4f84d4-764b-467f-85d4-06c5e2c1278b",
   "metadata": {},
   "outputs": [
    {
     "name": "stdout",
     "output_type": "stream",
     "text": [
      "75\n",
      "2\n"
     ]
    }
   ],
   "source": [
    "list1 = [12, 33, 41, 2, 61, 32, 75, 43, 67]\n",
    "def minmax(list1):\n",
    "    if not list1:\n",
    "        print (\"List is empty\")\n",
    "    return\n",
    "\n",
    "maxvar = list1[0]\n",
    "minvar = list1[0]\n",
    "\n",
    "for x in range(1, len(list1)):\n",
    "    if list1[x] < minvar:\n",
    "        minvar = list1[x]\n",
    "    elif list1[x] > maxvar:\n",
    "        maxvar = list1[x]\n",
    "print (maxvar)\n",
    "print (minvar)\n",
    "            \n"
   ]
  },
  {
   "cell_type": "code",
   "execution_count": null,
   "id": "ab124979-9172-49ef-897d-23bcc5021b1e",
   "metadata": {},
   "outputs": [],
   "source": []
  }
 ],
 "metadata": {
  "kernelspec": {
   "display_name": "Python 3 (ipykernel)",
   "language": "python",
   "name": "python3"
  },
  "language_info": {
   "codemirror_mode": {
    "name": "ipython",
    "version": 3
   },
   "file_extension": ".py",
   "mimetype": "text/x-python",
   "name": "python",
   "nbconvert_exporter": "python",
   "pygments_lexer": "ipython3",
   "version": "3.9.13"
  }
 },
 "nbformat": 4,
 "nbformat_minor": 5
}
