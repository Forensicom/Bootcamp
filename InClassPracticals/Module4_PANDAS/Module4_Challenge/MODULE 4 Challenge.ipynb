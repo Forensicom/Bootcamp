{
 "cells": [
  {
   "cell_type": "code",
   "execution_count": null,
   "id": "c8af17bd-52be-43e5-98bc-109e34396b29",
   "metadata": {},
   "outputs": [],
   "source": [
    "# Module 4 Challenge\n",
    "# Larry Gagnon\n",
    "# Create an analysis notebook that analyses and visualises the major metrics of the portfolios across volatility, returns, risk, and Sharpe ratios.\n",
    "# Determine which portfolio outperformed the others. \n"
   ]
  },
  {
   "cell_type": "code",
   "execution_count": null,
   "id": "2774adb4-f88d-483c-be98-1b4ed789938f",
   "metadata": {},
   "outputs": [],
   "source": [
    "# Prepare the Data\n",
    "# First, you will read in and clean several CSV files for analysis. \n",
    "# The CSV files contain data on whale portfolio returns, algorithmic trading portfolio returns, and S&P TSX 60 historical prices. \n",
    "# Use the Whale Analysis starter code."
   ]
  },
  {
   "cell_type": "code",
   "execution_count": null,
   "id": "55d05bbc-f213-4968-9e02-9e2069ed6243",
   "metadata": {},
   "outputs": [],
   "source": [
    "# Initial imports\n",
    "import pandas as pd\n",
    "import numpy as np\n",
    "import datetime as dt\n",
    "from pathlib import Path\n",
    "\n",
    "%matplotlib inline "
   ]
  },
  {
   "cell_type": "code",
   "execution_count": null,
   "id": "c37fdf21-2341-48c7-91a4-54383f996fb5",
   "metadata": {},
   "outputs": [],
   "source": [
    "# Use Pandas to read the following CSV files into DataFrames. Be sure to convert the dates to a DateTimeIndex.\n",
    "# whale_returns.csv: Contains returns of some famous \"whale\" investors' portfolios.\n",
    "# algo_returns.csv: Contains returns from the in-house trading algorithms from your company.\n",
    "# sp_tsx_history.csv: Contains historical closing prices of the S&P TSX 60 Index."
   ]
  },
  {
   "cell_type": "code",
   "execution_count": null,
   "id": "a1041b02-e719-451e-a161-840abd955969",
   "metadata": {},
   "outputs": [],
   "source": [
    "# Data cleaning. Determine data types and count entries to determine Null values.\n",
    "\n",
    "whale_ret_csv = Path(\"data/whale_returns.csv\")\n",
    "whale_df = pd.read_csv(whale_ret_csv, index_col=\"Date\", infer_datetime_format=True, parse_dates=True)\n",
    "whale_df.sort_index(inplace=True)\n",
    "whale_df.head()\n",
    "# whale_df.dtypes\n",
    "# whale_df.count()"
   ]
  },
  {
   "cell_type": "code",
   "execution_count": null,
   "id": "a0aa3852-489f-476b-b6a1-9c4ec677ef01",
   "metadata": {},
   "outputs": [],
   "source": [
    "# Data cleaning. Determine data types and count entries to determine Null values.\n",
    "\n",
    "sp_tsx_history_csv = Path(\"data/sp_tsx_history.csv\")\n",
    "sp_tsx_history_df = pd.read_csv(sp_tsx_history_csv, index_col=\"Date\", infer_datetime_format=True, parse_dates=True)\n",
    "sp_tsx_history_df.sort_index(inplace=True)\n",
    "sp_tsx_history_df.head()\n",
    "# sp_tsx_history_df.dtypes\n",
    "# sp_tsx_history_df.count()"
   ]
  },
  {
   "cell_type": "code",
   "execution_count": null,
   "id": "f904f71d-502e-458c-bbf1-dbeafea3dab0",
   "metadata": {},
   "outputs": [],
   "source": [
    "# Data cleaning. Determine data types and count entries to determine Null values.\n",
    "shop_historical_csv = Path(\"data/shop_historical.csv\")\n",
    "shop_historical_df = pd.read_csv(shop_historical_csv, index_col=\"Date\", infer_datetime_format=True, parse_dates=True)\n",
    "shop_historical_df.sort_index(inplace=True)\n",
    "shop_historical_df.head()\n",
    "\n",
    "# shop_historical_df.dtypes\n",
    "# shop_historical_df.count()"
   ]
  },
  {
   "cell_type": "code",
   "execution_count": null,
   "id": "6e593d5d-4f25-49d6-81d1-1fdb1b021d14",
   "metadata": {},
   "outputs": [],
   "source": [
    "# Data cleaning. Determine data types and count entries to determine Null values.\n",
    "otex_historical_csv = Path(\"data/otex_historical.csv\")\n",
    "otex_historical_df = pd.read_csv(otex_historical_csv, index_col=\"Date\", infer_datetime_format=True, parse_dates=True)\n",
    "otex_historical_df.sort_index(inplace=True)\n",
    "otex_historical_df.head()\n",
    "\n",
    "# otex_historical_df.dtypes\n",
    "# otex_historical_df.count()"
   ]
  },
  {
   "cell_type": "code",
   "execution_count": null,
   "id": "945877e4-b4ee-4c1c-8344-d29c67de8852",
   "metadata": {},
   "outputs": [],
   "source": [
    "# Data cleaning. Determine data types and count entries to determine Null values.\n",
    "l_historical_csv = Path(\"data/l_historical.csv\")\n",
    "l_historical_df = pd.read_csv(l_historical_csv, index_col=\"Date\", infer_datetime_format=True, parse_dates=True)\n",
    "l_historical_df.sort_index(inplace=True)\n",
    "l_historical_df.head()\n",
    "\n",
    "# l_historical_df.dtypes\n",
    "# l_historical_df.count()"
   ]
  },
  {
   "cell_type": "code",
   "execution_count": null,
   "id": "a76eb54f-348d-42db-9a85-d3ec27685478",
   "metadata": {},
   "outputs": [],
   "source": [
    "# Data cleaning. Determine data types and count entries to determine Null values.\n",
    "algo_returns_csv = Path(\"data/algo_returns.csv\")\n",
    "algo_returns_df = pd.read_csv(algo_returns_csv, index_col=\"Date\", infer_datetime_format=True, parse_dates=True)\n",
    "algo_returns_df.sort_index(inplace=True)\n",
    "algo_returns_df.dtypes\n",
    "# algo_returns_df.count()\n",
    "# algo_returns_df.head()"
   ]
  },
  {
   "cell_type": "code",
   "execution_count": null,
   "id": "08426bcb-3634-4a05-b32f-6f094d3ee326",
   "metadata": {},
   "outputs": [],
   "source": [
    "# Remove any non-numeric values (e.g., dollar signs) from the DataFrames and convert the data types as needed.\n",
    "# REMOVE THE $$ AND THE COMMA from the Close column of sp_tsx_history_df."
   ]
  },
  {
   "cell_type": "code",
   "execution_count": null,
   "id": "692a793a-7bbb-4427-89df-52a4a6fe0831",
   "metadata": {},
   "outputs": [],
   "source": [
    "sp_tsx_history_df[\"Close\"] = sp_tsx_history_df[\"Close\"].str.replace(\"$\", \"\")\n",
    "# Must also remove commas in those values or STR will not convert to FLOAT\n",
    "sp_tsx_history_df[\"Close\"] = sp_tsx_history_df[\"Close\"].str.replace(\",\", \"\")\n",
    "sp_tsx_history_df[\"Close\"].head()\n",
    "# sp_tsx_history_df.dtypes"
   ]
  },
  {
   "cell_type": "code",
   "execution_count": null,
   "id": "f5b74dcd-8897-4831-9778-cae0723fc2fc",
   "metadata": {},
   "outputs": [],
   "source": [
    "# Identify and remove null values.\n",
    "# Two dataframes contain null values. algo_returns_df and what__ret_df."
   ]
  },
  {
   "cell_type": "code",
   "execution_count": null,
   "id": "6a4126fa-a7c8-4c74-9ef0-120899477c80",
   "metadata": {},
   "outputs": [],
   "source": [
    "whale_df.count()"
   ]
  },
  {
   "cell_type": "code",
   "execution_count": null,
   "id": "7d423eea-fd3c-4d40-8e8c-235951c2130e",
   "metadata": {},
   "outputs": [],
   "source": [
    "whale_df.isnull().sum()"
   ]
  },
  {
   "cell_type": "code",
   "execution_count": null,
   "id": "6695381d-df19-4c80-8b4c-f8b572f8531e",
   "metadata": {},
   "outputs": [],
   "source": [
    "whale_df = whale_df.dropna().copy()\n",
    "whale_df.count()"
   ]
  },
  {
   "cell_type": "code",
   "execution_count": null,
   "id": "1543ca2b-fc7e-48d1-a287-cbf97f398e6b",
   "metadata": {},
   "outputs": [],
   "source": [
    "algo_returns_df.count()"
   ]
  },
  {
   "cell_type": "code",
   "execution_count": null,
   "id": "b29f1e8e-f56f-4e54-9969-291132e6cf64",
   "metadata": {},
   "outputs": [],
   "source": [
    "algo_returns_df.isnull().sum()"
   ]
  },
  {
   "cell_type": "code",
   "execution_count": null,
   "id": "b9a5a4b7-04af-440c-91d9-4c7494df83fc",
   "metadata": {},
   "outputs": [],
   "source": [
    "algo_returns_df = algo_returns_df.dropna().copy()\n",
    "algo_returns_df.count()\n",
    "algo_returns_df.head()"
   ]
  },
  {
   "cell_type": "code",
   "execution_count": null,
   "id": "a54cee0a-94e1-4b60-b57f-b1c5aa130ac8",
   "metadata": {},
   "outputs": [],
   "source": [
    "# The whale portfolios and algorithmic portfolio CSV files contain daily returns, \n",
    "# but the S&P TSX 60 CSV file contains closing prices. \n",
    "# Convert the S&P TSX 60 closing prices to daily returns.\n",
    "# Use pct change and do not forget to change column name"
   ]
  },
  {
   "cell_type": "code",
   "execution_count": null,
   "id": "e57ff299-0d29-4536-9b0c-f78a39564528",
   "metadata": {},
   "outputs": [],
   "source": [
    "sp_tsx_history_df = sp_tsx_history_df.rename({\"Close\":\"S&P Daily\"}, axis='columns')\n",
    "sp_tsx_daily_df = sp_tsx_history_df['S&P Daily'].astype('float').pct_change()\n",
    "sp_tsx_daily_df.head()"
   ]
  },
  {
   "cell_type": "code",
   "execution_count": null,
   "id": "fcb93160-3de3-4a8c-8208-af4fbb51ad1a",
   "metadata": {},
   "outputs": [],
   "source": [
    "# Join Whale Returns, Algorithmic Returns, and the S&P TSX 60 Returns into a single DataFrame with columns for each portfolio's returns.\n",
    "# returns-dataframe.png\n",
    "# DO an inner join columns concat() and define the axis=1\n",
    "# Add columns with names: Soros, Paulson, Tiger, Berkshire, Algo1 Algo2  S&P TSX"
   ]
  },
  {
   "cell_type": "code",
   "execution_count": null,
   "id": "bef6dc65-08a3-4060-a50f-3114377ce35f",
   "metadata": {},
   "outputs": [],
   "source": [
    "whale_algo_sp_df = pd.concat([whale_df, algo_returns_df, sp_tsx_daily_df], axis=1, join=\"inner\")\n",
    "whale_algo_sp_df.head()"
   ]
  },
  {
   "cell_type": "code",
   "execution_count": null,
   "id": "07bd2fb6-d2df-45f8-92bb-e53ca2b4a946",
   "metadata": {},
   "outputs": [],
   "source": [
    "# Performance Analysis\n",
    "# Calculate and plot daily returns of all portfolios."
   ]
  },
  {
   "cell_type": "code",
   "execution_count": null,
   "id": "bcb68b81-c5d5-47ca-82f1-cea9884215e0",
   "metadata": {},
   "outputs": [],
   "source": [
    "# Daily returns of all Portfolios\n",
    "whale_algo_sp_df.plot(figsize=(20, 10), title=\"Daily Returns\")"
   ]
  },
  {
   "cell_type": "code",
   "execution_count": null,
   "id": "f5655e32-cce6-476a-b1af-3aacd9aad0b9",
   "metadata": {},
   "outputs": [],
   "source": [
    "# Calculate and plot cumulative returns for all portfolios. \n",
    "# Does any portfolio outperform the S&P TSX 60?\n",
    "# Answer: The clear winner is Algo 1"
   ]
  },
  {
   "cell_type": "code",
   "execution_count": null,
   "id": "a5070bc4-f775-4206-9c48-1ddf0ea60b33",
   "metadata": {},
   "outputs": [],
   "source": [
    "cumulative_returns = (1 + whale_algo_sp_df).cumprod()\n",
    "cumulative_returns.tail(1).plot(figsize=(20, 10), title=\"Comparison of Cumulative Returns\", kind=\"bar\")"
   ]
  },
  {
   "cell_type": "code",
   "execution_count": null,
   "id": "d07cbd37-161b-47a6-b078-fbe3a32c7590",
   "metadata": {},
   "outputs": [],
   "source": [
    "# Performance Analysis\n",
    "# Calculate the Daily Returns of ALL portfolios\n",
    "# Algo, Whale and S&P are already completed above.\n",
    "#shop_daily returns calulation based on shop_historical close values. Column renamed as well."
   ]
  },
  {
   "cell_type": "code",
   "execution_count": null,
   "id": "1ec6b722-25cb-47ad-b055-138772713abd",
   "metadata": {},
   "outputs": [],
   "source": [
    "shop_daily_df = shop_historical_df.rename({\"Close\":\"Shop Daily\"}, axis='columns')\n",
    "shop_daily_df = shop_daily_df['Shop Daily'].astype('float').pct_change()\n",
    "shop_daily_df"
   ]
  },
  {
   "cell_type": "code",
   "execution_count": null,
   "id": "19eb10c5-108b-4200-ad4a-8dce8fddc79f",
   "metadata": {},
   "outputs": [],
   "source": [
    "l_daily_df = l_historical_df.rename({\"Close\":\"L Daily\"}, axis='columns')\n",
    "l_daily_df = l_daily_df['L Daily'].astype('float').pct_change()\n",
    "l_daily_df"
   ]
  },
  {
   "cell_type": "code",
   "execution_count": null,
   "id": "24a91240-af20-4dab-95f0-16b2b6c21fe2",
   "metadata": {},
   "outputs": [],
   "source": [
    "otex_daily_df = otex_historical_df.rename({\"Close\":\"OTEX Daily\"}, axis='columns')\n",
    "otex_daily_df = otex_daily_df['OTEX Daily'].astype('float').pct_change()\n",
    "otex_daily_df"
   ]
  },
  {
   "cell_type": "code",
   "execution_count": null,
   "id": "ebfa4756-27ff-481b-9900-6340647a14b2",
   "metadata": {},
   "outputs": [],
   "source": [
    "# Plot the Daily returns of all portfolios\n",
    "sp_tsx_daily_df.plot(title=\"S&P TSX\", xlabel=\"Date\", ylabel=\"Daily Return\")"
   ]
  },
  {
   "cell_type": "code",
   "execution_count": null,
   "id": "eda56b0c-416f-4295-8c8f-14873e247b72",
   "metadata": {},
   "outputs": [],
   "source": [
    "# Plot the Daily returns of all portfolios\n",
    "whale_df.plot(title=\"Whale\", xlabel=\"Date\", ylabel=\"Daily Return\")"
   ]
  },
  {
   "cell_type": "code",
   "execution_count": null,
   "id": "ae1da3e6-876b-45fd-8544-d4ba68763ced",
   "metadata": {},
   "outputs": [],
   "source": [
    "# Plot the Daily returns of all portfolios\n",
    "otex_daily_df.plot(title=\"Otex\", xlabel=\"Date\", ylabel=\"Daily Return\")"
   ]
  },
  {
   "cell_type": "code",
   "execution_count": null,
   "id": "8374cc76-9b8c-4f75-8167-9a060f9bd8f5",
   "metadata": {},
   "outputs": [],
   "source": [
    "# Plot the Daily returns of all portfolios\n",
    "algo_returns_df.plot(title=\"Algo\", xlabel=\"Date\", ylabel=\"Daily Return\")"
   ]
  },
  {
   "cell_type": "code",
   "execution_count": null,
   "id": "48dbedd9-1397-47d6-887f-2e522b95c932",
   "metadata": {},
   "outputs": [],
   "source": [
    "# Plot the Daily returns of all portfolios\n",
    "shop_daily_df.plot(title=\"Shop\", xlabel=\"Date\", ylabel=\"Daily Return\")"
   ]
  },
  {
   "cell_type": "code",
   "execution_count": null,
   "id": "5ebf48d6-d48e-4fd5-ba68-665a945adeaa",
   "metadata": {
    "tags": []
   },
   "outputs": [],
   "source": [
    "# Plot the Daily returns of all portfolios\n",
    "l_daily_df.plot(title=\"L\", xlabel=\"Date\", ylabel=\"Daily Return\")"
   ]
  },
  {
   "cell_type": "code",
   "execution_count": null,
   "id": "4ffd8514-ae9d-4b86-9791-e8922b41ef33",
   "metadata": {},
   "outputs": [],
   "source": [
    "# Create a box plot for each of the returns"
   ]
  },
  {
   "cell_type": "code",
   "execution_count": null,
   "id": "7b71cc66-4787-4544-9442-9f904e44e15f",
   "metadata": {},
   "outputs": [],
   "source": [
    "whale_algo_sp_df.plot(figsize=(20, 10), title=\"All Portfolio Returns\", kind='box')"
   ]
  },
  {
   "cell_type": "code",
   "execution_count": null,
   "id": "e722a21f-9412-4774-818e-9dbec9203136",
   "metadata": {},
   "outputs": [],
   "source": [
    "# Calculating standard deviation for each portfolio. Use the concatenated file whale_algo_sp_df. "
   ]
  },
  {
   "cell_type": "code",
   "execution_count": null,
   "id": "2311259d-c0bf-4e36-a226-2536319dba00",
   "metadata": {},
   "outputs": [],
   "source": [
    "whale_algo_sp_df_std = whale_algo_sp_df.std()\n",
    "whale_algo_sp_df_std"
   ]
  },
  {
   "cell_type": "code",
   "execution_count": null,
   "id": "61db0fdf-54c8-4c7f-87ab-abbb0b7d2e62",
   "metadata": {},
   "outputs": [],
   "source": [
    "# Risk Analysis\n",
    "# Determine which portfolios are riskier than the S&P TSX 60.\n",
    "# Answer: Algo is riskier than TSX."
   ]
  },
  {
   "cell_type": "code",
   "execution_count": null,
   "id": "6ac29b75-1428-4985-9112-18e35fffb354",
   "metadata": {},
   "outputs": [],
   "source": [
    "whale_df_std = whale_df.std()\n",
    "sp_tsx_daily_df_std = sp_tsx_daily_df.std()\n",
    "algo_returns_df_std = algo_returns_df.std()\n",
    "\n",
    "whale_df_std = np.random.normal(scale=0.5, size=10000)\n",
    "sp_tsx_daily_df_std = np.random.normal(scale=1.0, size=10000)\n",
    "algo_returns_df_std = np.random.normal(scale=1.5, size=10000)\n",
    "\n",
    "portfolio_std = pd.DataFrame({\n",
    "    \"0.5 Whale\": whale_df_std,\n",
    "    \"1.0 TSX\": sp_tsx_daily_df_std,\n",
    "    \"1.5 Algo\": algo_returns_df_std\n",
    "})\n",
    "\n",
    "portfolio_std.plot.hist(stacked=True, bins=100)"
   ]
  },
  {
   "cell_type": "code",
   "execution_count": null,
   "id": "224a6903-f319-44d7-9046-9046750d7f3f",
   "metadata": {},
   "outputs": [],
   "source": [
    "# Calculate the annualised standard deviation. "
   ]
  },
  {
   "cell_type": "code",
   "execution_count": null,
   "id": "9e381861-a69a-40da-a9cc-f72b81d9da79",
   "metadata": {},
   "outputs": [],
   "source": [
    "annual_whale_df_std = whale_df_std * np.sqrt(252)\n",
    "annual_sp_tsx_daily_df_std = sp_tsx_daily_df_std * np.sqrt(252)\n",
    "annual_algo_returns_df_std = algo_returns_df_std * np.sqrt(252) \n",
    "# annual_whale_df_std\n",
    "# annual_sp_tsx_daily_df_std\n",
    "# annual_algo_returns_df_std"
   ]
  },
  {
   "cell_type": "code",
   "execution_count": null,
   "id": "f5e0d559-aaf9-421a-b827-44e08342f671",
   "metadata": {},
   "outputs": [],
   "source": [
    "# Calculate and plot the rolling standard deviation for all portfolios, using a 21-day window."
   ]
  },
  {
   "cell_type": "code",
   "execution_count": null,
   "id": "6bd5c946-1e1f-4b79-9639-fb22c4b76f6f",
   "metadata": {},
   "outputs": [],
   "source": [
    "whale_algo_sp_df.rolling(window=21).std().plot()"
   ]
  },
  {
   "cell_type": "code",
   "execution_count": null,
   "id": "800aa4ff-889c-4ba7-9079-b72bde4a4ce1",
   "metadata": {},
   "outputs": [],
   "source": [
    "whale_df.rolling(window=21).std().plot()"
   ]
  },
  {
   "cell_type": "code",
   "execution_count": null,
   "id": "74fc51f1-46ba-412c-b3d7-14f6e68f8e85",
   "metadata": {},
   "outputs": [],
   "source": [
    "sp_tsx_daily_df.rolling(window=21).std().plot()"
   ]
  },
  {
   "cell_type": "code",
   "execution_count": null,
   "id": "ee3a030d-4390-479d-9322-208709e399df",
   "metadata": {},
   "outputs": [],
   "source": [
    "algo_returns_df.rolling(window=21).std().plot()"
   ]
  },
  {
   "cell_type": "code",
   "execution_count": null,
   "id": "dff02ba2-05f3-49c4-b946-332ea9715128",
   "metadata": {},
   "outputs": [],
   "source": [
    "# Rolling Statistics\n",
    "# Calculate and plot the correlation between each stock to determine which portfolios mimic the S&P TSX 60.\n",
    "# Choose one portfolio, then calculate and plot the 60-day rolling beta between that portfolio and the S&P TSX 60.\n",
    "# beta = covariance[0,1]/covariance[1,1]\n",
    " \n",
    "# Follow these steps:\n",
    "# Using the daily returns, calculate the Sharpe ratios and visualise them in a bar plot.\n",
    "# Determine whether the algorithmic strategies outperform both the market (S&P TSX 60) and the whales portfolios."
   ]
  },
  {
   "cell_type": "code",
   "execution_count": null,
   "id": "8e49abc8-6ed4-4885-8ff6-aaee1273e704",
   "metadata": {},
   "outputs": [],
   "source": [
    "# Correlation \n",
    "whale_corr = whale_algo_sp_df.corr()\n",
    "whale_corr.head()"
   ]
  },
  {
   "cell_type": "code",
   "execution_count": null,
   "id": "4ea3dfaf-392e-4f30-b17b-eaaa381ccfd4",
   "metadata": {},
   "outputs": [],
   "source": [
    "whale_corr.plot(figsize=(20,10), title=\"Correlation between portfolios\")\n",
    "# Soros Fund Management correlates closely to S&P TSX."
   ]
  },
  {
   "cell_type": "code",
   "execution_count": null,
   "id": "5a7bbe7f-09fa-4d4f-a59e-32348591854a",
   "metadata": {},
   "outputs": [],
   "source": [
    "# Choose one portfolio, then calculate and plot the 60-day rolling beta between that portfolio and the S&P TSX 60.\n",
    "# beta = covariance[0,1]/covariance[1,1]"
   ]
  },
  {
   "cell_type": "code",
   "execution_count": null,
   "id": "f98a5953-1436-4888-8ab0-f4d941ded28b",
   "metadata": {},
   "outputs": [],
   "source": [
    "soros_cov = whale_algo_sp_df[\"SOROS FUND MANAGEMENT LLC\"].rolling(window=60).cov(whale_algo_sp_df[\"S&P Daily\"])\n",
    "# soros_cov\n",
    "soros_cov.plot()"
   ]
  },
  {
   "cell_type": "code",
   "execution_count": null,
   "id": "de144f21-8a36-4fcd-82bd-a3d34790f280",
   "metadata": {},
   "outputs": [],
   "source": [
    "algo_sp_corr = algo_returns_df.corr()\n",
    "# algo_sp_corr.plot(figsize=(20,10))"
   ]
  },
  {
   "cell_type": "code",
   "execution_count": null,
   "id": "c29cdf6f-391e-4b21-a8c4-f30b044ba484",
   "metadata": {},
   "outputs": [],
   "source": [
    "sp_var = whale_algo_sp_df[\"S&P Daily\"].rolling(60).var()\n",
    "sp_var"
   ]
  },
  {
   "cell_type": "code",
   "execution_count": null,
   "id": "ba0be2cd-5d87-46f6-9100-2537c95aacda",
   "metadata": {},
   "outputs": [],
   "source": [
    "beta = (soros_cov / sp_var)\n",
    "beta.plot(figsize=(20,10))"
   ]
  },
  {
   "cell_type": "code",
   "execution_count": null,
   "id": "736b0850-bb56-4932-b8ec-97c76ecedec9",
   "metadata": {},
   "outputs": [],
   "source": [
    "# Rolling Statistics Challenge: Exponentially Weighted Average\n",
    "# An alternative method to calculate a rolling window is to find the exponentially weighted moving average. \n",
    "# This is like a moving window average, but it assigns greater importance to more recent observations. \n",
    "# Try calculating the ewm Links to an external site. with a 21-day half-life."
   ]
  },
  {
   "cell_type": "code",
   "execution_count": null,
   "id": "54a4b7d2-ecad-431b-bb56-d9a7e0a598c8",
   "metadata": {},
   "outputs": [],
   "source": [
    "# run on combined portfolio for 21 days\n",
    "# For exponentially weighted calculations,use the .ewm function\n",
    "whale_ewm = whale_algo_sp_df.ewm(halflife='21 days', times=pd.DatetimeIndex(whale_algo_sp_df['S&P Daily'])).mean()\n",
    "whale_ewm"
   ]
  },
  {
   "cell_type": "code",
   "execution_count": null,
   "id": "2f65090f-59d1-40cc-a359-118163152109",
   "metadata": {},
   "outputs": [],
   "source": [
    "# Sharpe ratio calculation\n",
    "sp_tsx_daily_df_sharpe = ((sp_tsx_daily_df.mean()*252) / (sp_tsx_daily_df.std()*np.sqrt(252)))\n",
    "sp_tsx_daily_df_sharpe"
   ]
  },
  {
   "cell_type": "code",
   "execution_count": null,
   "id": "e97140c4-6032-4423-81e9-b16552ef3ab0",
   "metadata": {},
   "outputs": [],
   "source": [
    "# Sharpe ratio calculation\n",
    "whale_df_sharpe = ((whale_df.mean()*252) / (whale_df.std()*np.sqrt(252)))\n",
    "whale_df_sharpe"
   ]
  },
  {
   "cell_type": "code",
   "execution_count": null,
   "id": "6bb92b57-823f-4df9-91ac-9d8f69e5476b",
   "metadata": {},
   "outputs": [],
   "source": [
    "# Sharpe ratio calculation\n",
    "algo_returns_df_sharpe = ((algo_returns_df.mean()*252) / (algo_returns_df.std()*np.sqrt(252)))\n",
    "algo_returns_df_sharpe"
   ]
  },
  {
   "cell_type": "code",
   "execution_count": null,
   "id": "a5b5e30c-e4c4-4269-b804-43dbf5bb4966",
   "metadata": {},
   "outputs": [],
   "source": [
    "# Sharpe ratio calculation\n",
    "shop_daily_df_sharpe = ((shop_daily_df.mean()*252) / (shop_daily_df.std()*np.sqrt(252)))\n",
    "shop_daily_df_sharpe"
   ]
  },
  {
   "cell_type": "code",
   "execution_count": null,
   "id": "aee59b45-ac5e-4b58-82f4-1e50f58af253",
   "metadata": {},
   "outputs": [],
   "source": [
    "# Sharpe ratio calculation\n",
    "l_daily_df_sharpe = ((l_daily_df.mean()*252) / (l_daily_df.std()*np.sqrt(252)))\n",
    "l_daily_df_sharpe"
   ]
  },
  {
   "cell_type": "code",
   "execution_count": null,
   "id": "d41ebc9b-bc93-435a-8cfe-f84d41cacbde",
   "metadata": {},
   "outputs": [],
   "source": [
    "# Sharpe ratio calculation\n",
    "otex_daily_df_sharpe = ((otex_daily_df.mean()*252) / (otex_daily_df.std()*np.sqrt(252)))\n",
    "otex_daily_df_sharpe"
   ]
  },
  {
   "cell_type": "code",
   "execution_count": null,
   "id": "17b34fbd-6ea9-4871-a674-56f08b4f6a04",
   "metadata": {},
   "outputs": [],
   "source": [
    "# Calculate the Cumulative Returns of ALL portfolios\n",
    "sp_tsx_cum_df = (1 + sp_tsx_daily_df).cumprod()\n",
    "tsx_perf = sp_tsx_cum_df.tail(1)\n",
    "# tsx_perf.plot(kind='bar')"
   ]
  },
  {
   "cell_type": "code",
   "execution_count": null,
   "id": "fa99c402-aa86-4191-99f5-cd1295e2bf45",
   "metadata": {},
   "outputs": [],
   "source": [
    "# Calculate the Cumulative Returns of ALL portfolios\n",
    "otex_cum_df = (1 + otex_daily_df).cumprod()\n",
    "otex_perf = otex_cum_df.tail(1)\n",
    "otex_perf\n"
   ]
  },
  {
   "cell_type": "code",
   "execution_count": null,
   "id": "a36b3557-f91c-45e2-a915-df573be0b484",
   "metadata": {},
   "outputs": [],
   "source": [
    "# Calculate the Cumulative Returns of ALL portfolios\n",
    "l_cum_df = (1 + l_daily_df).cumprod()\n",
    "l_cum_perf = l_cum_df.tail(1)\n",
    "l_cum_perf"
   ]
  },
  {
   "cell_type": "code",
   "execution_count": null,
   "id": "3e7dcae5-63f7-4f00-87f0-737185daf18d",
   "metadata": {},
   "outputs": [],
   "source": [
    "# Calculate the Cumulative Returns of ALL portfolios\n",
    "shop_cum_df = (1 + shop_daily_df).cumprod()\n",
    "shop_perf = shop_cum_df.tail(1)\n",
    "shop_perf"
   ]
  },
  {
   "cell_type": "code",
   "execution_count": null,
   "id": "08d9a251-1778-40bb-8ddc-5756021516fe",
   "metadata": {},
   "outputs": [],
   "source": [
    "# Calculate the Cumulative Returns of ALL portfolios\n",
    "algo_cum_df = (1 + algo_returns_df).cumprod()\n",
    "algo_cum_df.tail(1)"
   ]
  },
  {
   "cell_type": "code",
   "execution_count": null,
   "id": "00475821-0866-4d74-8a17-46965f297192",
   "metadata": {},
   "outputs": [],
   "source": [
    "# Calculate the Cumulative Returns of ALL portfolios\n",
    "whale_cum_df = (1 + whale_df).cumprod()\n",
    "whale_cum_df.tail(1)\n",
    "whale_cum_df"
   ]
  },
  {
   "cell_type": "code",
   "execution_count": null,
   "id": "b5141461-58d9-4115-9bac-70564a0c8edb",
   "metadata": {},
   "outputs": [],
   "source": [
    "# Calculating the weighted return of the entire Whale portfolio.\n",
    "weights = [0.25, 0.25, 0.25, 0.25]\n",
    "whale_portfolio_returns = whale_cum_df.dot(weights)\n",
    "whale_perf = whale_portfolio_returns.tail(1)\n",
    "whale_perf"
   ]
  },
  {
   "cell_type": "code",
   "execution_count": null,
   "id": "229f03d0-9c72-4193-aa6d-95883a371185",
   "metadata": {},
   "outputs": [],
   "source": [
    "# Calculating the weighted return of the entire Algo portfolio.\n",
    "weights = [0.50, 0.50]\n",
    "algo_portfolio_returns = algo_cum_df.dot(weights)\n",
    "algo_perf = algo_portfolio_returns.tail(1)\n",
    "algo_perf"
   ]
  }
 ],
 "metadata": {
  "kernelspec": {
   "display_name": "Python 3 (ipykernel)",
   "language": "python",
   "name": "python3"
  },
  "language_info": {
   "codemirror_mode": {
    "name": "ipython",
    "version": 3
   },
   "file_extension": ".py",
   "mimetype": "text/x-python",
   "name": "python",
   "nbconvert_exporter": "python",
   "pygments_lexer": "ipython3",
   "version": "3.9.13"
  }
 },
 "nbformat": 4,
 "nbformat_minor": 5
}
