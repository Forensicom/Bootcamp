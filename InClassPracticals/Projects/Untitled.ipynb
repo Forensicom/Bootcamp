{
 "cells": [
  {
   "cell_type": "code",
   "execution_count": null,
   "id": "00766b40-27a1-486b-b97f-c7b6e7350a96",
   "metadata": {},
   "outputs": [],
   "source": []
  },
  {
   "cell_type": "code",
   "execution_count": null,
   "id": "55f62fb9-1443-4469-91ad-bec0c85bbdf4",
   "metadata": {},
   "outputs": [],
   "source": [
    "df_shop.loc[:, 'Lon'] = (\"-95\")\n",
    "df_shop.loc[:, 'Lat'] = (\"60\")\n",
    "df_shop.head(1)"
   ]
  },
  {
   "cell_type": "code",
   "execution_count": null,
   "id": "7dcadfd6-b7b0-4933-af3a-fa8ce98bc85e",
   "metadata": {},
   "outputs": [],
   "source": [
    "map_plot = df_shop.hvplot.points(\n",
    "    'Lon',\n",
    "    'Lat',\n",
    "     geo = True,\n",
    "     size = 'date',\n",
    "    scale = .1,\n",
    "    color='close',\n",
    "    #alpha=0.8,\n",
    "    tiles='OSM',\n",
    "    frame_width = 700,\n",
    "    frame_height = 500\n",
    "    )\n",
    "map_plot"
   ]
  }
 ],
 "metadata": {
  "kernelspec": {
   "display_name": "Python 3 (ipykernel)",
   "language": "python",
   "name": "python3"
  },
  "language_info": {
   "codemirror_mode": {
    "name": "ipython",
    "version": 3
   },
   "file_extension": ".py",
   "mimetype": "text/x-python",
   "name": "python",
   "nbconvert_exporter": "python",
   "pygments_lexer": "ipython3",
   "version": "3.9.13"
  }
 },
 "nbformat": 4,
 "nbformat_minor": 5
}
