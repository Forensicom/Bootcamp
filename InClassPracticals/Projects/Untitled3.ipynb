{
 "cells": [
  {
   "cell_type": "code",
   "execution_count": null,
   "id": "74bb0d65-98fd-4572-8b98-461cd06af86b",
   "metadata": {},
   "outputs": [],
   "source": [
    "import os\n",
    "import pandas as pd\n",
    "import requests\n",
    "import datetime\n",
    "import calendar\n",
    "from eod import EodHistoricalData\n",
    "from dotenv import load_dotenv\n",
    "\n",
    "# Creating a variable that holds the API key\n",
    "load_dotenv()\n",
    "api_key = os.getenv(\"EOD_API_KEY\")\n",
    "client = EodHistoricalData(api_key)\n",
    "\n",
    "\n",
    "https://eodhistoricaldata.com/api/exchange-symbol-list/US?api_token=64372ea719a4f5.97916520\n"
   ]
  }
 ],
 "metadata": {
  "kernelspec": {
   "display_name": "Python 3 (ipykernel)",
   "language": "python",
   "name": "python3"
  },
  "language_info": {
   "codemirror_mode": {
    "name": "ipython",
    "version": 3
   },
   "file_extension": ".py",
   "mimetype": "text/x-python",
   "name": "python",
   "nbconvert_exporter": "python",
   "pygments_lexer": "ipython3",
   "version": "3.9.13"
  }
 },
 "nbformat": 4,
 "nbformat_minor": 5
}
