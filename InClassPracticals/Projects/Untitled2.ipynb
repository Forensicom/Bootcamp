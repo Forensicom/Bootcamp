{
 "cells": [
  {
   "cell_type": "code",
   "execution_count": 4,
   "id": "6cc5dcd0-714c-4022-996b-598c9394100f",
   "metadata": {},
   "outputs": [
    {
     "data": {
      "text/plain": [
       "['_RequestHandler__append_fmt',\n",
       " '__class__',\n",
       " '__delattr__',\n",
       " '__dict__',\n",
       " '__dir__',\n",
       " '__doc__',\n",
       " '__eq__',\n",
       " '__format__',\n",
       " '__ge__',\n",
       " '__getattribute__',\n",
       " '__gt__',\n",
       " '__hash__',\n",
       " '__init__',\n",
       " '__init_subclass__',\n",
       " '__le__',\n",
       " '__lt__',\n",
       " '__module__',\n",
       " '__ne__',\n",
       " '__new__',\n",
       " '__reduce__',\n",
       " '__reduce_ex__',\n",
       " '__repr__',\n",
       " '__setattr__',\n",
       " '__sizeof__',\n",
       " '__str__',\n",
       " '__subclasshook__',\n",
       " '__weakref__',\n",
       " 'get_bulk_markets',\n",
       " 'get_calendar_earnings',\n",
       " 'get_calendar_ipos',\n",
       " 'get_calendar_splits',\n",
       " 'get_calendar_trends',\n",
       " 'get_dividends',\n",
       " 'get_economic_events',\n",
       " 'get_exchange_details',\n",
       " 'get_exchange_symbols',\n",
       " 'get_exchanges',\n",
       " 'get_financial_news',\n",
       " 'get_financial_tags',\n",
       " 'get_financial_tweets',\n",
       " 'get_fundamental_equity',\n",
       " 'get_fundamentals_bonds',\n",
       " 'get_fundamentals_bulk',\n",
       " 'get_indicator_name',\n",
       " 'get_insider_transactions',\n",
       " 'get_instrument_screener',\n",
       " 'get_instrument_ta',\n",
       " 'get_macro_indicator',\n",
       " 'get_macro_indicator_name',\n",
       " 'get_market_cap',\n",
       " 'get_prices_eod',\n",
       " 'get_prices_intraday',\n",
       " 'get_prices_live',\n",
       " 'get_screener_signals',\n",
       " 'get_search_instrument',\n",
       " 'get_sentiment',\n",
       " 'get_splits',\n",
       " 'get_stock_options',\n",
       " 'handle_request']"
      ]
     },
     "execution_count": 4,
     "metadata": {},
     "output_type": "execute_result"
    }
   ],
   "source": [
    "import os\n",
    "import pandas as pd\n",
    "import requests\n",
    "import datetime\n",
    "import calendar\n",
    "from eod import EodHistoricalData\n",
    "from dotenv import load_dotenv\n",
    "\n",
    "dir(EodHistoricalData)"
   ]
  },
  {
   "cell_type": "code",
   "execution_count": 2,
   "id": "1100eedd-cfd0-4461-b95c-b13d26dcc75a",
   "metadata": {},
   "outputs": [
    {
     "ename": "NameError",
     "evalue": "name 'get_prices_eod' is not defined",
     "output_type": "error",
     "traceback": [
      "\u001b[1;31m---------------------------------------------------------------------------\u001b[0m",
      "\u001b[1;31mNameError\u001b[0m                                 Traceback (most recent call last)",
      "\u001b[1;32m~\\AppData\\Local\\Temp\\ipykernel_17872\\3050181756.py\u001b[0m in \u001b[0;36m<module>\u001b[1;34m\u001b[0m\n\u001b[1;32m----> 1\u001b[1;33m \u001b[0mdir\u001b[0m\u001b[1;33m(\u001b[0m\u001b[0mget_prices_eod\u001b[0m\u001b[1;33m)\u001b[0m\u001b[1;33m\u001b[0m\u001b[1;33m\u001b[0m\u001b[0m\n\u001b[0m",
      "\u001b[1;31mNameError\u001b[0m: name 'get_prices_eod' is not defined"
     ]
    }
   ],
   "source": [
    "dir(get_prices_eod)"
   ]
  },
  {
   "cell_type": "code",
   "execution_count": null,
   "id": "98215c96-7920-4e62-863b-0fa47f3a70f2",
   "metadata": {},
   "outputs": [],
   "source": []
  }
 ],
 "metadata": {
  "kernelspec": {
   "display_name": "Python 3 (ipykernel)",
   "language": "python",
   "name": "python3"
  },
  "language_info": {
   "codemirror_mode": {
    "name": "ipython",
    "version": 3
   },
   "file_extension": ".py",
   "mimetype": "text/x-python",
   "name": "python",
   "nbconvert_exporter": "python",
   "pygments_lexer": "ipython3",
   "version": "3.9.13"
  }
 },
 "nbformat": 4,
 "nbformat_minor": 5
}
