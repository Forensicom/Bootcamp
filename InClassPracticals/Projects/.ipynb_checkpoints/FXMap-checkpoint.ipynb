{
 "cells": [
  {
   "cell_type": "code",
   "execution_count": null,
   "id": "0ac5a987-266e-4e99-9612-32b30e5a6e22",
   "metadata": {},
   "outputs": [],
   "source": [
    "import pandas as pd\n",
    "import hvplot.pandas\n",
    "import geoviews as gv\n",
    "gv.extension('bokeh')"
   ]
  },
  {
   "cell_type": "code",
   "execution_count": null,
   "id": "7e2d3de3-c0a0-456e-b5f2-db4da0db8020",
   "metadata": {},
   "outputs": [],
   "source": [
    "url = 'https://fred.stlouisfed.org/graph/fredgraph.csv?id=DEXCAUS'\n",
    "df = pd.read_csv(url, index_col=0, parse_dates=True)"
   ]
  },
  {
   "cell_type": "code",
   "execution_count": null,
   "id": "5b2db39b-2060-456d-9e74-ced68a2ad8de",
   "metadata": {},
   "outputs": [],
   "source": [
    "df = df[df.index >= '2010-01-01']\n",
    "df = df[['DEXCAUS']]\n",
    "df = df.dropna()"
   ]
  },
  {
   "cell_type": "code",
   "execution_count": null,
   "id": "54c8845c-a108-40f9-9194-b8870f76fc34",
   "metadata": {},
   "outputs": [],
   "source": [
    "url = 'https://raw.githubusercontent.com/plotly/datasets/master/2014_world_gdp_with_codes.csv'\n",
    "country_codes = pd.read_csv(url)\n",
    "country_codes = country_codes[['CODE', 'COUNTRY']]\n",
    "country_codes.columns = ['iso_alpha', 'country']\n",
    "df = pd.merge(df, country_codes, on='iso_alpha', how='left')\n",
    "df = df.dropna()"
   ]
  },
  {
   "cell_type": "code",
   "execution_count": null,
   "id": "c2825197-28d5-470a-8cb6-31a7ae8a68da",
   "metadata": {},
   "outputs": [],
   "source": [
    "world_map = gv.Dataset(df, kdims=['country', 'DEXCAUS']).to(hvplot.scatter(\n",
    "    geo=True, \n",
    "    global_extent=True,\n",
    "    color='DEXCAUS',\n",
    "    colorbar=True,\n",
    "    title='Daily Foreign Exchange Rates of Canadian Dollar by Country'\n",
    ")).opts(\n",
    "    projection=gv.pov('north_america', -40, 50, 1.8),\n",
    "    width=900, height=500,\n",
    "    tools=['hover']\n",
    ")\n",
    "\n",
    "world_map"
   ]
  },
  {
   "cell_type": "code",
   "execution_count": null,
   "id": "90a8b3e4-a836-49fe-87c9-8e6ad95da28f",
   "metadata": {},
   "outputs": [],
   "source": []
  }
 ],
 "metadata": {
  "kernelspec": {
   "display_name": "Python 3 (ipykernel)",
   "language": "python",
   "name": "python3"
  },
  "language_info": {
   "codemirror_mode": {
    "name": "ipython",
    "version": 3
   },
   "file_extension": ".py",
   "mimetype": "text/x-python",
   "name": "python",
   "nbconvert_exporter": "python",
   "pygments_lexer": "ipython3",
   "version": "3.9.13"
  }
 },
 "nbformat": 4,
 "nbformat_minor": 5
}
