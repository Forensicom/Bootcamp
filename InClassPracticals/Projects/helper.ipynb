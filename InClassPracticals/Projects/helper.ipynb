{
 "cells": [
  {
   "cell_type": "code",
   "execution_count": 1,
   "id": "f5f483b0-8d4f-4d6b-b702-e58626e34a4a",
   "metadata": {},
   "outputs": [],
   "source": [
    "import os\n",
    "import pandas as pd\n",
    "import requests\n",
    "import datetime\n",
    "import calendar\n",
    "from eod import EodHistoricalData\n",
    "from dotenv import load_dotenv\n",
    "\n",
    "\n",
    "load_dotenv()\n",
    "api_key = os.getenv(\"EOD_API_KEY\")\n",
    "client = EodHistoricalData(api_key)"
   ]
  },
  {
   "cell_type": "code",
   "execution_count": 2,
   "id": "e067e9c7-983d-4e01-ae09-692df25497ed",
   "metadata": {},
   "outputs": [
    {
     "data": {
      "text/plain": [
       "'\\nurl = \"https://eodhistoricaldata.com/api/exchanges-list/?api_token=64372ea719a4f5.97916520\"\\nreponse = requests.get(url)\\nprint(response)\\n\\n#Get all symbols for an exchange\\nhttps://eodhistoricaldata.com/api/exchange-symbol-list/XTKS?api_token=64372ea719a4f5.97916520&delisted=1\\n\\n#Get all exchanges\\nhttps://stockmarketmba.com/globalstockexchanges.php\\n\\nAll indices\\nhttps://eodhistoricaldata.com/financial-apis-blog/index-constituents-or-index-components-api/\\nhttps://eodhistoricaldata.com/api/fundamentals/XAUUSD.FOREX?api_token=64372ea719a4f5.97916520\\n'"
      ]
     },
     "execution_count": 2,
     "metadata": {},
     "output_type": "execute_result"
    }
   ],
   "source": [
    "'''\n",
    "url = \"https://eodhistoricaldata.com/api/exchanges-list/?api_token=64372ea719a4f5.97916520\"\n",
    "reponse = requests.get(url)\n",
    "print(response)\n",
    "\n",
    "#Get all symbols for an exchange\n",
    "https://eodhistoricaldata.com/api/exchange-symbol-list/XTKS?api_token=64372ea719a4f5.97916520&delisted=1\n",
    "\n",
    "#Get all exchanges\n",
    "https://stockmarketmba.com/globalstockexchanges.php\n",
    "\n",
    "All indices\n",
    "https://eodhistoricaldata.com/financial-apis-blog/index-constituents-or-index-components-api/\n",
    "https://eodhistoricaldata.com/api/fundamentals/XAUUSD.FOREX?api_token=64372ea719a4f5.97916520\n",
    "'''\n",
    "\n"
   ]
  },
  {
   "cell_type": "code",
   "execution_count": 8,
   "id": "e1bab329-1bd9-4c41-acf4-a099136b3794",
   "metadata": {},
   "outputs": [
    {
     "data": {
      "text/html": [
       "<div>\n",
       "<style scoped>\n",
       "    .dataframe tbody tr th:only-of-type {\n",
       "        vertical-align: middle;\n",
       "    }\n",
       "\n",
       "    .dataframe tbody tr th {\n",
       "        vertical-align: top;\n",
       "    }\n",
       "\n",
       "    .dataframe thead th {\n",
       "        text-align: right;\n",
       "    }\n",
       "</style>\n",
       "<table border=\"1\" class=\"dataframe\">\n",
       "  <thead>\n",
       "    <tr style=\"text-align: right;\">\n",
       "      <th></th>\n",
       "      <th>GOLD</th>\n",
       "    </tr>\n",
       "    <tr>\n",
       "      <th>date</th>\n",
       "      <th></th>\n",
       "    </tr>\n",
       "  </thead>\n",
       "  <tbody>\n",
       "    <tr>\n",
       "      <th>2001-01-02</th>\n",
       "      <td>NaN</td>\n",
       "    </tr>\n",
       "    <tr>\n",
       "      <th>2001-01-03</th>\n",
       "      <td>-0.000744</td>\n",
       "    </tr>\n",
       "    <tr>\n",
       "      <th>2001-01-04</th>\n",
       "      <td>-0.004095</td>\n",
       "    </tr>\n",
       "    <tr>\n",
       "      <th>2001-01-05</th>\n",
       "      <td>0.002056</td>\n",
       "    </tr>\n",
       "    <tr>\n",
       "      <th>2001-01-08</th>\n",
       "      <td>0.001305</td>\n",
       "    </tr>\n",
       "    <tr>\n",
       "      <th>...</th>\n",
       "      <td>...</td>\n",
       "    </tr>\n",
       "    <tr>\n",
       "      <th>2023-04-06</th>\n",
       "      <td>-0.006103</td>\n",
       "    </tr>\n",
       "    <tr>\n",
       "      <th>2023-04-09</th>\n",
       "      <td>-0.001225</td>\n",
       "    </tr>\n",
       "    <tr>\n",
       "      <th>2023-04-10</th>\n",
       "      <td>-0.007933</td>\n",
       "    </tr>\n",
       "    <tr>\n",
       "      <th>2023-04-11</th>\n",
       "      <td>0.006780</td>\n",
       "    </tr>\n",
       "    <tr>\n",
       "      <th>2023-04-12</th>\n",
       "      <td>0.005756</td>\n",
       "    </tr>\n",
       "  </tbody>\n",
       "</table>\n",
       "<p>6048 rows × 1 columns</p>\n",
       "</div>"
      ],
      "text/plain": [
       "                GOLD\n",
       "date                \n",
       "2001-01-02       NaN\n",
       "2001-01-03 -0.000744\n",
       "2001-01-04 -0.004095\n",
       "2001-01-05  0.002056\n",
       "2001-01-08  0.001305\n",
       "...              ...\n",
       "2023-04-06 -0.006103\n",
       "2023-04-09 -0.001225\n",
       "2023-04-10 -0.007933\n",
       "2023-04-11  0.006780\n",
       "2023-04-12  0.005756\n",
       "\n",
       "[6048 rows x 1 columns]"
      ]
     },
     "metadata": {},
     "output_type": "display_data"
    }
   ],
   "source": [
    "ticker = \"XAUUSD.FOREX\"\n",
    "start_date = \"2001-01-01\" \n",
    "end_date = \"2023-04-12\"\n",
    "\n",
    "gold_response = client.get_prices_eod(ticker, period = 'd', from_ = start_date, to = end_date, order = 'a')\n",
    "gold_data = pd.DataFrame(gold_response)\n",
    "gold_data = gold_data.set_index('date')\n",
    "gold_data = gold_data[['close']]\n",
    "gold_data = gold_data.rename(columns={\"close\":\"GOLD\"})\n",
    "gold_data = gold_data.dropna()\n",
    "gold_data = gold_data.pct_change()\n",
    "display(gold_data)"
   ]
  },
  {
   "cell_type": "code",
   "execution_count": 4,
   "id": "2637afd7-74e7-43c0-b27b-e9bf9088dd67",
   "metadata": {},
   "outputs": [
    {
     "ename": "NameError",
     "evalue": "name 'rtsin_response' is not defined",
     "output_type": "error",
     "traceback": [
      "\u001b[1;31m---------------------------------------------------------------------------\u001b[0m",
      "\u001b[1;31mNameError\u001b[0m                                 Traceback (most recent call last)",
      "\u001b[1;32m~\\AppData\\Local\\Temp\\ipykernel_18840\\4050307350.py\u001b[0m in \u001b[0;36m<module>\u001b[1;34m\u001b[0m\n\u001b[0;32m      1\u001b[0m \u001b[0mrtsin\u001b[0m \u001b[1;33m=\u001b[0m \u001b[0mclient\u001b[0m\u001b[1;33m.\u001b[0m\u001b[0mget_exchange_symbols\u001b[0m\u001b[1;33m(\u001b[0m\u001b[0mexchange\u001b[0m\u001b[1;33m=\u001b[0m\u001b[1;34m'NYSE'\u001b[0m\u001b[1;33m)\u001b[0m\u001b[1;33m\u001b[0m\u001b[1;33m\u001b[0m\u001b[0m\n\u001b[1;32m----> 2\u001b[1;33m \u001b[0mrtsin_data\u001b[0m \u001b[1;33m=\u001b[0m \u001b[0mpd\u001b[0m\u001b[1;33m.\u001b[0m\u001b[0mDataFrame\u001b[0m\u001b[1;33m(\u001b[0m\u001b[0mrtsin_response\u001b[0m\u001b[1;33m)\u001b[0m\u001b[1;33m\u001b[0m\u001b[1;33m\u001b[0m\u001b[0m\n\u001b[0m\u001b[0;32m      3\u001b[0m \u001b[0mrtsin_data\u001b[0m \u001b[1;33m=\u001b[0m \u001b[0mrtsin_data\u001b[0m\u001b[1;33m.\u001b[0m\u001b[0mset_index\u001b[0m\u001b[1;33m(\u001b[0m\u001b[1;34m'date'\u001b[0m\u001b[1;33m)\u001b[0m\u001b[1;33m\u001b[0m\u001b[1;33m\u001b[0m\u001b[0m\n\u001b[0;32m      4\u001b[0m \u001b[1;31m#rtsin_data = rtsin_data[['close']]\u001b[0m\u001b[1;33m\u001b[0m\u001b[1;33m\u001b[0m\u001b[0m\n\u001b[0;32m      5\u001b[0m \u001b[1;31m#rtsin_data = rtsin_data.rename(columns={\"close\":\"RTSIN\"})\u001b[0m\u001b[1;33m\u001b[0m\u001b[1;33m\u001b[0m\u001b[0m\n",
      "\u001b[1;31mNameError\u001b[0m: name 'rtsin_response' is not defined"
     ]
    }
   ],
   "source": [
    "\n",
    "rtsin = client.get_exchange_symbols(exchange='NYSE')\n",
    "rtsin_data = pd.DataFrame(rtsin_response)\n",
    "rtsin_data = rtsin_data.set_index('date')\n",
    "#rtsin_data = rtsin_data[['close']]\n",
    "#rtsin_data = rtsin_data.rename(columns={\"close\":\"RTSIN\"})\n",
    "#rtsin_data = rtsin_data.dropna()\n",
    "rtsin_data.tail(100)"
   ]
  },
  {
   "cell_type": "code",
   "execution_count": 4,
   "id": "e1a8b9d4-22e4-4f38-bf34-3873327406aa",
   "metadata": {},
   "outputs": [
    {
     "ename": "NameError",
     "evalue": "name 'rtsin_response' is not defined",
     "output_type": "error",
     "traceback": [
      "\u001b[1;31m---------------------------------------------------------------------------\u001b[0m",
      "\u001b[1;31mNameError\u001b[0m                                 Traceback (most recent call last)",
      "\u001b[1;32m~\\AppData\\Local\\Temp\\ipykernel_18840\\4050307350.py\u001b[0m in \u001b[0;36m<module>\u001b[1;34m\u001b[0m\n\u001b[0;32m      1\u001b[0m \u001b[0mrtsin\u001b[0m \u001b[1;33m=\u001b[0m \u001b[0mclient\u001b[0m\u001b[1;33m.\u001b[0m\u001b[0mget_exchange_symbols\u001b[0m\u001b[1;33m(\u001b[0m\u001b[0mexchange\u001b[0m\u001b[1;33m=\u001b[0m\u001b[1;34m'NYSE'\u001b[0m\u001b[1;33m)\u001b[0m\u001b[1;33m\u001b[0m\u001b[1;33m\u001b[0m\u001b[0m\n\u001b[1;32m----> 2\u001b[1;33m \u001b[0mrtsin_data\u001b[0m \u001b[1;33m=\u001b[0m \u001b[0mpd\u001b[0m\u001b[1;33m.\u001b[0m\u001b[0mDataFrame\u001b[0m\u001b[1;33m(\u001b[0m\u001b[0mrtsin_response\u001b[0m\u001b[1;33m)\u001b[0m\u001b[1;33m\u001b[0m\u001b[1;33m\u001b[0m\u001b[0m\n\u001b[0m\u001b[0;32m      3\u001b[0m \u001b[0mrtsin_data\u001b[0m \u001b[1;33m=\u001b[0m \u001b[0mrtsin_data\u001b[0m\u001b[1;33m.\u001b[0m\u001b[0mset_index\u001b[0m\u001b[1;33m(\u001b[0m\u001b[1;34m'date'\u001b[0m\u001b[1;33m)\u001b[0m\u001b[1;33m\u001b[0m\u001b[1;33m\u001b[0m\u001b[0m\n\u001b[0;32m      4\u001b[0m \u001b[1;31m#rtsin_data = rtsin_data[['close']]\u001b[0m\u001b[1;33m\u001b[0m\u001b[1;33m\u001b[0m\u001b[0m\n\u001b[0;32m      5\u001b[0m \u001b[1;31m#rtsin_data = rtsin_data.rename(columns={\"close\":\"RTSIN\"})\u001b[0m\u001b[1;33m\u001b[0m\u001b[1;33m\u001b[0m\u001b[0m\n",
      "\u001b[1;31mNameError\u001b[0m: name 'rtsin_response' is not defined"
     ]
    }
   ],
   "source": [
    "\n",
    "rtsin = client.get_exchange_symbols(exchange='NYSE')\n",
    "rtsin_data = pd.DataFrame(rtsin_response)\n",
    "rtsin_data = rtsin_data.set_index('date')\n",
    "#rtsin_data = rtsin_data[['close']]\n",
    "#rtsin_data = rtsin_data.rename(columns={\"close\":\"RTSIN\"})\n",
    "#rtsin_data = rtsin_data.dropna()\n",
    "rtsin_data.tail(100)"
   ]
  },
  {
   "cell_type": "code",
   "execution_count": null,
   "id": "f39fd6a4-3590-43ee-b129-c19d64ce6a5c",
   "metadata": {},
   "outputs": [],
   "source": []
  }
 ],
 "metadata": {
  "kernelspec": {
   "display_name": "Python 3 (ipykernel)",
   "language": "python",
   "name": "python3"
  },
  "language_info": {
   "codemirror_mode": {
    "name": "ipython",
    "version": 3
   },
   "file_extension": ".py",
   "mimetype": "text/x-python",
   "name": "python",
   "nbconvert_exporter": "python",
   "pygments_lexer": "ipython3",
   "version": "3.9.13"
  }
 },
 "nbformat": 4,
 "nbformat_minor": 5
}
